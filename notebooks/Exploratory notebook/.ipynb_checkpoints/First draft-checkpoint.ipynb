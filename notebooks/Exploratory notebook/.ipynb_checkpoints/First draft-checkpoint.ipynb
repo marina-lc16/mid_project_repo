{
 "cells": [
  {
   "cell_type": "markdown",
   "id": "d4444bd7",
   "metadata": {},
   "source": [
    "# DATA SCIENCE JOBS: SALARIES AND TYPE OF WORKS MODELS"
   ]
  },
  {
   "cell_type": "markdown",
   "id": "842e4dab",
   "metadata": {},
   "source": [
    "## Project information"
   ]
  },
  {
   "cell_type": "markdown",
   "id": "07652428",
   "metadata": {},
   "source": [
    "In recent years, data science roles are more demanded, so it's important to understand how they are evolving in terms of positioning as job offers and their salaries.\n",
    "\n",
    "In this analysis, I will take my first Exploratory Data Analysis (EDA) and visualization project using Python, where I explored data science salaries between 2020 and 2023. \n",
    "\n",
    "The \"global salary index\" dataset comes from the ai-jobs.net website for roles in the AI, ML, Data Science space based on internal data obtanided from surveys and jobs with open salaries.\n",
    "\n",
    "This dataset is processed and updated on a weekly basis but I'll take the dataset updated on September 29th, 2023."
   ]
  },
  {
   "cell_type": "markdown",
   "id": "63937388",
   "metadata": {},
   "source": [
    "## Hypothesis"
   ]
  },
  {
   "cell_type": "code",
   "execution_count": null,
   "id": "319ad9c5",
   "metadata": {},
   "outputs": [],
   "source": []
  },
  {
   "cell_type": "markdown",
   "id": "7eaf3bf9",
   "metadata": {},
   "source": [
    "## Understanding and preprocessing the dataset"
   ]
  },
  {
   "cell_type": "markdown",
   "id": "19e76d03",
   "metadata": {},
   "source": [
    "### Importing Required Libraries"
   ]
  },
  {
   "cell_type": "code",
   "execution_count": 19,
   "id": "2f0a959c",
   "metadata": {},
   "outputs": [],
   "source": [
    "import pandas as pd\n",
    "import numpy as np\n",
    "import matplotlib.pyplot as plt\n",
    "import matplotlib.ticker as ticker\n",
    "import seaborn as sns\n",
    "sns.set_theme()\n",
    "\n",
    "%matplotlib inline"
   ]
  },
  {
   "cell_type": "markdown",
   "id": "ff64f67b",
   "metadata": {},
   "source": [
    "### Read dataset"
   ]
  },
  {
   "cell_type": "code",
   "execution_count": 22,
   "id": "35e569b4",
   "metadata": {},
   "outputs": [
    {
     "data": {
      "text/html": [
       "<div>\n",
       "<style scoped>\n",
       "    .dataframe tbody tr th:only-of-type {\n",
       "        vertical-align: middle;\n",
       "    }\n",
       "\n",
       "    .dataframe tbody tr th {\n",
       "        vertical-align: top;\n",
       "    }\n",
       "\n",
       "    .dataframe thead th {\n",
       "        text-align: right;\n",
       "    }\n",
       "</style>\n",
       "<table border=\"1\" class=\"dataframe\">\n",
       "  <thead>\n",
       "    <tr style=\"text-align: right;\">\n",
       "      <th></th>\n",
       "      <th>work_year</th>\n",
       "      <th>experience_level</th>\n",
       "      <th>employment_type</th>\n",
       "      <th>job_title</th>\n",
       "      <th>salary</th>\n",
       "      <th>salary_currency</th>\n",
       "      <th>salary_in_usd</th>\n",
       "      <th>employee_residence</th>\n",
       "      <th>remote_ratio</th>\n",
       "      <th>company_location</th>\n",
       "      <th>company_size</th>\n",
       "    </tr>\n",
       "  </thead>\n",
       "  <tbody>\n",
       "    <tr>\n",
       "      <th>0</th>\n",
       "      <td>2023</td>\n",
       "      <td>MI</td>\n",
       "      <td>FT</td>\n",
       "      <td>Data Scientist</td>\n",
       "      <td>130000</td>\n",
       "      <td>CAD</td>\n",
       "      <td>96313</td>\n",
       "      <td>CA</td>\n",
       "      <td>100</td>\n",
       "      <td>CA</td>\n",
       "      <td>S</td>\n",
       "    </tr>\n",
       "    <tr>\n",
       "      <th>1</th>\n",
       "      <td>2023</td>\n",
       "      <td>SE</td>\n",
       "      <td>FT</td>\n",
       "      <td>Machine Learning Engineer</td>\n",
       "      <td>250000</td>\n",
       "      <td>USD</td>\n",
       "      <td>250000</td>\n",
       "      <td>US</td>\n",
       "      <td>0</td>\n",
       "      <td>US</td>\n",
       "      <td>M</td>\n",
       "    </tr>\n",
       "    <tr>\n",
       "      <th>2</th>\n",
       "      <td>2023</td>\n",
       "      <td>SE</td>\n",
       "      <td>FT</td>\n",
       "      <td>Machine Learning Engineer</td>\n",
       "      <td>140000</td>\n",
       "      <td>USD</td>\n",
       "      <td>140000</td>\n",
       "      <td>US</td>\n",
       "      <td>0</td>\n",
       "      <td>US</td>\n",
       "      <td>M</td>\n",
       "    </tr>\n",
       "    <tr>\n",
       "      <th>3</th>\n",
       "      <td>2023</td>\n",
       "      <td>MI</td>\n",
       "      <td>FT</td>\n",
       "      <td>Data Analyst</td>\n",
       "      <td>45000</td>\n",
       "      <td>EUR</td>\n",
       "      <td>48585</td>\n",
       "      <td>PT</td>\n",
       "      <td>100</td>\n",
       "      <td>PT</td>\n",
       "      <td>M</td>\n",
       "    </tr>\n",
       "    <tr>\n",
       "      <th>4</th>\n",
       "      <td>2023</td>\n",
       "      <td>MI</td>\n",
       "      <td>FT</td>\n",
       "      <td>Data Analyst</td>\n",
       "      <td>40000</td>\n",
       "      <td>EUR</td>\n",
       "      <td>43187</td>\n",
       "      <td>PT</td>\n",
       "      <td>100</td>\n",
       "      <td>PT</td>\n",
       "      <td>M</td>\n",
       "    </tr>\n",
       "    <tr>\n",
       "      <th>...</th>\n",
       "      <td>...</td>\n",
       "      <td>...</td>\n",
       "      <td>...</td>\n",
       "      <td>...</td>\n",
       "      <td>...</td>\n",
       "      <td>...</td>\n",
       "      <td>...</td>\n",
       "      <td>...</td>\n",
       "      <td>...</td>\n",
       "      <td>...</td>\n",
       "      <td>...</td>\n",
       "    </tr>\n",
       "    <tr>\n",
       "      <th>495</th>\n",
       "      <td>2023</td>\n",
       "      <td>MI</td>\n",
       "      <td>FT</td>\n",
       "      <td>Data Manager</td>\n",
       "      <td>80000</td>\n",
       "      <td>USD</td>\n",
       "      <td>80000</td>\n",
       "      <td>US</td>\n",
       "      <td>0</td>\n",
       "      <td>US</td>\n",
       "      <td>M</td>\n",
       "    </tr>\n",
       "    <tr>\n",
       "      <th>496</th>\n",
       "      <td>2023</td>\n",
       "      <td>MI</td>\n",
       "      <td>FT</td>\n",
       "      <td>Data Manager</td>\n",
       "      <td>70000</td>\n",
       "      <td>USD</td>\n",
       "      <td>70000</td>\n",
       "      <td>US</td>\n",
       "      <td>0</td>\n",
       "      <td>US</td>\n",
       "      <td>M</td>\n",
       "    </tr>\n",
       "    <tr>\n",
       "      <th>497</th>\n",
       "      <td>2023</td>\n",
       "      <td>SE</td>\n",
       "      <td>FT</td>\n",
       "      <td>Data Scientist</td>\n",
       "      <td>260000</td>\n",
       "      <td>USD</td>\n",
       "      <td>260000</td>\n",
       "      <td>US</td>\n",
       "      <td>0</td>\n",
       "      <td>US</td>\n",
       "      <td>M</td>\n",
       "    </tr>\n",
       "    <tr>\n",
       "      <th>498</th>\n",
       "      <td>2023</td>\n",
       "      <td>SE</td>\n",
       "      <td>FT</td>\n",
       "      <td>Data Scientist</td>\n",
       "      <td>160000</td>\n",
       "      <td>USD</td>\n",
       "      <td>160000</td>\n",
       "      <td>US</td>\n",
       "      <td>0</td>\n",
       "      <td>US</td>\n",
       "      <td>M</td>\n",
       "    </tr>\n",
       "    <tr>\n",
       "      <th>499</th>\n",
       "      <td>2023</td>\n",
       "      <td>SE</td>\n",
       "      <td>FT</td>\n",
       "      <td>Data Manager</td>\n",
       "      <td>105000</td>\n",
       "      <td>USD</td>\n",
       "      <td>105000</td>\n",
       "      <td>US</td>\n",
       "      <td>0</td>\n",
       "      <td>US</td>\n",
       "      <td>M</td>\n",
       "    </tr>\n",
       "  </tbody>\n",
       "</table>\n",
       "<p>500 rows × 11 columns</p>\n",
       "</div>"
      ],
      "text/plain": [
       "     work_year experience_level employment_type                  job_title  \\\n",
       "0         2023               MI              FT             Data Scientist   \n",
       "1         2023               SE              FT  Machine Learning Engineer   \n",
       "2         2023               SE              FT  Machine Learning Engineer   \n",
       "3         2023               MI              FT               Data Analyst   \n",
       "4         2023               MI              FT               Data Analyst   \n",
       "..         ...              ...             ...                        ...   \n",
       "495       2023               MI              FT               Data Manager   \n",
       "496       2023               MI              FT               Data Manager   \n",
       "497       2023               SE              FT             Data Scientist   \n",
       "498       2023               SE              FT             Data Scientist   \n",
       "499       2023               SE              FT               Data Manager   \n",
       "\n",
       "     salary salary_currency  salary_in_usd employee_residence  remote_ratio  \\\n",
       "0    130000             CAD          96313                 CA           100   \n",
       "1    250000             USD         250000                 US             0   \n",
       "2    140000             USD         140000                 US             0   \n",
       "3     45000             EUR          48585                 PT           100   \n",
       "4     40000             EUR          43187                 PT           100   \n",
       "..      ...             ...            ...                ...           ...   \n",
       "495   80000             USD          80000                 US             0   \n",
       "496   70000             USD          70000                 US             0   \n",
       "497  260000             USD         260000                 US             0   \n",
       "498  160000             USD         160000                 US             0   \n",
       "499  105000             USD         105000                 US             0   \n",
       "\n",
       "    company_location company_size  \n",
       "0                 CA            S  \n",
       "1                 US            M  \n",
       "2                 US            M  \n",
       "3                 PT            M  \n",
       "4                 PT            M  \n",
       "..               ...          ...  \n",
       "495               US            M  \n",
       "496               US            M  \n",
       "497               US            M  \n",
       "498               US            M  \n",
       "499               US            M  \n",
       "\n",
       "[500 rows x 11 columns]"
      ]
     },
     "execution_count": 22,
     "metadata": {},
     "output_type": "execute_result"
    }
   ],
   "source": [
    "df = pd.read_csv('../../data/raw/salaries.csv')\n",
    "df.head(500)"
   ]
  },
  {
   "cell_type": "markdown",
   "id": "dff12641",
   "metadata": {},
   "source": [
    "### Dataset shape and information"
   ]
  },
  {
   "cell_type": "code",
   "execution_count": 14,
   "id": "5ff76ce6",
   "metadata": {},
   "outputs": [
    {
     "name": "stdout",
     "output_type": "stream",
     "text": [
      "/Users/marina/documents/marina/bootcamp/week_5/Mid_bootcamp_project/notebooks/Exploratory notebook\r\n"
     ]
    }
   ],
   "source": [
    "!pwd"
   ]
  },
  {
   "cell_type": "code",
   "execution_count": null,
   "id": "f26cf482",
   "metadata": {},
   "outputs": [],
   "source": [
    "print(\"Number of rows and columns in the dataset:\",df.shape)"
   ]
  },
  {
   "cell_type": "code",
   "execution_count": null,
   "id": "dbb533c2",
   "metadata": {
    "scrolled": true
   },
   "outputs": [],
   "source": [
    "# Information about the dataset including the index dtype and columns, non-null values and memory usage\n",
    "      \n",
    "df.info()"
   ]
  },
  {
   "cell_type": "code",
   "execution_count": null,
   "id": "73dc7437",
   "metadata": {},
   "outputs": [],
   "source": [
    "# Generate descriptive statistics\n",
    "      \n",
    "df.describe()"
   ]
  },
  {
   "cell_type": "code",
   "execution_count": null,
   "id": "602d9bf4",
   "metadata": {},
   "outputs": [],
   "source": [
    "# Exploring column names of the dataframe\n",
    "\n",
    "print(\"The column names of the dataset are::\\n\\n\",df.columns)"
   ]
  },
  {
   "cell_type": "markdown",
   "id": "970e971f",
   "metadata": {},
   "source": [
    "### Missing values"
   ]
  },
  {
   "cell_type": "code",
   "execution_count": null,
   "id": "709713b9",
   "metadata": {},
   "outputs": [],
   "source": [
    "# Exploring if the dataset contains missing values\n",
    "\n",
    "df.isnull().sum()/len(df)"
   ]
  },
  {
   "cell_type": "code",
   "execution_count": null,
   "id": "2689e63a",
   "metadata": {},
   "outputs": [],
   "source": [
    "print(\"Number of missing data in the dataset:\",df.isnull().sum().sum())"
   ]
  },
  {
   "cell_type": "markdown",
   "id": "03471cc3",
   "metadata": {},
   "source": [
    "There is no missing data so it will not be necessary to delete any columns"
   ]
  },
  {
   "cell_type": "markdown",
   "id": "23f2144e",
   "metadata": {},
   "source": [
    "### Unique values per column"
   ]
  },
  {
   "cell_type": "code",
   "execution_count": null,
   "id": "84b2176c",
   "metadata": {
    "scrolled": true
   },
   "outputs": [],
   "source": [
    "# Exploring unique values per each column of the dataset\n",
    "\n",
    "print(\"Number of unique values in columns:\\n\\n\", df.nunique())"
   ]
  },
  {
   "cell_type": "markdown",
   "id": "4120f368",
   "metadata": {},
   "source": [
    "With this exploration we can highlight some columns with many unique values, it will be important to analyze if we can work with these data or we will have to group them to reduce the size of the dataset.\n",
    "\n",
    "- Job_title\n",
    "- Salary\n",
    "- Salary_in_usd\n",
    "- Employee_residence\n",
    "- Company location"
   ]
  },
  {
   "cell_type": "markdown",
   "id": "f439b15a",
   "metadata": {},
   "source": [
    "### Overview data"
   ]
  },
  {
   "cell_type": "code",
   "execution_count": null,
   "id": "1906e6a6",
   "metadata": {},
   "outputs": [],
   "source": []
  },
  {
   "cell_type": "markdown",
   "id": "951ed0f8",
   "metadata": {},
   "source": [
    "________"
   ]
  },
  {
   "cell_type": "markdown",
   "id": "b1fd4c5f",
   "metadata": {},
   "source": [
    "## Data cleaning or transform it\n",
    "\n",
    "Once we get all the overall information we can start working with the data and think about what changes we can make to clean up the data or transform it to ensure more meaningful consistency of certain values."
   ]
  },
  {
   "cell_type": "code",
   "execution_count": null,
   "id": "0fe9c011",
   "metadata": {},
   "outputs": [],
   "source": [
    "# We need to create a copy of the original dataframe before doing any transformation on the original data\n",
    "# We will call the new df \"data_cleaning\" to recognize the process we are working with\n",
    "\n",
    "data_cleaning0 = df.copy()\n",
    "data_cleaning0.head(2)"
   ]
  },
  {
   "cell_type": "markdown",
   "id": "a31f3264",
   "metadata": {},
   "source": [
    "We will have to divide the dataset into numerical and categorical columns."
   ]
  },
  {
   "cell_type": "code",
   "execution_count": null,
   "id": "b97e99f6",
   "metadata": {
    "scrolled": true
   },
   "outputs": [],
   "source": [
    "# Before starting cleaning the numerical data we will need to transform the column \"remote_ratio\" into an object column\n",
    "\n",
    "data_cleaning = data_cleaning0.copy()\n",
    "data_cleaning['remote_ratio'] = data_cleaning['remote_ratio'].apply(str)\n",
    "\n",
    "data_cleaning.dtypes"
   ]
  },
  {
   "cell_type": "markdown",
   "id": "57e4b051",
   "metadata": {},
   "source": [
    "_______"
   ]
  },
  {
   "cell_type": "markdown",
   "id": "86e2a481",
   "metadata": {},
   "source": [
    "## Cleaning numerical data"
   ]
  },
  {
   "cell_type": "code",
   "execution_count": null,
   "id": "1d502cf8",
   "metadata": {},
   "outputs": [],
   "source": [
    "# Create new DataFrame with numericals columns\n",
    "\n",
    "numericals = data_cleaning.select_dtypes(np.number)\n",
    "numericals.head()"
   ]
  },
  {
   "cell_type": "code",
   "execution_count": null,
   "id": "52799673",
   "metadata": {},
   "outputs": [],
   "source": [
    "# Check values dtypes\n",
    "\n",
    "numericals.dtypes"
   ]
  },
  {
   "cell_type": "code",
   "execution_count": null,
   "id": "1cd82f8d",
   "metadata": {},
   "outputs": [],
   "source": [
    "# Count number of distinct elements in the numericals DataFrame \n",
    "\n",
    "numericals.nunique()"
   ]
  },
  {
   "cell_type": "markdown",
   "id": "875a79c1",
   "metadata": {},
   "source": [
    "### \"Work_year\""
   ]
  },
  {
   "cell_type": "code",
   "execution_count": null,
   "id": "8034dd11",
   "metadata": {},
   "outputs": [],
   "source": [
    "# Check the unique values\n",
    "numericals[\"work_year\"].value_counts()"
   ]
  },
  {
   "cell_type": "code",
   "execution_count": null,
   "id": "3548a0ff",
   "metadata": {},
   "outputs": [],
   "source": [
    "# plot\n",
    "fig, ax = plt.subplots()\n",
    "sns.lineplot(x=numericals[\"work_year\"].value_counts().index, y=numericals[\"work_year\"].value_counts().values, ax = ax)\n",
    "ax.set_ylabel(\"Number of jobs posted\")\n",
    "ax.xaxis.set_major_locator(ticker.MultipleLocator(1))\n",
    "ax.xaxis.set_minor_locator(ticker.MultipleLocator(1))"
   ]
  },
  {
   "cell_type": "markdown",
   "id": "128ab077",
   "metadata": {},
   "source": [
    "### \"Salary\""
   ]
  },
  {
   "cell_type": "markdown",
   "id": "1dc15b09",
   "metadata": {},
   "source": [
    "What we can take from this analysis is that there are two columns that have a number of values well above the rest, the salaries. In this case the data is duplicated because we have the same salary/job title in different currencies.\n",
    "\n",
    "As the analysis will not be focused on wage differentials between countries it's better to focus the analysis with the same currency for all job titles, in this case we have a column with salaries in USD and we will use it for clearer visibility.\n",
    "\n",
    "As a consequence, we will remove the \"salary\" column and change the name of the \"salary_in_usd\" column to \"salary\".\n",
    "\n",
    "- \"salary\"\n",
    "- \"salary_in_usd\""
   ]
  },
  {
   "cell_type": "code",
   "execution_count": null,
   "id": "422786e5",
   "metadata": {},
   "outputs": [],
   "source": [
    "# Drop \"salary\" column\n",
    "\n",
    "numericals.drop(labels=[\"salary\"], axis=1, inplace=True)\n",
    "numericals.rename(columns={\"salary_in_usd\": \"salary\"}, inplace=True)\n",
    "\n",
    "numericals.head()"
   ]
  },
  {
   "cell_type": "markdown",
   "id": "6a3654a8",
   "metadata": {},
   "source": [
    "## Qualitative approaches to detect outliers"
   ]
  },
  {
   "cell_type": "markdown",
   "id": "acb3b699",
   "metadata": {},
   "source": [
    "Technique to identify uni-dimensional outliers is to create a boxplot and to see if\n",
    "there are isolated dots quite far away from the wiskers."
   ]
  },
  {
   "cell_type": "code",
   "execution_count": null,
   "id": "3b6062fa",
   "metadata": {},
   "outputs": [],
   "source": [
    "#work_year\n",
    "\n",
    "fig, (ax_box, ax_hist) = plt.subplots(2, sharex=True, gridspec_kw={\"height_ratios\":(.15, .85)})\n",
    "sns.boxplot(data=numericals, x=\"work_year\", ax=ax_box) #display boxplot\n",
    "sns.histplot(data=numericals, x=\"work_year\", ax=ax_hist) #hist of the same column\n",
    "ax.set_ylabel(\"Number of jobs posted\")\n",
    "ax.xaxis.set_major_locator(ticker.MultipleLocator(1))\n",
    "ax.xaxis.set_minor_locator(ticker.MultipleLocator(1))\n",
    "\n",
    "plt.show() "
   ]
  },
  {
   "cell_type": "code",
   "execution_count": null,
   "id": "3fe9cdce",
   "metadata": {},
   "outputs": [],
   "source": [
    "# Compute the skewness\n",
    "(numericals['work_year'].skew() > 2) or (numericals['work_year'].skew() < -2), numericals['work_year'].skew()"
   ]
  },
  {
   "cell_type": "markdown",
   "id": "9bd0fc22",
   "metadata": {},
   "source": [
    "We have a negative skew on the \"work_year\" column.\n",
    "That means a longer tail on the left side of the distribution, or in other words, is the direction or weight of the distribution. \n",
    "\n",
    "We have more values from 2023 on our dataset, and just few from 2020 (outliers)."
   ]
  },
  {
   "cell_type": "code",
   "execution_count": null,
   "id": "ab425667",
   "metadata": {},
   "outputs": [],
   "source": [
    "#salary\n",
    "\n",
    "fig, (ax_box, ax_hist) = plt.subplots(2, sharex=True, gridspec_kw={\"height_ratios\":(.15, .85)})\n",
    "sns.boxplot(data=numericals, x=\"salary\", ax=ax_box) #display boxplot\n",
    "sns.histplot(data=numericals, x=\"salary\", ax=ax_hist) #hist of the same column\n",
    "plt.show() "
   ]
  },
  {
   "cell_type": "code",
   "execution_count": null,
   "id": "f9bad97f",
   "metadata": {},
   "outputs": [],
   "source": [
    "# Compute the skewness\n",
    "(numericals['salary'].skew() > 2) or (numericals['salary'].skew() < -2), numericals['salary'].skew()"
   ]
  },
  {
   "cell_type": "markdown",
   "id": "fcaf0938",
   "metadata": {},
   "source": [
    "For the \"salary\" column we have a little positive skew.\n",
    "That means a longer tail on the right side of the distribution.\n",
    "Just few salaries are between 30-40K."
   ]
  },
  {
   "cell_type": "markdown",
   "id": "a335eaa7",
   "metadata": {},
   "source": [
    "_____"
   ]
  },
  {
   "cell_type": "markdown",
   "id": "829e69f4",
   "metadata": {},
   "source": [
    "## Cleaning categorical data"
   ]
  },
  {
   "cell_type": "markdown",
   "id": "b00433c2",
   "metadata": {},
   "source": [
    "Now, we will proceed to pre-processing the categorical data (clean and transformed).\n",
    "\n",
    "Transform categorical data (encoded) https://www.datacamp.com/tutorial/categorical-data\n",
    "\n",
    "Confirm if it's necessary or not"
   ]
  },
  {
   "cell_type": "code",
   "execution_count": null,
   "id": "c894e9f5",
   "metadata": {},
   "outputs": [],
   "source": [
    "# Create new DataFrame with categoricals columns\n",
    "\n",
    "categoricals = data_cleaning.select_dtypes([object])\n",
    "categoricals.head()"
   ]
  },
  {
   "cell_type": "code",
   "execution_count": null,
   "id": "50a3b162",
   "metadata": {},
   "outputs": [],
   "source": [
    "categoricals.value_counts()"
   ]
  },
  {
   "cell_type": "markdown",
   "id": "d27431f8",
   "metadata": {},
   "source": [
    "Looking at the values included in each column we can see that some of them may be confusing, the current values  don't help us to understand the real meaning.\n",
    "\n",
    "The columns affected are:\n",
    "\n",
    "- \"experience_level\"\n",
    "- \"employment_type\"\n",
    "- \"employee_residence\"\n",
    "- \"remote_ratio\"\n",
    "- \"company_location\"\n",
    "- \"company_size\"\n",
    "\n",
    "We will need to evaluate individually to define if we need to replace or group them."
   ]
  },
  {
   "cell_type": "markdown",
   "id": "ea230f77",
   "metadata": {},
   "source": [
    "### \"Experience_level\""
   ]
  },
  {
   "cell_type": "code",
   "execution_count": null,
   "id": "d55211c8",
   "metadata": {},
   "outputs": [],
   "source": [
    "# Check the unique values\n",
    "categoricals[\"experience_level\"].value_counts()"
   ]
  },
  {
   "cell_type": "code",
   "execution_count": null,
   "id": "5ff0edb8",
   "metadata": {},
   "outputs": [],
   "source": [
    "\"\"\"We know that the real meanings per each value are:\n",
    "    SE - Senior\n",
    "    MI - Mid\n",
    "    EN - Entry\n",
    "    EX - Executive\n",
    "    \n",
    "    We need to apply a <.replace> to replace each value with its real meaning \"\"\"\n",
    "\n",
    "replace_cat = categoricals.copy()\n",
    "replace_cat.experience_level.replace(['EN','MI','SE', 'EX'], ['entry', 'mid', 'senior', 'executive'], inplace = True)"
   ]
  },
  {
   "cell_type": "code",
   "execution_count": null,
   "id": "c61f76e8",
   "metadata": {},
   "outputs": [],
   "source": [
    "# Check if the substitution has been applied correctly\n",
    "\n",
    "replace_cat[\"experience_level\"].value_counts()"
   ]
  },
  {
   "cell_type": "code",
   "execution_count": null,
   "id": "f0f58162",
   "metadata": {},
   "outputs": [],
   "source": [
    "#  create a plot with Tableau"
   ]
  },
  {
   "cell_type": "code",
   "execution_count": null,
   "id": "2bc86c19",
   "metadata": {},
   "outputs": [],
   "source": []
  },
  {
   "cell_type": "markdown",
   "id": "63195ae8",
   "metadata": {},
   "source": [
    "### \"Employment_type\""
   ]
  },
  {
   "cell_type": "code",
   "execution_count": null,
   "id": "b7c1c188",
   "metadata": {},
   "outputs": [],
   "source": [
    "# Check the unique values\n",
    "categoricals[\"employment_type\"].value_counts()"
   ]
  },
  {
   "cell_type": "code",
   "execution_count": null,
   "id": "4ecc396b",
   "metadata": {},
   "outputs": [],
   "source": [
    "\"\"\"We know that the real meanings per each value are:\n",
    "    FT - Full_time\n",
    "    CT - Contract\n",
    "    PT - Part_Time\n",
    "    FL - Freelance\n",
    "    \n",
    "    We need to apply a <.replace> to replace each value with its real meaning \"\"\"\n",
    "\n",
    "replace_cat.employment_type.replace(['FT','CT' , 'PT', 'FL'], ['full_time', 'contract', 'part_Time', 'freelance'], inplace = True)"
   ]
  },
  {
   "cell_type": "code",
   "execution_count": null,
   "id": "0d01c40e",
   "metadata": {},
   "outputs": [],
   "source": [
    "replace_cat['employment_type'].value_counts()"
   ]
  },
  {
   "cell_type": "code",
   "execution_count": null,
   "id": "87a82879",
   "metadata": {},
   "outputs": [],
   "source": [
    "# plot\n",
    "\n"
   ]
  },
  {
   "cell_type": "markdown",
   "id": "f5f77154",
   "metadata": {},
   "source": [
    "### \"Remote_ratio\""
   ]
  },
  {
   "cell_type": "code",
   "execution_count": null,
   "id": "dc388a27",
   "metadata": {},
   "outputs": [],
   "source": [
    "# Check the unique values\n",
    "categoricals[\"remote_ratio\"].value_counts()"
   ]
  },
  {
   "cell_type": "code",
   "execution_count": null,
   "id": "718d1d8d",
   "metadata": {},
   "outputs": [],
   "source": [
    "\"\"\"We know that the real meanings per each value are:\n",
    "    0 - No_remote/On_site\n",
    "    50 - Hybrid\n",
    "    100 - Remote\n",
    "    \n",
    "    We need to apply a <.replace> to replace each value with its real meaning \"\"\"\n",
    "\n",
    "replace_cat.remote_ratio.replace(['0','50','100'], ['on_site', 'hybrid', 'remote'], inplace = True)"
   ]
  },
  {
   "cell_type": "code",
   "execution_count": null,
   "id": "6e964798",
   "metadata": {},
   "outputs": [],
   "source": [
    "replace_cat['remote_ratio'].value_counts()"
   ]
  },
  {
   "cell_type": "code",
   "execution_count": null,
   "id": "a503154f",
   "metadata": {},
   "outputs": [],
   "source": [
    " # create a plot"
   ]
  },
  {
   "cell_type": "markdown",
   "id": "08e81826",
   "metadata": {},
   "source": [
    "### \"Company_size\""
   ]
  },
  {
   "cell_type": "code",
   "execution_count": null,
   "id": "8dd44af1",
   "metadata": {},
   "outputs": [],
   "source": [
    "# Check the unique values\n",
    "categoricals[\"company_size\"].value_counts()"
   ]
  },
  {
   "cell_type": "code",
   "execution_count": null,
   "id": "a5ae03a3",
   "metadata": {},
   "outputs": [],
   "source": [
    "\"\"\"We know that the real meanings per each value are:\n",
    "    S - small\n",
    "    M - medium\n",
    "    L - marge\n",
    "    \n",
    "    We need to apply a <.replace> to replace each value with its real meaning \"\"\"\n",
    "\n",
    "replace_cat.company_size.replace(['S','M','L'], ['small', 'medium', 'large'], inplace = True)"
   ]
  },
  {
   "cell_type": "code",
   "execution_count": null,
   "id": "0dc95e60",
   "metadata": {},
   "outputs": [],
   "source": [
    "replace_cat[\"company_size\"].value_counts()"
   ]
  },
  {
   "cell_type": "code",
   "execution_count": null,
   "id": "138ee7f0",
   "metadata": {},
   "outputs": [],
   "source": [
    " # create a plot"
   ]
  },
  {
   "cell_type": "markdown",
   "id": "d36b34e3",
   "metadata": {},
   "source": [
    "### \"Salary_currency\""
   ]
  },
  {
   "cell_type": "markdown",
   "id": "04577d08",
   "metadata": {},
   "source": [
    "As mentioned above, the salary analysis will be done only with USD currency, that is why we can delete the column \"salary_currency\" to avoid having data that could create interferences in our analysis.\n"
   ]
  },
  {
   "cell_type": "code",
   "execution_count": null,
   "id": "286d7000",
   "metadata": {},
   "outputs": [],
   "source": [
    "# Check the unique values\n",
    "categoricals[\"salary_currency\"].value_counts()"
   ]
  },
  {
   "cell_type": "code",
   "execution_count": null,
   "id": "d995ed71",
   "metadata": {},
   "outputs": [],
   "source": [
    "replace_cat.drop([\"salary_currency\"], axis=1, inplace=True)"
   ]
  },
  {
   "cell_type": "code",
   "execution_count": null,
   "id": "a3ea3cd7",
   "metadata": {},
   "outputs": [],
   "source": [
    "#Check if the column has been dropped correctly\n",
    "\n",
    "replace_cat.head()"
   ]
  },
  {
   "cell_type": "code",
   "execution_count": null,
   "id": "37c8a746",
   "metadata": {},
   "outputs": [],
   "source": [
    " # create a plot"
   ]
  },
  {
   "cell_type": "code",
   "execution_count": null,
   "id": "4e570301",
   "metadata": {},
   "outputs": [],
   "source": []
  },
  {
   "cell_type": "markdown",
   "id": "cfed349e",
   "metadata": {},
   "source": [
    "### \"Employee_residence\" & \"Company_location\""
   ]
  },
  {
   "cell_type": "code",
   "execution_count": null,
   "id": "170dbeac",
   "metadata": {},
   "outputs": [],
   "source": [
    "print(\"Number of unique values in employee_residence column is:\\n\\n\", categoricals[\"employee_residence\"].nunique())"
   ]
  },
  {
   "cell_type": "code",
   "execution_count": null,
   "id": "86bb6f98",
   "metadata": {},
   "outputs": [],
   "source": [
    "print(\"Number of unique values in company_locations column is:\\n\\n\", categoricals[\"company_location\"].nunique())"
   ]
  },
  {
   "cell_type": "markdown",
   "id": "2717ec63",
   "metadata": {},
   "source": [
    "We want to replace the codes for locations or country names\n",
    "\n",
    "Python has a function called \"pycountry\" (https://pypi.org/project/pycountry/) that provides the ISO databases for countries and others. We know that the <codes> in our database are encoded based on the \"ISO\" because it's specified in the \"Legend\" in the web from where we have extracted the database (https://ai-jobs.net/salaries/)."
   ]
  },
  {
   "cell_type": "code",
   "execution_count": null,
   "id": "8c487bf7",
   "metadata": {},
   "outputs": [],
   "source": [
    "\"\"\"We want to replace the locations and countries residence codes \n",
    "for employees and companies to reduce the values size.\n",
    "\n",
    "We will need to use a For Loop to go from code to code and create a new list with the new value names.\n",
    "\n",
    "We will need to use the library \"pycountry\":\n",
    "\n",
    "#Convert country code ISO 3166-1 alpha-2 to country name:\n",
    "#country_alpha2_to_country_name(cn_name_format=\"default\") \n",
    "\"\"\"\n",
    "\n",
    "from pycountry import countries\n",
    "\n",
    "employee_country = []\n",
    "company_country = []\n",
    "\n",
    "for country_code in replace_cat.employee_residence:\n",
    "   employee_country.append(pycountry.countries.get(alpha_2=country_code).name)\n",
    "\n",
    "for country_code in replace_cat.company_location:\n",
    "    company_country.append(pycountry.countries.get(alpha_2=country_code).name)\n",
    "\n",
    "replace_cat['employee_residence'] = employee_country\n",
    "replace_cat['company_location'] = company_country\n",
    "\n",
    "\n",
    "#https://snyk.io/advisor/python/pycountry/functions/pycountry.countries.get"
   ]
  },
  {
   "cell_type": "code",
   "execution_count": null,
   "id": "6d5e5b97",
   "metadata": {},
   "outputs": [],
   "source": [
    "# Check if the replacement from country code to coutnry names has ben placed correctly\n",
    "\n",
    "replace_cat.head()"
   ]
  },
  {
   "cell_type": "code",
   "execution_count": null,
   "id": "11ce41a1",
   "metadata": {},
   "outputs": [],
   "source": [
    "# create a plot"
   ]
  },
  {
   "cell_type": "code",
   "execution_count": null,
   "id": "c93e4110",
   "metadata": {},
   "outputs": [],
   "source": []
  },
  {
   "cell_type": "code",
   "execution_count": null,
   "id": "895183ec",
   "metadata": {},
   "outputs": [],
   "source": []
  },
  {
   "cell_type": "markdown",
   "id": "01f51ff2",
   "metadata": {},
   "source": [
    "### \"Job_title\""
   ]
  },
  {
   "cell_type": "code",
   "execution_count": null,
   "id": "0b715e72",
   "metadata": {},
   "outputs": [],
   "source": [
    "# Check the unique values\n",
    "categoricals[\"job_title\"].value_counts()"
   ]
  },
  {
   "cell_type": "code",
   "execution_count": null,
   "id": "9892d15c",
   "metadata": {},
   "outputs": [],
   "source": [
    "# Create the original dataframe\n",
    "df = pd.DataFrame({'Name': ['John', 'Mary', 'Jane'],\n",
    "                   'Age': [25, 30, 35]})\n",
    "\n",
    "# Define the function to categorize ages\n",
    "def categorize_age(age):\n",
    "    if age < 30:\n",
    "        return 'Young'\n",
    "    elif age >= 30 and age <= 40:\n",
    "        return 'Middle-aged'\n",
    "    else:\n",
    "        return 'Elderly'\n",
    "\n",
    "# Apply the function to the Age column using the apply() function\n",
    "df['Category'] = df['Age'].apply(categorize_age)\n",
    "\n",
    "# Print the resulting dataframe\n",
    "print(df)"
   ]
  },
  {
   "cell_type": "code",
   "execution_count": null,
   "id": "fceec356",
   "metadata": {},
   "outputs": [],
   "source": []
  }
 ],
 "metadata": {
  "kernelspec": {
   "display_name": "environment_mbp",
   "language": "python",
   "name": "environment_mbp"
  },
  "language_info": {
   "codemirror_mode": {
    "name": "ipython",
    "version": 3
   },
   "file_extension": ".py",
   "mimetype": "text/x-python",
   "name": "python",
   "nbconvert_exporter": "python",
   "pygments_lexer": "ipython3",
   "version": "3.11.3"
  }
 },
 "nbformat": 4,
 "nbformat_minor": 5
}
