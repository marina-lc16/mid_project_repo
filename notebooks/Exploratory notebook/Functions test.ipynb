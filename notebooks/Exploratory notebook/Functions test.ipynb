{
 "cells": [
  {
   "cell_type": "code",
   "execution_count": null,
   "id": "347b1646",
   "metadata": {},
   "outputs": [],
   "source": [
    "## Cleaning\n",
    "\n",
    "country and residence\n",
    "\n",
    "\n",
    "\"\"\"\" We want to replace the locations and countries residence codes \n",
    "for employees and companies to reduce the values size\n",
    "\n",
    "We will need to use a For Loop to go from code to code \n",
    "\n",
    "\"\"\"\"\n",
    "\n",
    "residence_country = []\n",
    "company_country = []\n",
    "\n",
    "for country_code in df.employee_residence:\n",
    "    residence_country.append(pycountry.countries.get(alpha_2=country_code).name)\n",
    "\n",
    "for country_code in df.company_location:\n",
    "    company_country.append(pycountry.countries.get(alpha_2=country_code).name)\n",
    "\n",
    "df['employee_residence'] = residence_country\n",
    "df['company_location'] = company_country\n",
    "\n",
    "\n",
    "https://snyk.io/advisor/python/pycountry/functions/pycountry.countries.get"
   ]
  }
 ],
 "metadata": {
  "kernelspec": {
   "display_name": "Python 3 (ipykernel)",
   "language": "python",
   "name": "python3"
  },
  "language_info": {
   "codemirror_mode": {
    "name": "ipython",
    "version": 3
   },
   "file_extension": ".py",
   "mimetype": "text/x-python",
   "name": "python",
   "nbconvert_exporter": "python",
   "pygments_lexer": "ipython3",
   "version": "3.11.3"
  }
 },
 "nbformat": 4,
 "nbformat_minor": 5
}
