{
 "cells": [
  {
   "cell_type": "markdown",
   "id": "d4444bd7",
   "metadata": {},
   "source": [
    "# DATA SCIENCE JOBS: SALARIES AND TYPE OF WORKS MODELS"
   ]
  },
  {
   "cell_type": "markdown",
   "id": "842e4dab",
   "metadata": {},
   "source": [
    "##  Data_visualization"
   ]
  },
  {
   "cell_type": "markdown",
   "id": "00a8cb3e",
   "metadata": {},
   "source": [
    "Once we have the new clean dataset we can start working with the Data visualization, the process of graphical representation of information and data, by using visual elements like charts, graphs, and maps, and data visualization tools like Python or Tableau that provide an accessible way to see and understand patternd, trends, and outliers in data."
   ]
  },
  {
   "cell_type": "markdown",
   "id": "19e76d03",
   "metadata": {},
   "source": [
    "### Importing Required Libraries"
   ]
  },
  {
   "cell_type": "code",
   "execution_count": 1,
   "id": "2f0a959c",
   "metadata": {},
   "outputs": [],
   "source": [
    "import pandas as pd\n",
    "import numpy as np\n",
    "import matplotlib.pyplot as plt\n",
    "import matplotlib.ticker as ticker\n",
    "import seaborn as sns\n",
    "import pycountry\n",
    "from pycountry import countries\n",
    "sns.set_theme()\n",
    "\n",
    "%matplotlib inline"
   ]
  },
  {
   "cell_type": "markdown",
   "id": "ff64f67b",
   "metadata": {},
   "source": [
    "### Read dataset"
   ]
  },
  {
   "cell_type": "code",
   "execution_count": 10,
   "id": "35e569b4",
   "metadata": {},
   "outputs": [
    {
     "data": {
      "text/html": [
       "<div>\n",
       "<style scoped>\n",
       "    .dataframe tbody tr th:only-of-type {\n",
       "        vertical-align: middle;\n",
       "    }\n",
       "\n",
       "    .dataframe tbody tr th {\n",
       "        vertical-align: top;\n",
       "    }\n",
       "\n",
       "    .dataframe thead th {\n",
       "        text-align: right;\n",
       "    }\n",
       "</style>\n",
       "<table border=\"1\" class=\"dataframe\">\n",
       "  <thead>\n",
       "    <tr style=\"text-align: right;\">\n",
       "      <th></th>\n",
       "      <th>work_year</th>\n",
       "      <th>salary</th>\n",
       "      <th>experience_level</th>\n",
       "      <th>employment_type</th>\n",
       "      <th>job_title</th>\n",
       "      <th>employee_residence</th>\n",
       "      <th>remote_ratio</th>\n",
       "      <th>company_location</th>\n",
       "      <th>company_size</th>\n",
       "      <th>job_area</th>\n",
       "    </tr>\n",
       "  </thead>\n",
       "  <tbody>\n",
       "    <tr>\n",
       "      <th>0</th>\n",
       "      <td>2023</td>\n",
       "      <td>96313</td>\n",
       "      <td>mid</td>\n",
       "      <td>full_time</td>\n",
       "      <td>Data Scientist</td>\n",
       "      <td>Canada</td>\n",
       "      <td>remote</td>\n",
       "      <td>Canada</td>\n",
       "      <td>small</td>\n",
       "      <td>Data</td>\n",
       "    </tr>\n",
       "    <tr>\n",
       "      <th>1</th>\n",
       "      <td>2023</td>\n",
       "      <td>250000</td>\n",
       "      <td>senior</td>\n",
       "      <td>full_time</td>\n",
       "      <td>Machine Learning Engineer</td>\n",
       "      <td>United States</td>\n",
       "      <td>on_site</td>\n",
       "      <td>United States</td>\n",
       "      <td>medium</td>\n",
       "      <td>Machine Learning</td>\n",
       "    </tr>\n",
       "    <tr>\n",
       "      <th>2</th>\n",
       "      <td>2023</td>\n",
       "      <td>140000</td>\n",
       "      <td>senior</td>\n",
       "      <td>full_time</td>\n",
       "      <td>Machine Learning Engineer</td>\n",
       "      <td>United States</td>\n",
       "      <td>on_site</td>\n",
       "      <td>United States</td>\n",
       "      <td>medium</td>\n",
       "      <td>Machine Learning</td>\n",
       "    </tr>\n",
       "    <tr>\n",
       "      <th>3</th>\n",
       "      <td>2023</td>\n",
       "      <td>48585</td>\n",
       "      <td>mid</td>\n",
       "      <td>full_time</td>\n",
       "      <td>Data Analyst</td>\n",
       "      <td>Portugal</td>\n",
       "      <td>remote</td>\n",
       "      <td>Portugal</td>\n",
       "      <td>medium</td>\n",
       "      <td>Data</td>\n",
       "    </tr>\n",
       "    <tr>\n",
       "      <th>4</th>\n",
       "      <td>2023</td>\n",
       "      <td>43187</td>\n",
       "      <td>mid</td>\n",
       "      <td>full_time</td>\n",
       "      <td>Data Analyst</td>\n",
       "      <td>Portugal</td>\n",
       "      <td>remote</td>\n",
       "      <td>Portugal</td>\n",
       "      <td>medium</td>\n",
       "      <td>Data</td>\n",
       "    </tr>\n",
       "  </tbody>\n",
       "</table>\n",
       "</div>"
      ],
      "text/plain": [
       "   work_year  salary experience_level employment_type  \\\n",
       "0       2023   96313              mid       full_time   \n",
       "1       2023  250000           senior       full_time   \n",
       "2       2023  140000           senior       full_time   \n",
       "3       2023   48585              mid       full_time   \n",
       "4       2023   43187              mid       full_time   \n",
       "\n",
       "                   job_title employee_residence remote_ratio company_location  \\\n",
       "0             Data Scientist             Canada       remote           Canada   \n",
       "1  Machine Learning Engineer      United States      on_site    United States   \n",
       "2  Machine Learning Engineer      United States      on_site    United States   \n",
       "3               Data Analyst           Portugal       remote         Portugal   \n",
       "4               Data Analyst           Portugal       remote         Portugal   \n",
       "\n",
       "  company_size          job_area  \n",
       "0        small              Data  \n",
       "1       medium  Machine Learning  \n",
       "2       medium  Machine Learning  \n",
       "3       medium              Data  \n",
       "4       medium              Data  "
      ]
     },
     "execution_count": 10,
     "metadata": {},
     "output_type": "execute_result"
    }
   ],
   "source": [
    "read = pd.read_csv('../Clean_notebook/data_jobs.csv')\n",
    "read.head()"
   ]
  },
  {
   "cell_type": "markdown",
   "id": "dff12641",
   "metadata": {},
   "source": [
    "### Dataset shape and information"
   ]
  },
  {
   "cell_type": "code",
   "execution_count": 11,
   "id": "f26cf482",
   "metadata": {},
   "outputs": [
    {
     "name": "stdout",
     "output_type": "stream",
     "text": [
      "Number of rows and columns in the dataset: (7595, 10)\n"
     ]
    }
   ],
   "source": [
    "print(\"Number of rows and columns in the dataset:\",read.shape)"
   ]
  },
  {
   "cell_type": "code",
   "execution_count": 19,
   "id": "602d9bf4",
   "metadata": {},
   "outputs": [
    {
     "name": "stdout",
     "output_type": "stream",
     "text": [
      "The column names of the dataset are::\n",
      "\n",
      " Index(['work_year', 'salary', 'experience_level', 'employment_type',\n",
      "       'job_title', 'employee_residence', 'remote_ratio', 'company_location',\n",
      "       'company_size', 'job_area'],\n",
      "      dtype='object')\n"
     ]
    }
   ],
   "source": [
    "# Exploring column names of the dataframe\n",
    "print(\"The column names of the dataset are::\\n\\n\",read.columns)"
   ]
  },
  {
   "cell_type": "markdown",
   "id": "951ed0f8",
   "metadata": {},
   "source": [
    "________"
   ]
  },
  {
   "cell_type": "markdown",
   "id": "814347f8",
   "metadata": {},
   "source": [
    "- Top 3 highest-payed roles, and evaluate the changes between 2020-2023 \n",
    "(groupby role, agg salary, )"
   ]
  },
  {
   "cell_type": "code",
   "execution_count": 29,
   "id": "2ca1d31b",
   "metadata": {},
   "outputs": [
    {
     "ename": "SyntaxError",
     "evalue": "invalid syntax (992227684.py, line 2)",
     "output_type": "error",
     "traceback": [
      "\u001b[0;36m  Cell \u001b[0;32mIn[29], line 2\u001b[0;36m\u001b[0m\n\u001b[0;31m    salary_year = read.groupby[\"work_year\",\"job_area\"].[\"salary\"].agg('max')\u001b[0m\n\u001b[0m                                                       ^\u001b[0m\n\u001b[0;31mSyntaxError\u001b[0m\u001b[0;31m:\u001b[0m invalid syntax\n"
     ]
    }
   ],
   "source": [
    "salary_year = read.copy()\n",
    "salary_year = read.groupby[\"work_year\",\"job_area\"].[\"salary\"].agg('max')\n"
   ]
  },
  {
   "cell_type": "code",
   "execution_count": 30,
   "id": "bf4e2a3f",
   "metadata": {},
   "outputs": [
    {
     "ename": "ValueError",
     "evalue": "No axis named job_area for object type DataFrame",
     "output_type": "error",
     "traceback": [
      "\u001b[0;31m---------------------------------------------------------------------------\u001b[0m",
      "\u001b[0;31mKeyError\u001b[0m                                  Traceback (most recent call last)",
      "\u001b[0;32m~/anaconda3/lib/python3.11/site-packages/pandas/core/generic.py\u001b[0m in \u001b[0;36m?\u001b[0;34m(cls, axis)\u001b[0m\n\u001b[1;32m    513\u001b[0m             \u001b[0;32mreturn\u001b[0m \u001b[0mcls\u001b[0m\u001b[0;34m.\u001b[0m\u001b[0m_AXIS_TO_AXIS_NUMBER\u001b[0m\u001b[0;34m[\u001b[0m\u001b[0maxis\u001b[0m\u001b[0;34m]\u001b[0m\u001b[0;34m\u001b[0m\u001b[0;34m\u001b[0m\u001b[0m\n\u001b[1;32m    514\u001b[0m         \u001b[0;32mexcept\u001b[0m \u001b[0mKeyError\u001b[0m\u001b[0;34m:\u001b[0m\u001b[0;34m\u001b[0m\u001b[0;34m\u001b[0m\u001b[0m\n\u001b[0;32m--> 515\u001b[0;31m             \u001b[0;32mraise\u001b[0m \u001b[0mValueError\u001b[0m\u001b[0;34m(\u001b[0m\u001b[0;34mf\"No axis named {axis} for object type {cls.__name__}\"\u001b[0m\u001b[0;34m)\u001b[0m\u001b[0;34m\u001b[0m\u001b[0;34m\u001b[0m\u001b[0m\n\u001b[0m",
      "\u001b[0;31mKeyError\u001b[0m: 'job_area'",
      "\nDuring handling of the above exception, another exception occurred:\n",
      "\u001b[0;31mValueError\u001b[0m                                Traceback (most recent call last)",
      "\u001b[0;32m/var/folders/gv/v5jfzcbj47xc7cbd35jg33v00000gn/T/ipykernel_52110/1060459676.py\u001b[0m in \u001b[0;36m?\u001b[0;34m()\u001b[0m\n\u001b[0;32m----> 1\u001b[0;31m \u001b[0msalary_year\u001b[0m \u001b[0;34m=\u001b[0m \u001b[0mread\u001b[0m\u001b[0;34m.\u001b[0m\u001b[0mgroupby\u001b[0m\u001b[0;34m(\u001b[0m\u001b[0;34m'work_year'\u001b[0m\u001b[0;34m,\u001b[0m\u001b[0;34m'job_area'\u001b[0m\u001b[0;34m)\u001b[0m\u001b[0;34m.\u001b[0m\u001b[0mnlargest\u001b[0m\u001b[0;34m(\u001b[0m\u001b[0;36m2\u001b[0m\u001b[0;34m)\u001b[0m\u001b[0;34m.\u001b[0m\u001b[0msum\u001b[0m\u001b[0;34m(\u001b[0m\u001b[0mlevel\u001b[0m\u001b[0;34m=\u001b[0m\u001b[0;36m0\u001b[0m\u001b[0;34m)\u001b[0m\u001b[0;34m\u001b[0m\u001b[0;34m\u001b[0m\u001b[0m\n\u001b[0m",
      "\u001b[0;32m~/anaconda3/lib/python3.11/site-packages/pandas/core/frame.py\u001b[0m in \u001b[0;36m?\u001b[0;34m(self, by, axis, level, as_index, sort, group_keys, observed, dropna)\u001b[0m\n\u001b[1;32m   8246\u001b[0m         \u001b[0;32mfrom\u001b[0m \u001b[0mpandas\u001b[0m\u001b[0;34m.\u001b[0m\u001b[0mcore\u001b[0m\u001b[0;34m.\u001b[0m\u001b[0mgroupby\u001b[0m\u001b[0;34m.\u001b[0m\u001b[0mgeneric\u001b[0m \u001b[0;32mimport\u001b[0m \u001b[0mDataFrameGroupBy\u001b[0m\u001b[0;34m\u001b[0m\u001b[0;34m\u001b[0m\u001b[0m\n\u001b[1;32m   8247\u001b[0m \u001b[0;34m\u001b[0m\u001b[0m\n\u001b[1;32m   8248\u001b[0m         \u001b[0;32mif\u001b[0m \u001b[0mlevel\u001b[0m \u001b[0;32mis\u001b[0m \u001b[0;32mNone\u001b[0m \u001b[0;32mand\u001b[0m \u001b[0mby\u001b[0m \u001b[0;32mis\u001b[0m \u001b[0;32mNone\u001b[0m\u001b[0;34m:\u001b[0m\u001b[0;34m\u001b[0m\u001b[0;34m\u001b[0m\u001b[0m\n\u001b[1;32m   8249\u001b[0m             \u001b[0;32mraise\u001b[0m \u001b[0mTypeError\u001b[0m\u001b[0;34m(\u001b[0m\u001b[0;34m\"You have to supply one of 'by' and 'level'\"\u001b[0m\u001b[0;34m)\u001b[0m\u001b[0;34m\u001b[0m\u001b[0;34m\u001b[0m\u001b[0m\n\u001b[0;32m-> 8250\u001b[0;31m         \u001b[0maxis\u001b[0m \u001b[0;34m=\u001b[0m \u001b[0mself\u001b[0m\u001b[0;34m.\u001b[0m\u001b[0m_get_axis_number\u001b[0m\u001b[0;34m(\u001b[0m\u001b[0maxis\u001b[0m\u001b[0;34m)\u001b[0m\u001b[0;34m\u001b[0m\u001b[0;34m\u001b[0m\u001b[0m\n\u001b[0m\u001b[1;32m   8251\u001b[0m \u001b[0;34m\u001b[0m\u001b[0m\n\u001b[1;32m   8252\u001b[0m         return DataFrameGroupBy(\n\u001b[1;32m   8253\u001b[0m             \u001b[0mobj\u001b[0m\u001b[0;34m=\u001b[0m\u001b[0mself\u001b[0m\u001b[0;34m,\u001b[0m\u001b[0;34m\u001b[0m\u001b[0;34m\u001b[0m\u001b[0m\n",
      "\u001b[0;32m~/anaconda3/lib/python3.11/site-packages/pandas/core/generic.py\u001b[0m in \u001b[0;36m?\u001b[0;34m(cls, axis)\u001b[0m\n\u001b[1;32m    511\u001b[0m     \u001b[0;32mdef\u001b[0m \u001b[0m_get_axis_number\u001b[0m\u001b[0;34m(\u001b[0m\u001b[0mcls\u001b[0m\u001b[0;34m,\u001b[0m \u001b[0maxis\u001b[0m\u001b[0;34m:\u001b[0m \u001b[0mAxis\u001b[0m\u001b[0;34m)\u001b[0m \u001b[0;34m->\u001b[0m \u001b[0mAxisInt\u001b[0m\u001b[0;34m:\u001b[0m\u001b[0;34m\u001b[0m\u001b[0;34m\u001b[0m\u001b[0m\n\u001b[1;32m    512\u001b[0m         \u001b[0;32mtry\u001b[0m\u001b[0;34m:\u001b[0m\u001b[0;34m\u001b[0m\u001b[0;34m\u001b[0m\u001b[0m\n\u001b[1;32m    513\u001b[0m             \u001b[0;32mreturn\u001b[0m \u001b[0mcls\u001b[0m\u001b[0;34m.\u001b[0m\u001b[0m_AXIS_TO_AXIS_NUMBER\u001b[0m\u001b[0;34m[\u001b[0m\u001b[0maxis\u001b[0m\u001b[0;34m]\u001b[0m\u001b[0;34m\u001b[0m\u001b[0;34m\u001b[0m\u001b[0m\n\u001b[1;32m    514\u001b[0m         \u001b[0;32mexcept\u001b[0m \u001b[0mKeyError\u001b[0m\u001b[0;34m:\u001b[0m\u001b[0;34m\u001b[0m\u001b[0;34m\u001b[0m\u001b[0m\n\u001b[0;32m--> 515\u001b[0;31m             \u001b[0;32mraise\u001b[0m \u001b[0mValueError\u001b[0m\u001b[0;34m(\u001b[0m\u001b[0;34mf\"No axis named {axis} for object type {cls.__name__}\"\u001b[0m\u001b[0;34m)\u001b[0m\u001b[0;34m\u001b[0m\u001b[0;34m\u001b[0m\u001b[0m\n\u001b[0m",
      "\u001b[0;31mValueError\u001b[0m: No axis named job_area for object type DataFrame"
     ]
    }
   ],
   "source": [
    "salary_year = read.groupby('work_year','job_area').nlargest(2).sum(level=0)"
   ]
  },
  {
   "cell_type": "code",
   "execution_count": null,
   "id": "23a3215c",
   "metadata": {},
   "outputs": [],
   "source": [
    "df.groupby('State')['Population'].nlargest(2).sum(level=0)"
   ]
  },
  {
   "cell_type": "code",
   "execution_count": null,
   "id": "9b3d4a83",
   "metadata": {},
   "outputs": [],
   "source": []
  },
  {
   "cell_type": "code",
   "execution_count": null,
   "id": "f2f841d0",
   "metadata": {},
   "outputs": [],
   "source": []
  },
  {
   "cell_type": "code",
   "execution_count": null,
   "id": "50e0d072",
   "metadata": {},
   "outputs": [],
   "source": []
  },
  {
   "cell_type": "code",
   "execution_count": null,
   "id": "ac99611c",
   "metadata": {},
   "outputs": [],
   "source": []
  },
  {
   "cell_type": "markdown",
   "id": "ff81822d",
   "metadata": {},
   "source": [
    "- Which level of experience has the most representation?\n"
   ]
  },
  {
   "cell_type": "code",
   "execution_count": null,
   "id": "67c0a025",
   "metadata": {},
   "outputs": [],
   "source": []
  },
  {
   "cell_type": "markdown",
   "id": "9fd24f0e",
   "metadata": {},
   "source": [
    "- \"Remote_ratio VS company_size\": The size of the company influences in the overall amount of work done remotely? \n"
   ]
  },
  {
   "cell_type": "code",
   "execution_count": null,
   "id": "3223f0d2",
   "metadata": {},
   "outputs": [],
   "source": []
  },
  {
   "cell_type": "code",
   "execution_count": null,
   "id": "4157c786",
   "metadata": {},
   "outputs": [],
   "source": []
  },
  {
   "cell_type": "code",
   "execution_count": null,
   "id": "ff3b5ccd",
   "metadata": {},
   "outputs": [],
   "source": []
  },
  {
   "cell_type": "markdown",
   "id": "f4d6340c",
   "metadata": {},
   "source": [
    "- \"Remote_ratios VS Salary\": which kind of \"type of work\" has the highest salaries on 2023? has this changed over the years?\n",
    "(median per cada remote_ratio---box plot)"
   ]
  },
  {
   "cell_type": "code",
   "execution_count": null,
   "id": "1822276a",
   "metadata": {},
   "outputs": [],
   "source": []
  },
  {
   "cell_type": "code",
   "execution_count": null,
   "id": "1ab1f7b2",
   "metadata": {},
   "outputs": [],
   "source": []
  },
  {
   "cell_type": "code",
   "execution_count": null,
   "id": "05ac927b",
   "metadata": {},
   "outputs": [],
   "source": []
  },
  {
   "cell_type": "markdown",
   "id": "e38f0054",
   "metadata": {},
   "source": [
    "- \"Remote_ratios VS countries and residence\": Where are most of the full_remote workers? Is there any country that stands out in particular?"
   ]
  },
  {
   "cell_type": "code",
   "execution_count": null,
   "id": "344517b0",
   "metadata": {},
   "outputs": [],
   "source": []
  },
  {
   "cell_type": "code",
   "execution_count": null,
   "id": "3b3469d9",
   "metadata": {},
   "outputs": [],
   "source": []
  },
  {
   "cell_type": "code",
   "execution_count": null,
   "id": "47d9d3c3",
   "metadata": {},
   "outputs": [],
   "source": []
  }
 ],
 "metadata": {
  "kernelspec": {
   "display_name": "environment_mbp",
   "language": "python",
   "name": "environment_mbp"
  },
  "language_info": {
   "codemirror_mode": {
    "name": "ipython",
    "version": 3
   },
   "file_extension": ".py",
   "mimetype": "text/x-python",
   "name": "python",
   "nbconvert_exporter": "python",
   "pygments_lexer": "ipython3",
   "version": "3.11.3"
  }
 },
 "nbformat": 4,
 "nbformat_minor": 5
}
