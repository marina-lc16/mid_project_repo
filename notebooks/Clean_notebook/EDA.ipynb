{
 "cells": [
  {
   "cell_type": "markdown",
   "id": "d4444bd7",
   "metadata": {},
   "source": [
    "# <font color='blue'>DATA SCIENCE JOBS: SALARIES AND TYPE OF WORKS MODELS</font>"
   ]
  },
  {
   "cell_type": "markdown",
   "id": "a7bcd0c0",
   "metadata": {},
   "source": [
    "## Table of contents\n",
    "\n",
    "1. [Project information](#1.-Project-Information)\n",
    "\n",
    "2. [Finding all variables and understanding them](#2.-Finding-all-variables-and-understanding-them)\n",
    "\n",
    "3. [Preprocessing: Data cleaning and reduction](#3.-Preprocessing:-Data-cleaning-and-reduction)\n",
    "\n",
    "4. [Create the final DataFrame and save it](#4.-Create-the-final-DataFrame-and-save-it)"
   ]
  },
  {
   "cell_type": "markdown",
   "id": "842e4dab",
   "metadata": {},
   "source": [
    "## <font color='grey'>1. Project information</font> "
   ]
  },
  {
   "cell_type": "markdown",
   "id": "07652428",
   "metadata": {},
   "source": [
    "In recent years, data science roles are more demanded, so it's important to understand how they are evolving in terms of positioning as job offers and their salaries.\n",
    "\n",
    "In this analysis, I will take my first Exploratory Data Analysis (EDA) and visualization project using Python, where I explored data science salaries between 2020 and 2023. \n",
    "\n",
    "The \"global salary index\" dataset comes from the ai-jobs.net website for roles in the AI, ML, Data Science space based on internal data obtanided from surveys and jobs with open salaries.\n",
    "\n",
    "This dataset is processed and updated on a weekly basis but I'll take the dataset updated on September 29th, 2023."
   ]
  },
  {
   "cell_type": "markdown",
   "id": "3f4e8838",
   "metadata": {},
   "source": [
    "________"
   ]
  },
  {
   "cell_type": "markdown",
   "id": "60682a58",
   "metadata": {},
   "source": [
    "## <font color='grey'>2. Finding all variables and understanding them</font>"
   ]
  },
  {
   "cell_type": "markdown",
   "id": "19e76d03",
   "metadata": {},
   "source": [
    "### Importing Required Libraries"
   ]
  },
  {
   "cell_type": "code",
   "execution_count": 2,
   "id": "2f0a959c",
   "metadata": {},
   "outputs": [],
   "source": [
    "import pandas as pd\n",
    "import numpy as np\n",
    "import matplotlib.pyplot as plt\n",
    "import matplotlib.ticker as ticker\n",
    "import seaborn as sns\n",
    "import pycountry\n",
    "from pycountry import countries\n",
    "sns.set_theme()\n",
    "\n",
    "%matplotlib inline"
   ]
  },
  {
   "cell_type": "markdown",
   "id": "ff64f67b",
   "metadata": {},
   "source": [
    "### Read dataset"
   ]
  },
  {
   "cell_type": "code",
   "execution_count": 3,
   "id": "35e569b4",
   "metadata": {},
   "outputs": [
    {
     "data": {
      "text/html": [
       "<div>\n",
       "<style scoped>\n",
       "    .dataframe tbody tr th:only-of-type {\n",
       "        vertical-align: middle;\n",
       "    }\n",
       "\n",
       "    .dataframe tbody tr th {\n",
       "        vertical-align: top;\n",
       "    }\n",
       "\n",
       "    .dataframe thead th {\n",
       "        text-align: right;\n",
       "    }\n",
       "</style>\n",
       "<table border=\"1\" class=\"dataframe\">\n",
       "  <thead>\n",
       "    <tr style=\"text-align: right;\">\n",
       "      <th></th>\n",
       "      <th>work_year</th>\n",
       "      <th>experience_level</th>\n",
       "      <th>employment_type</th>\n",
       "      <th>job_title</th>\n",
       "      <th>salary</th>\n",
       "      <th>salary_currency</th>\n",
       "      <th>salary_in_usd</th>\n",
       "      <th>employee_residence</th>\n",
       "      <th>remote_ratio</th>\n",
       "      <th>company_location</th>\n",
       "      <th>company_size</th>\n",
       "    </tr>\n",
       "  </thead>\n",
       "  <tbody>\n",
       "    <tr>\n",
       "      <th>0</th>\n",
       "      <td>2023</td>\n",
       "      <td>MI</td>\n",
       "      <td>FT</td>\n",
       "      <td>Data Scientist</td>\n",
       "      <td>130000</td>\n",
       "      <td>CAD</td>\n",
       "      <td>96313</td>\n",
       "      <td>CA</td>\n",
       "      <td>100</td>\n",
       "      <td>CA</td>\n",
       "      <td>S</td>\n",
       "    </tr>\n",
       "    <tr>\n",
       "      <th>1</th>\n",
       "      <td>2023</td>\n",
       "      <td>SE</td>\n",
       "      <td>FT</td>\n",
       "      <td>Machine Learning Engineer</td>\n",
       "      <td>250000</td>\n",
       "      <td>USD</td>\n",
       "      <td>250000</td>\n",
       "      <td>US</td>\n",
       "      <td>0</td>\n",
       "      <td>US</td>\n",
       "      <td>M</td>\n",
       "    </tr>\n",
       "    <tr>\n",
       "      <th>2</th>\n",
       "      <td>2023</td>\n",
       "      <td>SE</td>\n",
       "      <td>FT</td>\n",
       "      <td>Machine Learning Engineer</td>\n",
       "      <td>140000</td>\n",
       "      <td>USD</td>\n",
       "      <td>140000</td>\n",
       "      <td>US</td>\n",
       "      <td>0</td>\n",
       "      <td>US</td>\n",
       "      <td>M</td>\n",
       "    </tr>\n",
       "    <tr>\n",
       "      <th>3</th>\n",
       "      <td>2023</td>\n",
       "      <td>MI</td>\n",
       "      <td>FT</td>\n",
       "      <td>Data Analyst</td>\n",
       "      <td>45000</td>\n",
       "      <td>EUR</td>\n",
       "      <td>48585</td>\n",
       "      <td>PT</td>\n",
       "      <td>100</td>\n",
       "      <td>PT</td>\n",
       "      <td>M</td>\n",
       "    </tr>\n",
       "    <tr>\n",
       "      <th>4</th>\n",
       "      <td>2023</td>\n",
       "      <td>MI</td>\n",
       "      <td>FT</td>\n",
       "      <td>Data Analyst</td>\n",
       "      <td>40000</td>\n",
       "      <td>EUR</td>\n",
       "      <td>43187</td>\n",
       "      <td>PT</td>\n",
       "      <td>100</td>\n",
       "      <td>PT</td>\n",
       "      <td>M</td>\n",
       "    </tr>\n",
       "  </tbody>\n",
       "</table>\n",
       "</div>"
      ],
      "text/plain": [
       "   work_year experience_level employment_type                  job_title  \\\n",
       "0       2023               MI              FT             Data Scientist   \n",
       "1       2023               SE              FT  Machine Learning Engineer   \n",
       "2       2023               SE              FT  Machine Learning Engineer   \n",
       "3       2023               MI              FT               Data Analyst   \n",
       "4       2023               MI              FT               Data Analyst   \n",
       "\n",
       "   salary salary_currency  salary_in_usd employee_residence  remote_ratio  \\\n",
       "0  130000             CAD          96313                 CA           100   \n",
       "1  250000             USD         250000                 US             0   \n",
       "2  140000             USD         140000                 US             0   \n",
       "3   45000             EUR          48585                 PT           100   \n",
       "4   40000             EUR          43187                 PT           100   \n",
       "\n",
       "  company_location company_size  \n",
       "0               CA            S  \n",
       "1               US            M  \n",
       "2               US            M  \n",
       "3               PT            M  \n",
       "4               PT            M  "
      ]
     },
     "execution_count": 3,
     "metadata": {},
     "output_type": "execute_result"
    }
   ],
   "source": [
    "read = pd.read_csv('../../data/raw/salaries.csv')\n",
    "read.head(5)"
   ]
  },
  {
   "cell_type": "markdown",
   "id": "dff12641",
   "metadata": {},
   "source": [
    "### Dataset shape and information"
   ]
  },
  {
   "cell_type": "code",
   "execution_count": 4,
   "id": "f26cf482",
   "metadata": {},
   "outputs": [
    {
     "name": "stdout",
     "output_type": "stream",
     "text": [
      "Number of rows and columns in the dataset: (7595, 11)\n"
     ]
    }
   ],
   "source": [
    "print(\"Number of rows and columns in the dataset:\",read.shape)"
   ]
  },
  {
   "cell_type": "code",
   "execution_count": 5,
   "id": "dbb533c2",
   "metadata": {
    "scrolled": true
   },
   "outputs": [
    {
     "name": "stdout",
     "output_type": "stream",
     "text": [
      "<class 'pandas.core.frame.DataFrame'>\n",
      "RangeIndex: 7595 entries, 0 to 7594\n",
      "Data columns (total 11 columns):\n",
      " #   Column              Non-Null Count  Dtype \n",
      "---  ------              --------------  ----- \n",
      " 0   work_year           7595 non-null   int64 \n",
      " 1   experience_level    7595 non-null   object\n",
      " 2   employment_type     7595 non-null   object\n",
      " 3   job_title           7595 non-null   object\n",
      " 4   salary              7595 non-null   int64 \n",
      " 5   salary_currency     7595 non-null   object\n",
      " 6   salary_in_usd       7595 non-null   int64 \n",
      " 7   employee_residence  7595 non-null   object\n",
      " 8   remote_ratio        7595 non-null   int64 \n",
      " 9   company_location    7595 non-null   object\n",
      " 10  company_size        7595 non-null   object\n",
      "dtypes: int64(4), object(7)\n",
      "memory usage: 652.8+ KB\n"
     ]
    }
   ],
   "source": [
    "# Information about the dataset including the index dtype and columns, non-null values and memory usage\n",
    "      \n",
    "read.info()"
   ]
  },
  {
   "cell_type": "code",
   "execution_count": 6,
   "id": "73dc7437",
   "metadata": {},
   "outputs": [
    {
     "data": {
      "text/html": [
       "<div>\n",
       "<style scoped>\n",
       "    .dataframe tbody tr th:only-of-type {\n",
       "        vertical-align: middle;\n",
       "    }\n",
       "\n",
       "    .dataframe tbody tr th {\n",
       "        vertical-align: top;\n",
       "    }\n",
       "\n",
       "    .dataframe thead th {\n",
       "        text-align: right;\n",
       "    }\n",
       "</style>\n",
       "<table border=\"1\" class=\"dataframe\">\n",
       "  <thead>\n",
       "    <tr style=\"text-align: right;\">\n",
       "      <th></th>\n",
       "      <th>work_year</th>\n",
       "      <th>salary</th>\n",
       "      <th>salary_in_usd</th>\n",
       "      <th>remote_ratio</th>\n",
       "    </tr>\n",
       "  </thead>\n",
       "  <tbody>\n",
       "    <tr>\n",
       "      <th>count</th>\n",
       "      <td>7595.000000</td>\n",
       "      <td>7.595000e+03</td>\n",
       "      <td>7595.000000</td>\n",
       "      <td>7595.000000</td>\n",
       "    </tr>\n",
       "    <tr>\n",
       "      <th>mean</th>\n",
       "      <td>2022.695721</td>\n",
       "      <td>1.775745e+05</td>\n",
       "      <td>148861.816853</td>\n",
       "      <td>40.283081</td>\n",
       "    </tr>\n",
       "    <tr>\n",
       "      <th>std</th>\n",
       "      <td>0.573055</td>\n",
       "      <td>4.872338e+05</td>\n",
       "      <td>64152.942337</td>\n",
       "      <td>48.323066</td>\n",
       "    </tr>\n",
       "    <tr>\n",
       "      <th>min</th>\n",
       "      <td>2020.000000</td>\n",
       "      <td>1.400000e+04</td>\n",
       "      <td>15000.000000</td>\n",
       "      <td>0.000000</td>\n",
       "    </tr>\n",
       "    <tr>\n",
       "      <th>25%</th>\n",
       "      <td>2022.000000</td>\n",
       "      <td>1.052000e+05</td>\n",
       "      <td>105000.000000</td>\n",
       "      <td>0.000000</td>\n",
       "    </tr>\n",
       "    <tr>\n",
       "      <th>50%</th>\n",
       "      <td>2023.000000</td>\n",
       "      <td>1.440000e+05</td>\n",
       "      <td>142200.000000</td>\n",
       "      <td>0.000000</td>\n",
       "    </tr>\n",
       "    <tr>\n",
       "      <th>75%</th>\n",
       "      <td>2023.000000</td>\n",
       "      <td>1.897500e+05</td>\n",
       "      <td>185900.000000</td>\n",
       "      <td>100.000000</td>\n",
       "    </tr>\n",
       "    <tr>\n",
       "      <th>max</th>\n",
       "      <td>2023.000000</td>\n",
       "      <td>3.040000e+07</td>\n",
       "      <td>450000.000000</td>\n",
       "      <td>100.000000</td>\n",
       "    </tr>\n",
       "  </tbody>\n",
       "</table>\n",
       "</div>"
      ],
      "text/plain": [
       "         work_year        salary  salary_in_usd  remote_ratio\n",
       "count  7595.000000  7.595000e+03    7595.000000   7595.000000\n",
       "mean   2022.695721  1.775745e+05  148861.816853     40.283081\n",
       "std       0.573055  4.872338e+05   64152.942337     48.323066\n",
       "min    2020.000000  1.400000e+04   15000.000000      0.000000\n",
       "25%    2022.000000  1.052000e+05  105000.000000      0.000000\n",
       "50%    2023.000000  1.440000e+05  142200.000000      0.000000\n",
       "75%    2023.000000  1.897500e+05  185900.000000    100.000000\n",
       "max    2023.000000  3.040000e+07  450000.000000    100.000000"
      ]
     },
     "execution_count": 6,
     "metadata": {},
     "output_type": "execute_result"
    }
   ],
   "source": [
    "# Generate descriptive statistics\n",
    "      \n",
    "read.describe()"
   ]
  },
  {
   "cell_type": "code",
   "execution_count": 7,
   "id": "602d9bf4",
   "metadata": {},
   "outputs": [
    {
     "name": "stdout",
     "output_type": "stream",
     "text": [
      "The column names of the dataset are::\n",
      "\n",
      " Index(['work_year', 'experience_level', 'employment_type', 'job_title',\n",
      "       'salary', 'salary_currency', 'salary_in_usd', 'employee_residence',\n",
      "       'remote_ratio', 'company_location', 'company_size'],\n",
      "      dtype='object')\n"
     ]
    }
   ],
   "source": [
    "# Exploring column names of the dataframe\n",
    "\n",
    "print(\"The column names of the dataset are::\\n\\n\",read.columns)"
   ]
  },
  {
   "cell_type": "markdown",
   "id": "970e971f",
   "metadata": {},
   "source": [
    "### Missing values"
   ]
  },
  {
   "cell_type": "code",
   "execution_count": 8,
   "id": "709713b9",
   "metadata": {},
   "outputs": [
    {
     "data": {
      "text/plain": [
       "work_year             0.0\n",
       "experience_level      0.0\n",
       "employment_type       0.0\n",
       "job_title             0.0\n",
       "salary                0.0\n",
       "salary_currency       0.0\n",
       "salary_in_usd         0.0\n",
       "employee_residence    0.0\n",
       "remote_ratio          0.0\n",
       "company_location      0.0\n",
       "company_size          0.0\n",
       "dtype: float64"
      ]
     },
     "execution_count": 8,
     "metadata": {},
     "output_type": "execute_result"
    }
   ],
   "source": [
    "# Exploring if the dataset contains missing values\n",
    "\n",
    "read.isnull().sum()/len(read)"
   ]
  },
  {
   "cell_type": "code",
   "execution_count": 9,
   "id": "2689e63a",
   "metadata": {},
   "outputs": [
    {
     "name": "stdout",
     "output_type": "stream",
     "text": [
      "Number of missing data in the dataset: 0\n"
     ]
    }
   ],
   "source": [
    "print(\"Number of missing data in the dataset:\",read.isnull().sum().sum())"
   ]
  },
  {
   "cell_type": "markdown",
   "id": "03471cc3",
   "metadata": {},
   "source": [
    "There is no missing data so it will not be necessary to delete any columns"
   ]
  },
  {
   "cell_type": "markdown",
   "id": "23f2144e",
   "metadata": {},
   "source": [
    "### Unique values per column"
   ]
  },
  {
   "cell_type": "code",
   "execution_count": 10,
   "id": "84b2176c",
   "metadata": {
    "scrolled": true
   },
   "outputs": [
    {
     "name": "stdout",
     "output_type": "stream",
     "text": [
      "Number of unique values in columns:\n",
      "\n",
      " work_year                4\n",
      "experience_level         4\n",
      "employment_type          4\n",
      "job_title              118\n",
      "salary                1294\n",
      "salary_currency         22\n",
      "salary_in_usd         1566\n",
      "employee_residence      85\n",
      "remote_ratio             3\n",
      "company_location        73\n",
      "company_size             3\n",
      "dtype: int64\n"
     ]
    }
   ],
   "source": [
    "# Exploring unique values per each column of the dataset\n",
    "\n",
    "print(\"Number of unique values in columns:\\n\\n\", read.nunique())"
   ]
  },
  {
   "cell_type": "markdown",
   "id": "4120f368",
   "metadata": {},
   "source": [
    "With this exploration we can highlight some columns with many unique values, it will be important to analyze if we can work with these data or we will have to group them to reduce the size of the dataset.\n",
    "\n",
    "- Job_title\n",
    "- Salary\n",
    "- Salary_in_usd\n",
    "- Employee_residence\n",
    "- Company location"
   ]
  },
  {
   "cell_type": "markdown",
   "id": "951ed0f8",
   "metadata": {},
   "source": [
    "________"
   ]
  },
  {
   "cell_type": "markdown",
   "id": "b1fd4c5f",
   "metadata": {},
   "source": [
    "## <font color='grey'>3. Preprocessing: Data cleaning and reduction</font>\n",
    "\n",
    "Once we get all the overall information we can start working with the data and think about what changes we can make to clean up the data or transform it to ensure more meaningful consistency of certain values."
   ]
  },
  {
   "cell_type": "code",
   "execution_count": 11,
   "id": "0fe9c011",
   "metadata": {},
   "outputs": [
    {
     "data": {
      "text/html": [
       "<div>\n",
       "<style scoped>\n",
       "    .dataframe tbody tr th:only-of-type {\n",
       "        vertical-align: middle;\n",
       "    }\n",
       "\n",
       "    .dataframe tbody tr th {\n",
       "        vertical-align: top;\n",
       "    }\n",
       "\n",
       "    .dataframe thead th {\n",
       "        text-align: right;\n",
       "    }\n",
       "</style>\n",
       "<table border=\"1\" class=\"dataframe\">\n",
       "  <thead>\n",
       "    <tr style=\"text-align: right;\">\n",
       "      <th></th>\n",
       "      <th>work_year</th>\n",
       "      <th>experience_level</th>\n",
       "      <th>employment_type</th>\n",
       "      <th>job_title</th>\n",
       "      <th>salary</th>\n",
       "      <th>salary_currency</th>\n",
       "      <th>salary_in_usd</th>\n",
       "      <th>employee_residence</th>\n",
       "      <th>remote_ratio</th>\n",
       "      <th>company_location</th>\n",
       "      <th>company_size</th>\n",
       "    </tr>\n",
       "  </thead>\n",
       "  <tbody>\n",
       "    <tr>\n",
       "      <th>0</th>\n",
       "      <td>2023</td>\n",
       "      <td>MI</td>\n",
       "      <td>FT</td>\n",
       "      <td>Data Scientist</td>\n",
       "      <td>130000</td>\n",
       "      <td>CAD</td>\n",
       "      <td>96313</td>\n",
       "      <td>CA</td>\n",
       "      <td>100</td>\n",
       "      <td>CA</td>\n",
       "      <td>S</td>\n",
       "    </tr>\n",
       "    <tr>\n",
       "      <th>1</th>\n",
       "      <td>2023</td>\n",
       "      <td>SE</td>\n",
       "      <td>FT</td>\n",
       "      <td>Machine Learning Engineer</td>\n",
       "      <td>250000</td>\n",
       "      <td>USD</td>\n",
       "      <td>250000</td>\n",
       "      <td>US</td>\n",
       "      <td>0</td>\n",
       "      <td>US</td>\n",
       "      <td>M</td>\n",
       "    </tr>\n",
       "  </tbody>\n",
       "</table>\n",
       "</div>"
      ],
      "text/plain": [
       "   work_year experience_level employment_type                  job_title  \\\n",
       "0       2023               MI              FT             Data Scientist   \n",
       "1       2023               SE              FT  Machine Learning Engineer   \n",
       "\n",
       "   salary salary_currency  salary_in_usd employee_residence  remote_ratio  \\\n",
       "0  130000             CAD          96313                 CA           100   \n",
       "1  250000             USD         250000                 US             0   \n",
       "\n",
       "  company_location company_size  \n",
       "0               CA            S  \n",
       "1               US            M  "
      ]
     },
     "execution_count": 11,
     "metadata": {},
     "output_type": "execute_result"
    }
   ],
   "source": [
    "# We need to create a copy of the original dataframe before doing any transformation on the original data\n",
    "# We will call the new df \"data_cleaning\" to recognize the process we are working with\n",
    "\n",
    "data_cleaning0 = read.copy()\n",
    "data_cleaning0.head(2)"
   ]
  },
  {
   "cell_type": "markdown",
   "id": "a31f3264",
   "metadata": {},
   "source": [
    "We will have to divide the dataset into numerical and categorical columns."
   ]
  },
  {
   "cell_type": "code",
   "execution_count": 12,
   "id": "b97e99f6",
   "metadata": {
    "scrolled": true
   },
   "outputs": [
    {
     "data": {
      "text/plain": [
       "work_year              int64\n",
       "experience_level      object\n",
       "employment_type       object\n",
       "job_title             object\n",
       "salary                 int64\n",
       "salary_currency       object\n",
       "salary_in_usd          int64\n",
       "employee_residence    object\n",
       "remote_ratio          object\n",
       "company_location      object\n",
       "company_size          object\n",
       "dtype: object"
      ]
     },
     "execution_count": 12,
     "metadata": {},
     "output_type": "execute_result"
    }
   ],
   "source": [
    "# Before starting cleaning the numerical data we will need to transform the column \"remote_ratio\" into an object column\n",
    "\n",
    "data_cleaning = data_cleaning0.copy()\n",
    "data_cleaning['remote_ratio'] = data_cleaning['remote_ratio'].apply(str)\n",
    "\n",
    "data_cleaning.dtypes"
   ]
  },
  {
   "cell_type": "markdown",
   "id": "86e2a481",
   "metadata": {},
   "source": [
    "### <font color='purple'>Cleaning numerical data</font>\n"
   ]
  },
  {
   "cell_type": "code",
   "execution_count": 13,
   "id": "1d502cf8",
   "metadata": {},
   "outputs": [
    {
     "data": {
      "text/html": [
       "<div>\n",
       "<style scoped>\n",
       "    .dataframe tbody tr th:only-of-type {\n",
       "        vertical-align: middle;\n",
       "    }\n",
       "\n",
       "    .dataframe tbody tr th {\n",
       "        vertical-align: top;\n",
       "    }\n",
       "\n",
       "    .dataframe thead th {\n",
       "        text-align: right;\n",
       "    }\n",
       "</style>\n",
       "<table border=\"1\" class=\"dataframe\">\n",
       "  <thead>\n",
       "    <tr style=\"text-align: right;\">\n",
       "      <th></th>\n",
       "      <th>work_year</th>\n",
       "      <th>salary</th>\n",
       "      <th>salary_in_usd</th>\n",
       "    </tr>\n",
       "  </thead>\n",
       "  <tbody>\n",
       "    <tr>\n",
       "      <th>0</th>\n",
       "      <td>2023</td>\n",
       "      <td>130000</td>\n",
       "      <td>96313</td>\n",
       "    </tr>\n",
       "    <tr>\n",
       "      <th>1</th>\n",
       "      <td>2023</td>\n",
       "      <td>250000</td>\n",
       "      <td>250000</td>\n",
       "    </tr>\n",
       "    <tr>\n",
       "      <th>2</th>\n",
       "      <td>2023</td>\n",
       "      <td>140000</td>\n",
       "      <td>140000</td>\n",
       "    </tr>\n",
       "    <tr>\n",
       "      <th>3</th>\n",
       "      <td>2023</td>\n",
       "      <td>45000</td>\n",
       "      <td>48585</td>\n",
       "    </tr>\n",
       "    <tr>\n",
       "      <th>4</th>\n",
       "      <td>2023</td>\n",
       "      <td>40000</td>\n",
       "      <td>43187</td>\n",
       "    </tr>\n",
       "  </tbody>\n",
       "</table>\n",
       "</div>"
      ],
      "text/plain": [
       "   work_year  salary  salary_in_usd\n",
       "0       2023  130000          96313\n",
       "1       2023  250000         250000\n",
       "2       2023  140000         140000\n",
       "3       2023   45000          48585\n",
       "4       2023   40000          43187"
      ]
     },
     "execution_count": 13,
     "metadata": {},
     "output_type": "execute_result"
    }
   ],
   "source": [
    "# Create new DataFrame with numericals columns\n",
    "\n",
    "numericals = data_cleaning.select_dtypes(np.number)\n",
    "numericals.head()"
   ]
  },
  {
   "cell_type": "code",
   "execution_count": 14,
   "id": "52799673",
   "metadata": {},
   "outputs": [
    {
     "data": {
      "text/plain": [
       "work_year        int64\n",
       "salary           int64\n",
       "salary_in_usd    int64\n",
       "dtype: object"
      ]
     },
     "execution_count": 14,
     "metadata": {},
     "output_type": "execute_result"
    }
   ],
   "source": [
    "# Check values dtypes\n",
    "\n",
    "numericals.dtypes"
   ]
  },
  {
   "cell_type": "code",
   "execution_count": 15,
   "id": "1cd82f8d",
   "metadata": {},
   "outputs": [
    {
     "data": {
      "text/plain": [
       "work_year           4\n",
       "salary           1294\n",
       "salary_in_usd    1566\n",
       "dtype: int64"
      ]
     },
     "execution_count": 15,
     "metadata": {},
     "output_type": "execute_result"
    }
   ],
   "source": [
    "# Count number of distinct elements in the numericals DataFrame \n",
    "\n",
    "numericals.nunique()"
   ]
  },
  {
   "cell_type": "markdown",
   "id": "875a79c1",
   "metadata": {},
   "source": [
    "### \"Work_year\""
   ]
  },
  {
   "cell_type": "code",
   "execution_count": 16,
   "id": "8034dd11",
   "metadata": {},
   "outputs": [
    {
     "data": {
      "text/plain": [
       "work_year\n",
       "2023    5652\n",
       "2022    1650\n",
       "2021     218\n",
       "2020      75\n",
       "Name: count, dtype: int64"
      ]
     },
     "execution_count": 16,
     "metadata": {},
     "output_type": "execute_result"
    }
   ],
   "source": [
    "# Check the unique values\n",
    "numericals[\"work_year\"].value_counts()"
   ]
  },
  {
   "cell_type": "code",
   "execution_count": 17,
   "id": "3548a0ff",
   "metadata": {},
   "outputs": [
    {
     "data": {
      "image/png": "[encoded data removed]",
      "text/plain": [
       "<Figure size 640x480 with 1 Axes>"
      ]
     },
     "metadata": {},
     "output_type": "display_data"
    }
   ],
   "source": [
    "# plot\n",
    "fig, ax = plt.subplots()\n",
    "sns.lineplot(x=numericals[\"work_year\"].value_counts().index, y=numericals[\"work_year\"].value_counts().values, ax = ax)\n",
    "ax.set_ylabel(\"Number of jobs posted\")\n",
    "ax.xaxis.set_major_locator(ticker.MultipleLocator(1))\n",
    "ax.xaxis.set_minor_locator(ticker.MultipleLocator(1))"
   ]
  },
  {
   "cell_type": "markdown",
   "id": "dbbfc4e9",
   "metadata": {},
   "source": [
    "There is a big difference between the numbers of jobs bewteen 2020 and 2023, the data collection probably started at the end of 2020."
   ]
  },
  {
   "cell_type": "markdown",
   "id": "128ab077",
   "metadata": {},
   "source": [
    "### \"Salary\""
   ]
  },
  {
   "cell_type": "markdown",
   "id": "1dc15b09",
   "metadata": {},
   "source": [
    "What we can take from the original dataset is that there are two columns that have a number of values well above the rest, the salaries. In this case the data is duplicated because we have the same salary/job title in different currencies.\n",
    "\n",
    "As the analysis will not be focused on wage differentials between countries it's better to focus the analysis with the same currency for all job titles, in this case we have a column with salaries in USD and we will use it for clearer visibility.\n",
    "\n",
    "As a consequence, we will remove the \"salary\" column and change the name of the \"salary_in_usd\" column to \"salary\".\n",
    "\n",
    "- \"salary\"\n",
    "- \"salary_in_usd\""
   ]
  },
  {
   "cell_type": "code",
   "execution_count": 18,
   "id": "422786e5",
   "metadata": {},
   "outputs": [
    {
     "data": {
      "text/html": [
       "<div>\n",
       "<style scoped>\n",
       "    .dataframe tbody tr th:only-of-type {\n",
       "        vertical-align: middle;\n",
       "    }\n",
       "\n",
       "    .dataframe tbody tr th {\n",
       "        vertical-align: top;\n",
       "    }\n",
       "\n",
       "    .dataframe thead th {\n",
       "        text-align: right;\n",
       "    }\n",
       "</style>\n",
       "<table border=\"1\" class=\"dataframe\">\n",
       "  <thead>\n",
       "    <tr style=\"text-align: right;\">\n",
       "      <th></th>\n",
       "      <th>work_year</th>\n",
       "      <th>salary</th>\n",
       "    </tr>\n",
       "  </thead>\n",
       "  <tbody>\n",
       "    <tr>\n",
       "      <th>0</th>\n",
       "      <td>2023</td>\n",
       "      <td>96313</td>\n",
       "    </tr>\n",
       "    <tr>\n",
       "      <th>1</th>\n",
       "      <td>2023</td>\n",
       "      <td>250000</td>\n",
       "    </tr>\n",
       "    <tr>\n",
       "      <th>2</th>\n",
       "      <td>2023</td>\n",
       "      <td>140000</td>\n",
       "    </tr>\n",
       "    <tr>\n",
       "      <th>3</th>\n",
       "      <td>2023</td>\n",
       "      <td>48585</td>\n",
       "    </tr>\n",
       "    <tr>\n",
       "      <th>4</th>\n",
       "      <td>2023</td>\n",
       "      <td>43187</td>\n",
       "    </tr>\n",
       "  </tbody>\n",
       "</table>\n",
       "</div>"
      ],
      "text/plain": [
       "   work_year  salary\n",
       "0       2023   96313\n",
       "1       2023  250000\n",
       "2       2023  140000\n",
       "3       2023   48585\n",
       "4       2023   43187"
      ]
     },
     "execution_count": 18,
     "metadata": {},
     "output_type": "execute_result"
    }
   ],
   "source": [
    "# Drop \"salary\" column and replace name of \"salary_in_usd\" as \"salary\"\n",
    "\n",
    "numericals.drop(labels=[\"salary\"], axis=1, inplace=True)\n",
    "numericals.rename(columns={\"salary_in_usd\": \"salary\"}, inplace=True)\n",
    "\n",
    "numericals.head()"
   ]
  },
  {
   "cell_type": "markdown",
   "id": "6a3654a8",
   "metadata": {},
   "source": [
    "### Qualitative approaches to detect outliers"
   ]
  },
  {
   "cell_type": "markdown",
   "id": "acb3b699",
   "metadata": {},
   "source": [
    "Technique to identify uni-dimensional outliers is to create a boxplot and to see if\n",
    "there are isolated dots quite far away from the wiskers."
   ]
  },
  {
   "cell_type": "code",
   "execution_count": 19,
   "id": "3b6062fa",
   "metadata": {},
   "outputs": [
    {
     "data": {
      "image/png": "[encoded data removed]",
      "text/plain": [
       "<Figure size 640x480 with 2 Axes>"
      ]
     },
     "metadata": {},
     "output_type": "display_data"
    }
   ],
   "source": [
    "#work_year\n",
    "\n",
    "fig, (ax_box, ax_hist) = plt.subplots(2, sharex=True, gridspec_kw={\"height_ratios\":(.15, .85)})\n",
    "sns.boxplot(data=numericals, x=\"work_year\", ax=ax_box) #display boxplot\n",
    "sns.histplot(data=numericals, x=\"work_year\", ax=ax_hist) #hist of the same column\n",
    "\n",
    "ax_hist.xaxis.set_major_locator(ticker.MultipleLocator(1))\n",
    "ax_hist.xaxis.set_minor_locator(ticker.MultipleLocator(1))\n",
    "\n",
    "plt.show() "
   ]
  },
  {
   "cell_type": "code",
   "execution_count": 20,
   "id": "3fe9cdce",
   "metadata": {},
   "outputs": [
    {
     "data": {
      "text/plain": [
       "(True, -2.0498072253589252)"
      ]
     },
     "execution_count": 20,
     "metadata": {},
     "output_type": "execute_result"
    }
   ],
   "source": [
    "# Compute the skewness\n",
    "(numericals['work_year'].skew() > 2) or (numericals['work_year'].skew() < -2), numericals['work_year'].skew()"
   ]
  },
  {
   "cell_type": "markdown",
   "id": "9bd0fc22",
   "metadata": {},
   "source": [
    "We have a negative skew on the \"work_year\" column.\n",
    "That means a longer tail on the left side of the distribution, or in other words, is the direction or weight of the distribution. \n",
    "\n",
    "We have more values from 2023 on our dataset, and just few from 2020 (outliers)."
   ]
  },
  {
   "cell_type": "code",
   "execution_count": 21,
   "id": "ab425667",
   "metadata": {},
   "outputs": [
    {
     "data": {
      "image/png": "[encoded data removed]",
      "text/plain": [
       "<Figure size 640x480 with 2 Axes>"
      ]
     },
     "metadata": {},
     "output_type": "display_data"
    }
   ],
   "source": [
    "#salary\n",
    "\n",
    "fig, (ax_box, ax_hist) = plt.subplots(2, sharex=True, gridspec_kw={\"height_ratios\":(.15, .85)})\n",
    "sns.boxplot(data=numericals, x=\"salary\", ax=ax_box) #display boxplot\n",
    "sns.histplot(data=numericals, x=\"salary\", ax=ax_hist) #hist of the same column\n",
    "plt.show() "
   ]
  },
  {
   "cell_type": "code",
   "execution_count": 22,
   "id": "f9bad97f",
   "metadata": {},
   "outputs": [
    {
     "data": {
      "text/plain": [
       "(False, 0.6104440945936382)"
      ]
     },
     "execution_count": 22,
     "metadata": {},
     "output_type": "execute_result"
    }
   ],
   "source": [
    "# Compute the skewness\n",
    "(numericals['salary'].skew() > 2) or (numericals['salary'].skew() < -2), numericals['salary'].skew()"
   ]
  },
  {
   "cell_type": "markdown",
   "id": "fcaf0938",
   "metadata": {},
   "source": [
    "For the \"salary\" column we have a little positive skew.\n",
    "That means a longer tail on the right side of the distribution.\n",
    "Just few salaries are between 30-40K."
   ]
  },
  {
   "cell_type": "markdown",
   "id": "829e69f4",
   "metadata": {},
   "source": [
    "### <font color='purple'>Cleaning categorical data</font>"
   ]
  },
  {
   "cell_type": "markdown",
   "id": "b00433c2",
   "metadata": {},
   "source": [
    "Now, we will proceed to pre-processing the categorical data (clean and transformed).\n",
    "\n",
    "in this case it will not be necessary to apply a \"transformer\"  (encoded)."
   ]
  },
  {
   "cell_type": "code",
   "execution_count": 23,
   "id": "c894e9f5",
   "metadata": {},
   "outputs": [
    {
     "data": {
      "text/html": [
       "<div>\n",
       "<style scoped>\n",
       "    .dataframe tbody tr th:only-of-type {\n",
       "        vertical-align: middle;\n",
       "    }\n",
       "\n",
       "    .dataframe tbody tr th {\n",
       "        vertical-align: top;\n",
       "    }\n",
       "\n",
       "    .dataframe thead th {\n",
       "        text-align: right;\n",
       "    }\n",
       "</style>\n",
       "<table border=\"1\" class=\"dataframe\">\n",
       "  <thead>\n",
       "    <tr style=\"text-align: right;\">\n",
       "      <th></th>\n",
       "      <th>experience_level</th>\n",
       "      <th>employment_type</th>\n",
       "      <th>job_title</th>\n",
       "      <th>salary_currency</th>\n",
       "      <th>employee_residence</th>\n",
       "      <th>remote_ratio</th>\n",
       "      <th>company_location</th>\n",
       "      <th>company_size</th>\n",
       "    </tr>\n",
       "  </thead>\n",
       "  <tbody>\n",
       "    <tr>\n",
       "      <th>0</th>\n",
       "      <td>MI</td>\n",
       "      <td>FT</td>\n",
       "      <td>Data Scientist</td>\n",
       "      <td>CAD</td>\n",
       "      <td>CA</td>\n",
       "      <td>100</td>\n",
       "      <td>CA</td>\n",
       "      <td>S</td>\n",
       "    </tr>\n",
       "    <tr>\n",
       "      <th>1</th>\n",
       "      <td>SE</td>\n",
       "      <td>FT</td>\n",
       "      <td>Machine Learning Engineer</td>\n",
       "      <td>USD</td>\n",
       "      <td>US</td>\n",
       "      <td>0</td>\n",
       "      <td>US</td>\n",
       "      <td>M</td>\n",
       "    </tr>\n",
       "    <tr>\n",
       "      <th>2</th>\n",
       "      <td>SE</td>\n",
       "      <td>FT</td>\n",
       "      <td>Machine Learning Engineer</td>\n",
       "      <td>USD</td>\n",
       "      <td>US</td>\n",
       "      <td>0</td>\n",
       "      <td>US</td>\n",
       "      <td>M</td>\n",
       "    </tr>\n",
       "    <tr>\n",
       "      <th>3</th>\n",
       "      <td>MI</td>\n",
       "      <td>FT</td>\n",
       "      <td>Data Analyst</td>\n",
       "      <td>EUR</td>\n",
       "      <td>PT</td>\n",
       "      <td>100</td>\n",
       "      <td>PT</td>\n",
       "      <td>M</td>\n",
       "    </tr>\n",
       "    <tr>\n",
       "      <th>4</th>\n",
       "      <td>MI</td>\n",
       "      <td>FT</td>\n",
       "      <td>Data Analyst</td>\n",
       "      <td>EUR</td>\n",
       "      <td>PT</td>\n",
       "      <td>100</td>\n",
       "      <td>PT</td>\n",
       "      <td>M</td>\n",
       "    </tr>\n",
       "  </tbody>\n",
       "</table>\n",
       "</div>"
      ],
      "text/plain": [
       "  experience_level employment_type                  job_title salary_currency  \\\n",
       "0               MI              FT             Data Scientist             CAD   \n",
       "1               SE              FT  Machine Learning Engineer             USD   \n",
       "2               SE              FT  Machine Learning Engineer             USD   \n",
       "3               MI              FT               Data Analyst             EUR   \n",
       "4               MI              FT               Data Analyst             EUR   \n",
       "\n",
       "  employee_residence remote_ratio company_location company_size  \n",
       "0                 CA          100               CA            S  \n",
       "1                 US            0               US            M  \n",
       "2                 US            0               US            M  \n",
       "3                 PT          100               PT            M  \n",
       "4                 PT          100               PT            M  "
      ]
     },
     "execution_count": 23,
     "metadata": {},
     "output_type": "execute_result"
    }
   ],
   "source": [
    "# Create new DataFrame with categoricals columns\n",
    "\n",
    "categoricals = data_cleaning.select_dtypes([object])\n",
    "categoricals.head()"
   ]
  },
  {
   "cell_type": "code",
   "execution_count": 24,
   "id": "50a3b162",
   "metadata": {},
   "outputs": [
    {
     "data": {
      "text/plain": [
       "experience_level  employment_type  job_title                        salary_currency  employee_residence  remote_ratio  company_location  company_size\n",
       "SE                FT               Data Engineer                    USD              US                  0             US                M               733\n",
       "                                   Data Scientist                   USD              US                  0             US                M               576\n",
       "                                                                                                         100           US                M               487\n",
       "                                   Machine Learning Engineer        USD              US                  0             US                M               432\n",
       "                                   Data Engineer                    USD              US                  100           US                M               411\n",
       "                                                                                                                                                        ... \n",
       "MI                FT               Data Analyst                     EUR              DE                  50            DE                M                 1\n",
       "                                                                                     FR                  50            FR                L                 1\n",
       "                                                                    INR              IN                  50            IN                L                 1\n",
       "                                                                    PHP              PH                  50            PH                L                 1\n",
       "SE                FT               Staff Machine Learning Engineer  USD              US                  50            US                M                 1\n",
       "Name: count, Length: 962, dtype: int64"
      ]
     },
     "execution_count": 24,
     "metadata": {},
     "output_type": "execute_result"
    }
   ],
   "source": [
    "categoricals.value_counts()"
   ]
  },
  {
   "cell_type": "markdown",
   "id": "d27431f8",
   "metadata": {},
   "source": [
    "Looking at the values included in each column we can see that some of them may be confusing, the current values  don't help us to understand the real meaning.\n",
    "\n",
    "The columns affected are:\n",
    "\n",
    "- \"experience_level\"\n",
    "- \"employment_type\"\n",
    "- \"employee_residence\"\n",
    "- \"remote_ratio\"\n",
    "- \"company_location\"\n",
    "- \"company_size\"\n",
    "\n",
    "We will need to evaluate individually to define if we need to replace or group them."
   ]
  },
  {
   "cell_type": "markdown",
   "id": "ea230f77",
   "metadata": {},
   "source": [
    "### \"Experience_level\""
   ]
  },
  {
   "cell_type": "code",
   "execution_count": 25,
   "id": "d55211c8",
   "metadata": {},
   "outputs": [
    {
     "data": {
      "text/plain": [
       "experience_level\n",
       "SE    5468\n",
       "MI    1479\n",
       "EN     417\n",
       "EX     231\n",
       "Name: count, dtype: int64"
      ]
     },
     "execution_count": 25,
     "metadata": {},
     "output_type": "execute_result"
    }
   ],
   "source": [
    "# Check the unique values\n",
    "categoricals[\"experience_level\"].value_counts()"
   ]
  },
  {
   "cell_type": "code",
   "execution_count": 26,
   "id": "5ff0edb8",
   "metadata": {},
   "outputs": [],
   "source": [
    "\"\"\"We know that the real meanings per each value are:\n",
    "    SE - Senior\n",
    "    MI - Mid\n",
    "    EN - Entry\n",
    "    EX - Executive\n",
    "    \n",
    "    We need to apply a <.replace> to replace each value with its real meaning \"\"\"\n",
    "\n",
    "replace_cat = categoricals.copy()\n",
    "replace_cat.experience_level.replace(['EN','MI','SE', 'EX'], ['entry', 'mid', 'senior', 'executive'], inplace = True)"
   ]
  },
  {
   "cell_type": "code",
   "execution_count": 27,
   "id": "c61f76e8",
   "metadata": {},
   "outputs": [
    {
     "data": {
      "text/plain": [
       "experience_level\n",
       "senior       5468\n",
       "mid          1479\n",
       "entry         417\n",
       "executive     231\n",
       "Name: count, dtype: int64"
      ]
     },
     "execution_count": 27,
     "metadata": {},
     "output_type": "execute_result"
    }
   ],
   "source": [
    "# Check if the substitution has been applied correctly\n",
    "\n",
    "replace_cat[\"experience_level\"].value_counts()"
   ]
  },
  {
   "cell_type": "code",
   "execution_count": 58,
   "id": "fb668afa",
   "metadata": {},
   "outputs": [
    {
     "name": "stderr",
     "output_type": "stream",
     "text": [
      "/Users/marina/anaconda3/lib/python3.11/site-packages/seaborn/axisgrid.py:118: UserWarning: The figure layout has changed to tight\n",
      "  self._figure.tight_layout(*args, **kwargs)\n"
     ]
    },
    {
     "data": {
      "text/plain": [
       "<Figure size 1500x1000 with 0 Axes>"
      ]
     },
     "metadata": {},
     "output_type": "display_data"
    },
    {
     "data": {
      "image/png": "[encoded data removed]",
      "text/plain": [
       "<Figure size 500x500 with 1 Axes>"
      ]
     },
     "metadata": {},
     "output_type": "display_data"
    }
   ],
   "source": [
    "# plot info\n",
    "\n",
    "figure_size()\n",
    "sns.catplot(x='experience_level',data = replace_cat, kind = 'count',palette = 'ch:s=.25,rot=-.25')\n",
    "plt.show()"
   ]
  },
  {
   "cell_type": "markdown",
   "id": "59de8f84",
   "metadata": {},
   "source": [
    "It can be observed that almost all offers/employees are Senior level"
   ]
  },
  {
   "cell_type": "markdown",
   "id": "63195ae8",
   "metadata": {},
   "source": [
    "### \"Employment_type\""
   ]
  },
  {
   "cell_type": "code",
   "execution_count": 28,
   "id": "b7c1c188",
   "metadata": {},
   "outputs": [
    {
     "data": {
      "text/plain": [
       "employment_type\n",
       "FT    7553\n",
       "CT      18\n",
       "PT      13\n",
       "FL      11\n",
       "Name: count, dtype: int64"
      ]
     },
     "execution_count": 28,
     "metadata": {},
     "output_type": "execute_result"
    }
   ],
   "source": [
    "# Check the unique values\n",
    "categoricals[\"employment_type\"].value_counts()"
   ]
  },
  {
   "cell_type": "code",
   "execution_count": 29,
   "id": "4ecc396b",
   "metadata": {},
   "outputs": [],
   "source": [
    "\"\"\"We know that the real meanings per each value are:\n",
    "    FT - Full_time\n",
    "    CT - Contract\n",
    "    PT - Part_Time\n",
    "    FL - Freelance\n",
    "    \n",
    "    We need to apply a <.replace> to replace each value with its real meaning \"\"\"\n",
    "\n",
    "replace_cat.employment_type.replace(['FT','CT' , 'PT', 'FL'], ['full_time', 'contract', 'part_Time', 'freelance'], inplace = True)"
   ]
  },
  {
   "cell_type": "code",
   "execution_count": 30,
   "id": "0d01c40e",
   "metadata": {
    "scrolled": false
   },
   "outputs": [
    {
     "data": {
      "text/plain": [
       "employment_type\n",
       "full_time    7553\n",
       "contract       18\n",
       "part_Time      13\n",
       "freelance      11\n",
       "Name: count, dtype: int64"
      ]
     },
     "execution_count": 30,
     "metadata": {},
     "output_type": "execute_result"
    }
   ],
   "source": [
    "replace_cat['employment_type'].value_counts()"
   ]
  },
  {
   "cell_type": "markdown",
   "id": "ced2931c",
   "metadata": {},
   "source": [
    "It can be observed that almost all offers/employees have a Full-Time job"
   ]
  },
  {
   "cell_type": "markdown",
   "id": "f5f77154",
   "metadata": {},
   "source": [
    "### \"Remote_ratio\""
   ]
  },
  {
   "cell_type": "code",
   "execution_count": 31,
   "id": "dc388a27",
   "metadata": {},
   "outputs": [
    {
     "data": {
      "text/plain": [
       "remote_ratio\n",
       "0      4428\n",
       "100    2952\n",
       "50      215\n",
       "Name: count, dtype: int64"
      ]
     },
     "execution_count": 31,
     "metadata": {},
     "output_type": "execute_result"
    }
   ],
   "source": [
    "# Check the unique values\n",
    "categoricals[\"remote_ratio\"].value_counts()"
   ]
  },
  {
   "cell_type": "code",
   "execution_count": 32,
   "id": "718d1d8d",
   "metadata": {},
   "outputs": [],
   "source": [
    "\"\"\"We know that the real meanings per each value are:\n",
    "    0 - No_remote/On_site\n",
    "    50 - Hybrid\n",
    "    100 - Remote\n",
    "    \n",
    "    We need to apply a <.replace> to replace each value with its real meaning \"\"\"\n",
    "\n",
    "replace_cat.remote_ratio.replace(['0','50','100'], ['on_site', 'hybrid', 'remote'], inplace = True)"
   ]
  },
  {
   "cell_type": "code",
   "execution_count": 33,
   "id": "6e964798",
   "metadata": {},
   "outputs": [
    {
     "data": {
      "text/plain": [
       "remote_ratio\n",
       "on_site    4428\n",
       "remote     2952\n",
       "hybrid      215\n",
       "Name: count, dtype: int64"
      ]
     },
     "execution_count": 33,
     "metadata": {},
     "output_type": "execute_result"
    }
   ],
   "source": [
    "replace_cat['remote_ratio'].value_counts()"
   ]
  },
  {
   "cell_type": "code",
   "execution_count": 62,
   "id": "bac29abb",
   "metadata": {
    "scrolled": true
   },
   "outputs": [
    {
     "name": "stderr",
     "output_type": "stream",
     "text": [
      "/Users/marina/anaconda3/lib/python3.11/site-packages/seaborn/axisgrid.py:118: UserWarning: The figure layout has changed to tight\n",
      "  self._figure.tight_layout(*args, **kwargs)\n"
     ]
    },
    {
     "data": {
      "text/plain": [
       "<Figure size 1500x1000 with 0 Axes>"
      ]
     },
     "metadata": {},
     "output_type": "display_data"
    },
    {
     "data": {
      "image/png": "[encoded data removed]",
      "text/plain": [
       "<Figure size 500x500 with 1 Axes>"
      ]
     },
     "metadata": {},
     "output_type": "display_data"
    }
   ],
   "source": [
    "# plot info\n",
    "\n",
    "figure_size()\n",
    "sns.catplot(x='remote_ratio',data = replace_cat, kind = 'count',palette = 'ch:s=.25,rot=-.25')\n",
    "plt.show()"
   ]
  },
  {
   "cell_type": "markdown",
   "id": "ac6f62e5",
   "metadata": {},
   "source": [
    "It can be observed that almost all offers/employees have an On-site work type"
   ]
  },
  {
   "cell_type": "markdown",
   "id": "08e81826",
   "metadata": {},
   "source": [
    "### \"Company_size\""
   ]
  },
  {
   "cell_type": "code",
   "execution_count": 34,
   "id": "8dd44af1",
   "metadata": {},
   "outputs": [
    {
     "data": {
      "text/plain": [
       "company_size\n",
       "M    6757\n",
       "L     672\n",
       "S     166\n",
       "Name: count, dtype: int64"
      ]
     },
     "execution_count": 34,
     "metadata": {},
     "output_type": "execute_result"
    }
   ],
   "source": [
    "# Check the unique values\n",
    "categoricals[\"company_size\"].value_counts()"
   ]
  },
  {
   "cell_type": "code",
   "execution_count": 35,
   "id": "a5ae03a3",
   "metadata": {},
   "outputs": [],
   "source": [
    "\"\"\"We know that the real meanings per each value are:\n",
    "    S - small\n",
    "    M - medium\n",
    "    L - marge\n",
    "    \n",
    "    We need to apply a <.replace> to replace each value with its real meaning \"\"\"\n",
    "\n",
    "replace_cat.company_size.replace(['S','M','L'], ['small', 'medium', 'large'], inplace = True)"
   ]
  },
  {
   "cell_type": "code",
   "execution_count": 36,
   "id": "0dc95e60",
   "metadata": {},
   "outputs": [
    {
     "data": {
      "text/plain": [
       "company_size\n",
       "medium    6757\n",
       "large      672\n",
       "small      166\n",
       "Name: count, dtype: int64"
      ]
     },
     "execution_count": 36,
     "metadata": {},
     "output_type": "execute_result"
    }
   ],
   "source": [
    "replace_cat[\"company_size\"].value_counts()"
   ]
  },
  {
   "cell_type": "code",
   "execution_count": 63,
   "id": "64e2969a",
   "metadata": {
    "scrolled": true
   },
   "outputs": [
    {
     "name": "stderr",
     "output_type": "stream",
     "text": [
      "/Users/marina/anaconda3/lib/python3.11/site-packages/seaborn/axisgrid.py:118: UserWarning: The figure layout has changed to tight\n",
      "  self._figure.tight_layout(*args, **kwargs)\n"
     ]
    },
    {
     "data": {
      "text/plain": [
       "<Figure size 1500x1000 with 0 Axes>"
      ]
     },
     "metadata": {},
     "output_type": "display_data"
    },
    {
     "data": {
      "image/png": "[encoded data removed]",
      "text/plain": [
       "<Figure size 500x500 with 1 Axes>"
      ]
     },
     "metadata": {},
     "output_type": "display_data"
    }
   ],
   "source": [
    "# plot info\n",
    "\n",
    "figure_size()\n",
    "sns.catplot(x='company_size',data = replace_cat, kind = 'count',palette = 'ch:s=.25,rot=-.25')\n",
    "plt.show()"
   ]
  },
  {
   "cell_type": "markdown",
   "id": "060f176b",
   "metadata": {},
   "source": [
    "It can be observed that almost all offers/employees are from medium companies"
   ]
  },
  {
   "cell_type": "markdown",
   "id": "d36b34e3",
   "metadata": {},
   "source": [
    "### \"Salary_currency\""
   ]
  },
  {
   "cell_type": "markdown",
   "id": "04577d08",
   "metadata": {},
   "source": [
    "As mentioned above, the salary analysis will be done only with USD currency, that is why we can delete the column \"salary_currency\" to avoid having data that could create interferences in our analysis.\n"
   ]
  },
  {
   "cell_type": "code",
   "execution_count": 37,
   "id": "286d7000",
   "metadata": {},
   "outputs": [
    {
     "data": {
      "text/plain": [
       "salary_currency\n",
       "USD    6851\n",
       "EUR     315\n",
       "GBP     288\n",
       "INR      50\n",
       "CAD      36\n",
       "AUD      10\n",
       "PLN       7\n",
       "SGD       6\n",
       "CHF       5\n",
       "BRL       4\n",
       "JPY       4\n",
       "DKK       3\n",
       "TRY       3\n",
       "HUF       3\n",
       "THB       2\n",
       "NOK       2\n",
       "ILS       1\n",
       "HKD       1\n",
       "ZAR       1\n",
       "PHP       1\n",
       "MXN       1\n",
       "CLP       1\n",
       "Name: count, dtype: int64"
      ]
     },
     "execution_count": 37,
     "metadata": {},
     "output_type": "execute_result"
    }
   ],
   "source": [
    "# Check the unique values\n",
    "categoricals[\"salary_currency\"].value_counts()"
   ]
  },
  {
   "cell_type": "code",
   "execution_count": 38,
   "id": "d995ed71",
   "metadata": {},
   "outputs": [],
   "source": [
    "replace_cat.drop([\"salary_currency\"], axis=1, inplace=True)"
   ]
  },
  {
   "cell_type": "code",
   "execution_count": 39,
   "id": "a3ea3cd7",
   "metadata": {},
   "outputs": [
    {
     "data": {
      "text/html": [
       "<div>\n",
       "<style scoped>\n",
       "    .dataframe tbody tr th:only-of-type {\n",
       "        vertical-align: middle;\n",
       "    }\n",
       "\n",
       "    .dataframe tbody tr th {\n",
       "        vertical-align: top;\n",
       "    }\n",
       "\n",
       "    .dataframe thead th {\n",
       "        text-align: right;\n",
       "    }\n",
       "</style>\n",
       "<table border=\"1\" class=\"dataframe\">\n",
       "  <thead>\n",
       "    <tr style=\"text-align: right;\">\n",
       "      <th></th>\n",
       "      <th>experience_level</th>\n",
       "      <th>employment_type</th>\n",
       "      <th>job_title</th>\n",
       "      <th>employee_residence</th>\n",
       "      <th>remote_ratio</th>\n",
       "      <th>company_location</th>\n",
       "      <th>company_size</th>\n",
       "    </tr>\n",
       "  </thead>\n",
       "  <tbody>\n",
       "    <tr>\n",
       "      <th>0</th>\n",
       "      <td>mid</td>\n",
       "      <td>full_time</td>\n",
       "      <td>Data Scientist</td>\n",
       "      <td>CA</td>\n",
       "      <td>remote</td>\n",
       "      <td>CA</td>\n",
       "      <td>small</td>\n",
       "    </tr>\n",
       "    <tr>\n",
       "      <th>1</th>\n",
       "      <td>senior</td>\n",
       "      <td>full_time</td>\n",
       "      <td>Machine Learning Engineer</td>\n",
       "      <td>US</td>\n",
       "      <td>on_site</td>\n",
       "      <td>US</td>\n",
       "      <td>medium</td>\n",
       "    </tr>\n",
       "    <tr>\n",
       "      <th>2</th>\n",
       "      <td>senior</td>\n",
       "      <td>full_time</td>\n",
       "      <td>Machine Learning Engineer</td>\n",
       "      <td>US</td>\n",
       "      <td>on_site</td>\n",
       "      <td>US</td>\n",
       "      <td>medium</td>\n",
       "    </tr>\n",
       "    <tr>\n",
       "      <th>3</th>\n",
       "      <td>mid</td>\n",
       "      <td>full_time</td>\n",
       "      <td>Data Analyst</td>\n",
       "      <td>PT</td>\n",
       "      <td>remote</td>\n",
       "      <td>PT</td>\n",
       "      <td>medium</td>\n",
       "    </tr>\n",
       "    <tr>\n",
       "      <th>4</th>\n",
       "      <td>mid</td>\n",
       "      <td>full_time</td>\n",
       "      <td>Data Analyst</td>\n",
       "      <td>PT</td>\n",
       "      <td>remote</td>\n",
       "      <td>PT</td>\n",
       "      <td>medium</td>\n",
       "    </tr>\n",
       "  </tbody>\n",
       "</table>\n",
       "</div>"
      ],
      "text/plain": [
       "  experience_level employment_type                  job_title  \\\n",
       "0              mid       full_time             Data Scientist   \n",
       "1           senior       full_time  Machine Learning Engineer   \n",
       "2           senior       full_time  Machine Learning Engineer   \n",
       "3              mid       full_time               Data Analyst   \n",
       "4              mid       full_time               Data Analyst   \n",
       "\n",
       "  employee_residence remote_ratio company_location company_size  \n",
       "0                 CA       remote               CA        small  \n",
       "1                 US      on_site               US       medium  \n",
       "2                 US      on_site               US       medium  \n",
       "3                 PT       remote               PT       medium  \n",
       "4                 PT       remote               PT       medium  "
      ]
     },
     "execution_count": 39,
     "metadata": {},
     "output_type": "execute_result"
    }
   ],
   "source": [
    "#Check if the column has been dropped correctly\n",
    "\n",
    "replace_cat.head()"
   ]
  },
  {
   "cell_type": "markdown",
   "id": "cfed349e",
   "metadata": {},
   "source": [
    "### \"Employee_residence\" & \"Company_location\""
   ]
  },
  {
   "cell_type": "code",
   "execution_count": 40,
   "id": "170dbeac",
   "metadata": {},
   "outputs": [
    {
     "name": "stdout",
     "output_type": "stream",
     "text": [
      "Number of unique values in employee_residence column is:\n",
      "\n",
      " 85\n"
     ]
    }
   ],
   "source": [
    "print(\"Number of unique values in employee_residence column is:\\n\\n\", categoricals[\"employee_residence\"].nunique())"
   ]
  },
  {
   "cell_type": "code",
   "execution_count": 41,
   "id": "86bb6f98",
   "metadata": {},
   "outputs": [
    {
     "name": "stdout",
     "output_type": "stream",
     "text": [
      "Number of unique values in company_locations column is:\n",
      "\n",
      " 73\n"
     ]
    }
   ],
   "source": [
    "print(\"Number of unique values in company_locations column is:\\n\\n\", categoricals[\"company_location\"].nunique())"
   ]
  },
  {
   "cell_type": "markdown",
   "id": "2717ec63",
   "metadata": {},
   "source": [
    "We want to replace the codes for locations or country names\n",
    "\n",
    "Python has a function called \"pycountry\" (https://pypi.org/project/pycountry/) that provides the ISO databases for countries and others. We know that the <codes> in our database are encoded based on the \"ISO\" because it's specified in the \"Legend\" in the web from where we have extracted the database (https://ai-jobs.net/salaries/)."
   ]
  },
  {
   "cell_type": "code",
   "execution_count": 42,
   "id": "8c487bf7",
   "metadata": {},
   "outputs": [],
   "source": [
    "\"\"\"We want to replace the locations and countries residence codes \n",
    "for employees and companies to reduce the values size.\n",
    "\n",
    "We will need to use a For Loop to go from code to code and create a new list with the new value names.\n",
    "\n",
    "We will need to use the library \"pycountry\":\n",
    "\n",
    "#Convert country code ISO 3166-1 alpha-2 to country name:\n",
    "#country_alpha2_to_country_name(cn_name_format=\"default\") \n",
    "\"\"\"\n",
    "\n",
    "from pycountry import countries\n",
    "\n",
    "employee_country = []\n",
    "company_country = []\n",
    "\n",
    "for country_code in replace_cat.employee_residence:\n",
    "   employee_country.append(pycountry.countries.get(alpha_2=country_code).name)\n",
    "\n",
    "for country_code in replace_cat.company_location:\n",
    "    company_country.append(pycountry.countries.get(alpha_2=country_code).name)\n",
    "\n",
    "replace_cat['employee_residence'] = employee_country\n",
    "replace_cat['company_location'] = company_country\n",
    "\n",
    "\n",
    "#https://snyk.io/advisor/python/pycountry/functions/pycountry.countries.get"
   ]
  },
  {
   "cell_type": "code",
   "execution_count": 43,
   "id": "6d5e5b97",
   "metadata": {
    "scrolled": true
   },
   "outputs": [
    {
     "data": {
      "text/html": [
       "<div>\n",
       "<style scoped>\n",
       "    .dataframe tbody tr th:only-of-type {\n",
       "        vertical-align: middle;\n",
       "    }\n",
       "\n",
       "    .dataframe tbody tr th {\n",
       "        vertical-align: top;\n",
       "    }\n",
       "\n",
       "    .dataframe thead th {\n",
       "        text-align: right;\n",
       "    }\n",
       "</style>\n",
       "<table border=\"1\" class=\"dataframe\">\n",
       "  <thead>\n",
       "    <tr style=\"text-align: right;\">\n",
       "      <th></th>\n",
       "      <th>experience_level</th>\n",
       "      <th>employment_type</th>\n",
       "      <th>job_title</th>\n",
       "      <th>employee_residence</th>\n",
       "      <th>remote_ratio</th>\n",
       "      <th>company_location</th>\n",
       "      <th>company_size</th>\n",
       "    </tr>\n",
       "  </thead>\n",
       "  <tbody>\n",
       "    <tr>\n",
       "      <th>0</th>\n",
       "      <td>mid</td>\n",
       "      <td>full_time</td>\n",
       "      <td>Data Scientist</td>\n",
       "      <td>Canada</td>\n",
       "      <td>remote</td>\n",
       "      <td>Canada</td>\n",
       "      <td>small</td>\n",
       "    </tr>\n",
       "    <tr>\n",
       "      <th>1</th>\n",
       "      <td>senior</td>\n",
       "      <td>full_time</td>\n",
       "      <td>Machine Learning Engineer</td>\n",
       "      <td>United States</td>\n",
       "      <td>on_site</td>\n",
       "      <td>United States</td>\n",
       "      <td>medium</td>\n",
       "    </tr>\n",
       "    <tr>\n",
       "      <th>2</th>\n",
       "      <td>senior</td>\n",
       "      <td>full_time</td>\n",
       "      <td>Machine Learning Engineer</td>\n",
       "      <td>United States</td>\n",
       "      <td>on_site</td>\n",
       "      <td>United States</td>\n",
       "      <td>medium</td>\n",
       "    </tr>\n",
       "    <tr>\n",
       "      <th>3</th>\n",
       "      <td>mid</td>\n",
       "      <td>full_time</td>\n",
       "      <td>Data Analyst</td>\n",
       "      <td>Portugal</td>\n",
       "      <td>remote</td>\n",
       "      <td>Portugal</td>\n",
       "      <td>medium</td>\n",
       "    </tr>\n",
       "    <tr>\n",
       "      <th>4</th>\n",
       "      <td>mid</td>\n",
       "      <td>full_time</td>\n",
       "      <td>Data Analyst</td>\n",
       "      <td>Portugal</td>\n",
       "      <td>remote</td>\n",
       "      <td>Portugal</td>\n",
       "      <td>medium</td>\n",
       "    </tr>\n",
       "  </tbody>\n",
       "</table>\n",
       "</div>"
      ],
      "text/plain": [
       "  experience_level employment_type                  job_title  \\\n",
       "0              mid       full_time             Data Scientist   \n",
       "1           senior       full_time  Machine Learning Engineer   \n",
       "2           senior       full_time  Machine Learning Engineer   \n",
       "3              mid       full_time               Data Analyst   \n",
       "4              mid       full_time               Data Analyst   \n",
       "\n",
       "  employee_residence remote_ratio company_location company_size  \n",
       "0             Canada       remote           Canada        small  \n",
       "1      United States      on_site    United States       medium  \n",
       "2      United States      on_site    United States       medium  \n",
       "3           Portugal       remote         Portugal       medium  \n",
       "4           Portugal       remote         Portugal       medium  "
      ]
     },
     "execution_count": 43,
     "metadata": {},
     "output_type": "execute_result"
    }
   ],
   "source": [
    "# Check if the replacement from country code to country names has ben placed correctly\n",
    "\n",
    "replace_cat.head()"
   ]
  },
  {
   "cell_type": "code",
   "execution_count": 71,
   "id": "6350d7aa",
   "metadata": {},
   "outputs": [
    {
     "data": {
      "text/plain": [
       "company_location\n",
       "United States     6460\n",
       "United Kingdom     387\n",
       "Canada             177\n",
       "Spain              106\n",
       "Germany             72\n",
       "India               50\n",
       "France              46\n",
       "Australia           23\n",
       "Portugal            19\n",
       "Netherlands         18\n",
       "Name: count, dtype: int64"
      ]
     },
     "execution_count": 71,
     "metadata": {},
     "output_type": "execute_result"
    }
   ],
   "source": [
    "#unique values per company locations\n",
    "\n",
    "company_locations = replace_cat.company_location.value_counts()\n",
    "company_locations.head(10)"
   ]
  },
  {
   "cell_type": "code",
   "execution_count": 75,
   "id": "d10cf524",
   "metadata": {},
   "outputs": [
    {
     "data": {
      "image/png": "[encoded data removed]",
      "text/plain": [
       "<Figure size 1500x1000 with 1 Axes>"
      ]
     },
     "metadata": {},
     "output_type": "display_data"
    }
   ],
   "source": [
    "# Top 3 company locations\n",
    "\n",
    "figure_size()\n",
    "sns.barplot(x=company_locations.values[:3],y=company_locations.index[:3],palette = 'ch:s=.25,rot=-.25')\n",
    "plt.ylabel('Company Location')\n",
    "plt.xlabel('Counts')\n",
    "plt.show()"
   ]
  },
  {
   "cell_type": "code",
   "execution_count": 73,
   "id": "4f1316eb",
   "metadata": {},
   "outputs": [
    {
     "data": {
      "text/plain": [
       "employee_residence\n",
       "United States     6413\n",
       "United Kingdom     380\n",
       "Canada             176\n",
       "Spain              109\n",
       "Germany             65\n",
       "India               64\n",
       "France              50\n",
       "Portugal            21\n",
       "Australia           20\n",
       "Netherlands         19\n",
       "Name: count, dtype: int64"
      ]
     },
     "execution_count": 73,
     "metadata": {},
     "output_type": "execute_result"
    }
   ],
   "source": [
    "#unique values per employee residence\n",
    "\n",
    "employee_locations = replace_cat.employee_residence.value_counts()\n",
    "employee_locations.head(10)"
   ]
  },
  {
   "cell_type": "code",
   "execution_count": 77,
   "id": "f4c82501",
   "metadata": {},
   "outputs": [
    {
     "data": {
      "image/png": "[encoded data removed]",
      "text/plain": [
       "<Figure size 1500x1000 with 1 Axes>"
      ]
     },
     "metadata": {},
     "output_type": "display_data"
    }
   ],
   "source": [
    "# Top 3 employee residence\n",
    "\n",
    "figure_size()\n",
    "sns.barplot(x=employee_locations.values[:3],y=employee_locations.index[:3],palette = 'ch:s=.25,rot=-.25')\n",
    "plt.ylabel('Employee Residence')\n",
    "plt.xlabel('Counts')\n",
    "plt.show()"
   ]
  },
  {
   "cell_type": "markdown",
   "id": "01f51ff2",
   "metadata": {},
   "source": [
    "### \"Job_title\""
   ]
  },
  {
   "cell_type": "code",
   "execution_count": 44,
   "id": "0b715e72",
   "metadata": {
    "scrolled": true
   },
   "outputs": [
    {
     "data": {
      "text/plain": [
       "job_title\n",
       "Data Engineer                    1815\n",
       "Data Scientist                   1601\n",
       "Data Analyst                     1148\n",
       "Machine Learning Engineer         762\n",
       "Applied Scientist                 212\n",
       "                                 ... \n",
       "BI Data Engineer                    1\n",
       "Analytics Engineering Manager       1\n",
       "Data DevOps Engineer                1\n",
       "AWS Data Architect                  1\n",
       "Sales Data Analyst                  1\n",
       "Name: count, Length: 118, dtype: int64"
      ]
     },
     "execution_count": 44,
     "metadata": {},
     "output_type": "execute_result"
    }
   ],
   "source": [
    "# Check the unique values for the column \"job_title\"\n",
    "categoricals[\"job_title\"].value_counts()"
   ]
  },
  {
   "cell_type": "code",
   "execution_count": 47,
   "id": "cad222f8",
   "metadata": {},
   "outputs": [
    {
     "data": {
      "text/html": [
       "<div>\n",
       "<style scoped>\n",
       "    .dataframe tbody tr th:only-of-type {\n",
       "        vertical-align: middle;\n",
       "    }\n",
       "\n",
       "    .dataframe tbody tr th {\n",
       "        vertical-align: top;\n",
       "    }\n",
       "\n",
       "    .dataframe thead th {\n",
       "        text-align: right;\n",
       "    }\n",
       "</style>\n",
       "<table border=\"1\" class=\"dataframe\">\n",
       "  <thead>\n",
       "    <tr style=\"text-align: right;\">\n",
       "      <th></th>\n",
       "      <th>job_title</th>\n",
       "      <th>0</th>\n",
       "    </tr>\n",
       "  </thead>\n",
       "  <tbody>\n",
       "    <tr>\n",
       "      <th>42</th>\n",
       "      <td>Data Engineer</td>\n",
       "      <td>1815</td>\n",
       "    </tr>\n",
       "    <tr>\n",
       "      <th>62</th>\n",
       "      <td>Data Scientist</td>\n",
       "      <td>1601</td>\n",
       "    </tr>\n",
       "    <tr>\n",
       "      <th>33</th>\n",
       "      <td>Data Analyst</td>\n",
       "      <td>1148</td>\n",
       "    </tr>\n",
       "    <tr>\n",
       "      <th>89</th>\n",
       "      <td>Machine Learning Engineer</td>\n",
       "      <td>762</td>\n",
       "    </tr>\n",
       "    <tr>\n",
       "      <th>12</th>\n",
       "      <td>Applied Scientist</td>\n",
       "      <td>212</td>\n",
       "    </tr>\n",
       "  </tbody>\n",
       "</table>\n",
       "</div>"
      ],
      "text/plain": [
       "                    job_title     0\n",
       "42              Data Engineer  1815\n",
       "62             Data Scientist  1601\n",
       "33               Data Analyst  1148\n",
       "89  Machine Learning Engineer   762\n",
       "12          Applied Scientist   212"
      ]
     },
     "execution_count": 47,
     "metadata": {},
     "output_type": "execute_result"
    }
   ],
   "source": [
    "# Find total amount per each unique value\n",
    "\n",
    "jobs = categoricals.groupby('job_title').size().reset_index().sort_values(by=0,ascending = False)\n",
    "jobs.head()"
   ]
  },
  {
   "cell_type": "code",
   "execution_count": 49,
   "id": "a816710c",
   "metadata": {},
   "outputs": [
    {
     "data": {
      "text/plain": [
       "(118, 2)"
      ]
     },
     "execution_count": 49,
     "metadata": {},
     "output_type": "execute_result"
    }
   ],
   "source": [
    "jobs.shape"
   ]
  },
  {
   "cell_type": "code",
   "execution_count": 65,
   "id": "e37a163e",
   "metadata": {},
   "outputs": [
    {
     "data": {
      "image/png": "[encoded data removed]",
      "text/plain": [
       "<Figure size 1500x1000 with 1 Axes>"
      ]
     },
     "metadata": {},
     "output_type": "display_data"
    }
   ],
   "source": [
    "# plot Top 10 job_titles\n",
    "\n",
    "figure_size()\n",
    "sns.barplot(x='job_title',y=0, data = jobs[:10],palette = 'ch:s=.25,rot=-.25')\n",
    "plt.title('Top Jobs Titles')\n",
    "plt.xlabel('Job Title')\n",
    "plt.ylabel('Counts')\n",
    "plt.xticks(rotation=45)\n",
    "plt.show()"
   ]
  },
  {
   "cell_type": "markdown",
   "id": "39d146e0",
   "metadata": {},
   "source": [
    "There is a high-cardinality in the \"job_title\" categorical variables, there are 118 different unique values.\n",
    "\n",
    "This means that the number of different levels is large relative to the sample size of a data set, or in other words, there are few data points per level.\n",
    "\n",
    "To reduce the cardinality we will create a new column that groups some of these values together, called \"job_area\"."
   ]
  },
  {
   "cell_type": "markdown",
   "id": "5bca4e27",
   "metadata": {},
   "source": [
    "Before creating the new column we will need to replace some values names."
   ]
  },
  {
   "cell_type": "code",
   "execution_count": 45,
   "id": "cb29994c",
   "metadata": {},
   "outputs": [
    {
     "data": {
      "text/plain": [
       "job_title\n",
       "Data Engineer                     1815\n",
       "Data Scientist                    1601\n",
       "Data Analyst                      1148\n",
       "Machine Learning Engineer          848\n",
       "Applied Scientist                  212\n",
       "                                  ... \n",
       "BI Data Engineer                     1\n",
       "Managing Director Data Science       1\n",
       "Data DevOps Engineer                 1\n",
       "Sales Data Analyst                   1\n",
       "Consultant Data Engineer             1\n",
       "Name: count, Length: 115, dtype: int64"
      ]
     },
     "execution_count": 45,
     "metadata": {},
     "output_type": "execute_result"
    }
   ],
   "source": [
    "# Values replacement name\n",
    "\n",
    "replace_cat.replace('BI Analyst', 'Business Intelligence Analyst', inplace=True)\n",
    "replace_cat.replace('BI Developer', 'Business Intelligence Developer', inplace=True)\n",
    "replace_cat.replace('ML Engineer', 'Machine Learning Engineer', inplace=True)\n",
    "replace_cat.replace('MLOps Engineer', 'Machine Learning Ops Engineer', inplace=True)\n",
    "replace_cat.replace('AWS Data Architect', 'Cloud AWS Data Architect', inplace=True)\n",
    "replace_cat.replace('Azure Data Engineer', 'Cloud Azure Data Engineerr', inplace=True)\n",
    "\n",
    "replace_cat[\"job_title\"].value_counts()"
   ]
  },
  {
   "cell_type": "markdown",
   "id": "dee1bf2e",
   "metadata": {},
   "source": [
    "Once some of the values has been replaced we can proceed to group all the job title in reduced groups to decrease the cardinality.\n",
    "\n",
    "Grouping will be done in the following groups:\n",
    "\n",
    "- Business Intelligence\n",
    "- AI\n",
    "- Cloud\n",
    "- Data\n",
    "- Machine Learning\n",
    "- Research\n",
    "- Others\n",
    "    \n"
   ]
  },
  {
   "cell_type": "code",
   "execution_count": 45,
   "id": "0c44c98a",
   "metadata": {},
   "outputs": [],
   "source": [
    "\"\"\"We have created a For Loops function to group all the job_title in different areas\n",
    "\n",
    "First we create a new list where to add the new values, \n",
    "and then we will transform it into a column to add it to the DataFrame\n",
    "\n",
    "\"\"\"\n",
    "\n",
    "\n",
    "job_area = []\n",
    "for row in replace_cat[\"job_title\"]:\n",
    "    if \"Business Intelligence\" in row: job_area.append('Business Intelligence')\n",
    "    elif \"AI\" in row: job_area.append('AI')\n",
    "    elif \"Cloud\" in row: job_area.append('Cloud')\n",
    "    elif \"Data\" in row: job_area.append('Data')   \n",
    "    elif \"Machine Learning\" in row: job_area.append('Machine Learning') \n",
    "    elif \"Research\" in row: job_area.append('Research')         \n",
    "    else: job_area.append('Others')"
   ]
  },
  {
   "cell_type": "code",
   "execution_count": 46,
   "id": "52c719ba",
   "metadata": {},
   "outputs": [
    {
     "name": "stdout",
     "output_type": "stream",
     "text": [
      "['Data', 'Machine Learning', 'Machine Learning', 'Data', 'Data', 'Data', 'Data', 'Data', 'Data', 'Data', 'Data', 'Data', 'Data', 'Data', 'Data', 'Data', 'Data', 'Data', 'Data', 'Data', 'Data', 'Data', 'Data', 'Data', 'Data', 'Data', 'Data', 'Data', 'Data', 'Data', 'Data', 'AI', 'AI', 'Data', 'Data', 'Data', 'Data', 'Data', 'Data', 'Data', 'Data', 'Data', 'Data', 'Data', 'Data', 'Data', 'Data', 'Data', 'Data', 'Data', 'Data', 'Others', 'Others', 'Data', 'Data', 'Data', 'Data', 'Data', 'Data', 'AI', 'AI', 'Data', 'Data', 'Research', 'Research', 'Machine Learning', 'Machine Learning', 'Data', 'Data', 'Data', 'Data', 'Data', 'Data', 'Research', 'Research', 'Data', 'Data', 'Data', 'Data', 'Research', 'Research', 'Data', 'Data', 'Machine Learning', 'Machine Learning', 'Data', 'Data', 'Data', 'Data', 'Data', 'Data', 'Data', 'Data', 'Data', 'Data', 'AI', 'AI', 'Others', 'Others', 'Data', 'Data', 'Data', 'Data', 'Data', 'Data', 'AI', 'AI', 'Research', 'Research', 'Data', 'Data', 'Data', 'Data', 'Data', 'Data', 'Machine Learning', 'Machine Learning', 'Machine Learning', 'Data', 'Data', 'Data', 'Data', 'Data', 'Data', 'Data', 'Data', 'Data', 'Data', 'Data', 'Machine Learning', 'Machine Learning', 'Data', 'Data', 'AI', 'AI', 'Others', 'Others', 'Data', 'Data', 'Machine Learning', 'Machine Learning', 'Data', 'Data', 'Machine Learning', 'Machine Learning', 'Data', 'Data', 'Data', 'Data', 'Data', 'Data', 'Data', 'Data', 'Data', 'Data', 'Machine Learning', 'Machine Learning', 'Data', 'Data', 'Data', 'Data', 'Research', 'Research', 'Data', 'Data', 'Data', 'Data', 'Machine Learning', 'Machine Learning', 'Others', 'Others', 'Data', 'Data', 'Data', 'Data', 'Data', 'Data', 'Data', 'Data', 'Data', 'Data', 'Business Intelligence', 'Business Intelligence', 'Data', 'Data', 'Data', 'Data', 'Data', 'Data', 'Business Intelligence', 'Business Intelligence', 'Data', 'Data', 'Business Intelligence', 'Business Intelligence', 'Data', 'Data', 'Data', 'Data', 'Machine Learning', 'Machine Learning', 'Data', 'Data', 'Data', 'Data', 'Data', 'Data', 'Data', 'Data', 'Data', 'Data', 'Machine Learning', 'Machine Learning', 'Data', 'Data', 'Data', 'Data', 'Data', 'Data', 'Data', 'Data', 'Data', 'Data', 'Data', 'Data', 'Data', 'Data', 'Data', 'Data', 'Data', 'Machine Learning', 'Data', 'Data', 'Others', 'Others', 'Data', 'Data', 'Research', 'Research', 'Data', 'Data', 'Research', 'Research', 'Data', 'Data', 'Data', 'Data', 'Data', 'Data', 'Research', 'Research', 'Data', 'Data', 'Data', 'Data', 'Data', 'Data', 'Data', 'Data', 'Cloud', 'Data', 'Data', 'Data', 'Data', 'Machine Learning', 'Machine Learning', 'Data', 'Data', 'Data', 'Data', 'Others', 'Others', 'Machine Learning', 'Machine Learning', 'Data', 'Data', 'Machine Learning', 'Machine Learning', 'Data', 'Data', 'Research', 'Research', 'Machine Learning', 'Machine Learning', 'Machine Learning', 'Machine Learning', 'Data', 'Data', 'Data', 'Data', 'Data', 'Data', 'Business Intelligence', 'Business Intelligence', 'Others', 'Others', 'Data', 'Data', 'Data', 'Data', 'Data', 'Data', 'Business Intelligence', 'Business Intelligence', 'Data', 'Data', 'Data', 'Data', 'Data', 'Machine Learning', 'Machine Learning', 'Data', 'Data', 'Data', 'Data', 'Data', 'Data', 'Data', 'Data', 'Machine Learning', 'Machine Learning', 'Others', 'Others', 'Machine Learning', 'Machine Learning', 'Data', 'Data', 'Others', 'Others', 'Data', 'Data', 'Research', 'Research', 'Others', 'Others', 'Machine Learning', 'Machine Learning', 'Data', 'Data', 'Data', 'Data', 'Data', 'Data', 'Data', 'Data', 'Data', 'Data', 'Business Intelligence', 'Business Intelligence', 'Data', 'Data', 'Machine Learning', 'Machine Learning', 'Business Intelligence', 'Business Intelligence', 'Machine Learning', 'Machine Learning', 'Machine Learning', 'Machine Learning', 'Machine Learning', 'Machine Learning', 'Data', 'Data', 'Data', 'Data', 'Data', 'Data', 'Data', 'Data', 'Data', 'Data', 'Others', 'Others', 'Data', 'Data', 'Data', 'Data', 'Machine Learning', 'Machine Learning', 'Data', 'Data', 'Data', 'Data', 'Data', 'Machine Learning', 'Machine Learning', 'Data', 'Data', 'Machine Learning', 'Machine Learning', 'Data', 'Data', 'Data', 'Data', 'Data', 'Data', 'Data', 'Data', 'Data', 'Data', 'Machine Learning', 'Machine Learning', 'Data', 'Data', 'Others', 'Others', 'Machine Learning', 'Machine Learning', 'Data', 'Data', 'Data', 'Data', 'Data', 'Data', 'Others', 'Others', 'Data', 'Data', 'Machine Learning', 'Machine Learning', 'Data', 'Data', 'Research', 'Research', 'Machine Learning', 'Machine Learning', 'Data', 'Data', 'AI', 'AI', 'Data', 'Data', 'Machine Learning', 'Machine Learning', 'Others', 'Others', 'Data', 'Data', 'AI', 'AI', 'Data', 'Data', 'Data', 'Data', 'Data', 'Data', 'Data', 'Data', 'Machine Learning', 'Machine Learning', 'Data', 'Data', 'Machine Learning', 'Machine Learning', 'Machine Learning', 'Machine Learning', 'Data', 'Data', 'Machine Learning', 'Machine Learning', 'Data', 'Data', 'Data', 'AI', 'AI', 'Machine Learning', 'Machine Learning', 'Machine Learning', 'Machine Learning', 'Research', 'Research', 'Machine Learning', 'Machine Learning', 'Research', 'Research', 'Data', 'Data', 'Data', 'Data', 'Data', 'Data', 'Data', 'Data', 'Research', 'Research', 'Data', 'Data', 'AI', 'Data', 'Data', 'Data', 'Data', 'Data', 'Machine Learning', 'Machine Learning', 'Data', 'Data', 'Data', 'Data', 'Data', 'Data', 'Machine Learning', 'Machine Learning', 'Data', 'Data', 'Data', 'Data', 'Data', 'Data', 'Data', 'Data', 'Data', 'Data', 'Research', 'Research', 'Machine Learning', 'Machine Learning', 'Data', 'Data', 'Data', 'Data', 'Data', 'Data', 'Machine Learning', 'Machine Learning', 'Machine Learning', 'Machine Learning', 'Data', 'Data', 'Data', 'Data', 'Data', 'Data', 'Business Intelligence', 'Business Intelligence', 'Data', 'Data', 'Machine Learning', 'Machine Learning', 'Data', 'Data', 'Data', 'Data', 'Research', 'Research', 'Data', 'Data', 'Data', 'Data', 'Machine Learning', 'Machine Learning', 'Data', 'Data', 'Machine Learning', 'Machine Learning', 'Data', 'Data', 'Machine Learning', 'AI', 'Data', 'Data', 'Data', 'Data', 'Machine Learning', 'Machine Learning', 'Data', 'Data', 'Data', 'Data', 'AI', 'Machine Learning', 'Machine Learning', 'Business Intelligence', 'Business Intelligence', 'Machine Learning', 'Machine Learning', 'Data', 'Data', 'Research', 'Research', 'Data', 'Data', 'Data', 'Data', 'Data', 'Data', 'Data', 'Data', 'Others', 'Others', 'Business Intelligence', 'Business Intelligence', 'Machine Learning', 'Machine Learning', 'Data', 'Data', 'Business Intelligence', 'Business Intelligence', 'Data', 'Data', 'Data', 'Data', 'Data', 'Data', 'Data', 'Data', 'Machine Learning', 'Machine Learning', 'Data', 'Data', 'Data', 'Data', 'Data', 'Data', 'Data', 'Data', 'Business Intelligence', 'Business Intelligence', 'Data', 'Data', 'Data', 'Data', 'Data', 'Data', 'Machine Learning', 'Machine Learning', 'Data', 'Data', 'Data', 'Data', 'Data', 'Data', 'Data', 'Data', 'Data', 'Data', 'Data', 'Data', 'Data', 'Data', 'Machine Learning', 'Machine Learning', 'Machine Learning', 'Machine Learning', 'Machine Learning', 'Machine Learning', 'Others', 'Others', 'Data', 'Data', 'Machine Learning', 'Machine Learning', 'Machine Learning', 'Machine Learning', 'Machine Learning', 'Machine Learning', 'Research', 'Research', 'Data', 'Data', 'Business Intelligence', 'Business Intelligence', 'Data', 'Data', 'Research', 'Research', 'Data', 'Data', 'Machine Learning', 'Machine Learning', 'Data', 'Data', 'Data', 'Data', 'Data', 'Data', 'Machine Learning', 'Machine Learning', 'Data', 'Data', 'Data', 'Machine Learning', 'Machine Learning', 'Machine Learning', 'Machine Learning', 'Business Intelligence', 'Business Intelligence', 'Data', 'Data', 'Data', 'Data', 'Machine Learning', 'Machine Learning', 'Data', 'Data', 'Others', 'Others', 'Data', 'Data', 'Data', 'Data', 'Data', 'Data', 'Data', 'Data', 'Research', 'Research', 'Data', 'Data', 'Data', 'Data', 'Data', 'Data', 'Machine Learning', 'Machine Learning', 'Data', 'Data', 'Data', 'Data', 'Data', 'Data', 'Data', 'Data', 'Business Intelligence', 'Business Intelligence', 'Data', 'Data', 'Data', 'Data', 'Others', 'Others', 'Data', 'Data', 'Data', 'Data', 'Research', 'Research', 'Data', 'Data', 'Machine Learning', 'Machine Learning', 'Machine Learning', 'Machine Learning', 'Data', 'Data', 'Data', 'Data', 'Data', 'Data', 'Data', 'Data', 'Data', 'Data', 'Others', 'Others', 'Research', 'Research', 'Machine Learning', 'Machine Learning', 'Data', 'Data', 'Research', 'Research', 'Data', 'Data', 'Data', 'Data', 'Data', 'Data', 'Data', 'Data', 'Data', 'Data', 'Data', 'Data', 'Others', 'Data', 'Data', 'Data', 'Data', 'Data', 'Data', 'Research', 'Research', 'Data', 'Data', 'Others', 'Others', 'Data', 'Data', 'Data', 'Data', 'Machine Learning', 'Machine Learning', 'Data', 'Data', 'Data', 'Data', 'Machine Learning', 'Machine Learning', 'Machine Learning', 'Machine Learning', 'Data', 'Data', 'Machine Learning', 'Machine Learning', 'Data', 'Data', 'Business Intelligence', 'Business Intelligence', 'Data', 'Data', 'Data', 'Data', 'Data', 'Data', 'Data', 'Data', 'Machine Learning', 'Machine Learning', 'AI', 'Data', 'Data', 'Machine Learning', 'Machine Learning', 'Data', 'Data', 'Data', 'Data', 'Data', 'Data', 'Data', 'Data', 'Data', 'Data', 'Data', 'Data', 'Others', 'Others', 'Data', 'Data', 'Data', 'Data', 'Machine Learning', 'Machine Learning', 'Data', 'Data', 'Machine Learning', 'Machine Learning', 'Business Intelligence', 'Business Intelligence', 'Data', 'Data', 'Others', 'Others', 'Data', 'Data', 'Data', 'Data', 'Data', 'Machine Learning', 'Machine Learning', 'Data', 'Data', 'Data', 'Data', 'Others', 'Others', 'Data', 'Data', 'Data', 'Data', 'Data', 'Data', 'Data', 'Data', 'Data', 'Data', 'Others', 'Others', 'Data', 'Data', 'Machine Learning', 'AI', 'Machine Learning', 'Machine Learning', 'AI', 'AI', 'Data', 'Data', 'Data', 'Data', 'Research', 'Research', 'Data', 'Data', 'Machine Learning', 'Machine Learning', 'Data', 'Data', 'Data', 'Data', 'Data', 'Data', 'Machine Learning', 'Machine Learning', 'Data', 'Data', 'Data', 'AI', 'Data', 'Data', 'Data', 'Data', 'Data', 'Machine Learning', 'Machine Learning', 'Data', 'Data', 'Data', 'Data', 'Data', 'Data', 'Machine Learning', 'Machine Learning', 'Data', 'Data', 'AI', 'Data', 'Data', 'Data', 'Data', 'Data', 'Data', 'Data', 'Data', 'Data', 'Data', 'Data', 'Machine Learning', 'Machine Learning', 'Data', 'Data', 'Data', 'Data', 'Data', 'Data', 'AI', 'AI', 'Data', 'Data', 'Data', 'Data', 'Others', 'Others', 'Data', 'Data', 'Data', 'Data', 'Data', 'Data', 'Machine Learning', 'Machine Learning', 'Data', 'Data', 'Data', 'Data', 'Research', 'Research', 'Data', 'Data', 'Data', 'Data', 'Machine Learning', 'Machine Learning', 'Data', 'Data', 'Machine Learning', 'Machine Learning', 'Data', 'Data', 'Research', 'Research', 'Data', 'Data', 'Data', 'Data', 'Machine Learning', 'Machine Learning', 'Others', 'Others', 'Machine Learning', 'Data', 'Data', 'Data', 'Data', 'Data', 'Data', 'Data', 'Data', 'Data', 'Data', 'Data', 'Data', 'Data', 'Data', 'Data', 'Machine Learning', 'Machine Learning', 'AI', 'Data', 'Data', 'Machine Learning', 'Machine Learning', 'Research', 'Research', 'Machine Learning', 'Machine Learning', 'Data', 'Data', 'Data', 'Data', 'Data', 'Data', 'Data', 'Data', 'Machine Learning', 'Machine Learning', 'Data', 'Data', 'Data', 'Data', 'Research', 'Research', 'Machine Learning', 'Others', 'Others', 'Data', 'Data', 'Others', 'Others', 'Data', 'Data', 'Machine Learning', 'Machine Learning', 'Others', 'Others', 'Machine Learning', 'Machine Learning', 'Others', 'Others', 'Machine Learning', 'Machine Learning', 'Data', 'Data', 'Others', 'Others', 'Data', 'Data', 'AI', 'Data', 'Data', 'Data', 'Data', 'Others', 'Others', 'Data', 'Data', 'Data', 'Data', 'Research', 'Research', 'Machine Learning', 'Machine Learning', 'Machine Learning', 'Machine Learning', 'Machine Learning', 'Machine Learning', 'Machine Learning', 'Machine Learning', 'Machine Learning', 'Machine Learning', 'Machine Learning', 'Machine Learning', 'Data', 'Data', 'Others', 'Others', 'Data', 'Data', 'Data', 'Data', 'Data', 'Data', 'Machine Learning', 'Data', 'Data', 'Data', 'Data', 'Data', 'Data', 'Data', 'Data', 'Others', 'Others', 'Machine Learning', 'Machine Learning', 'Data', 'Data', 'Data', 'Data', 'Data', 'Data', 'Data', 'Data', 'Data', 'Data', 'Machine Learning', 'Machine Learning', 'Data', 'Data', 'Data', 'Data', 'Data', 'Others', 'Others', 'Data', 'Data', 'Data', 'Data', 'Data', 'Data', 'Data', 'Data', 'Data', 'Data', 'Data', 'Data', 'Data', 'Data', 'Data', 'Data', 'Data', 'Data', 'Business Intelligence', 'Business Intelligence', 'Data', 'Data', 'Data', 'Data', 'Data', 'Data', 'Machine Learning', 'Machine Learning', 'Data', 'Data', 'Machine Learning', 'Machine Learning', 'Data', 'Data', 'Data', 'Data', 'Data', 'Data', 'Data', 'Data', 'Data', 'Data', 'Machine Learning', 'Machine Learning', 'Data', 'Data', 'Data', 'Data', 'Business Intelligence', 'Business Intelligence', 'Data', 'Data', 'Data', 'Data', 'Data', 'Data', 'Data', 'Data', 'Data', 'Data', 'Data', 'Data', 'Data', 'Data', 'Data', 'Data', 'Machine Learning', 'Machine Learning', 'Others', 'Others', 'Data', 'Data', 'Data', 'Data', 'Data', 'Business Intelligence', 'Business Intelligence', 'AI', 'Data', 'Data', 'Data', 'Data', 'Data', 'Data', 'Data', 'Others', 'Others', 'Others', 'Others', 'Research', 'Research', 'Others', 'Others', 'Data', 'Data', 'Data', 'Data', 'Data', 'Data', 'Data', 'Data', 'Data', 'Data', 'Data', 'Data', 'Data', 'Data', 'Data', 'Data', 'Data', 'Data', 'Data', 'Data', 'Data', 'Data', 'Data', 'Data', 'Data', 'Data', 'Others', 'Others', 'Data', 'Data', 'Machine Learning', 'Machine Learning', 'Others', 'Others', 'Data', 'Data', 'Data', 'Data', 'Data', 'Data', 'Data', 'Data', 'Others', 'Others', 'Data', 'Data', 'Data', 'Data', 'Data', 'Data', 'Research', 'Research', 'Data', 'Data', 'Machine Learning', 'Machine Learning', 'Data', 'Data', 'Data', 'Data', 'Data', 'Data', 'Data', 'Data', 'Data', 'Data', 'Machine Learning', 'AI', 'Others', 'Others', 'Data', 'Data', 'Data', 'Data', 'Data', 'Data', 'Business Intelligence', 'Business Intelligence', 'Data', 'Data', 'Machine Learning', 'Machine Learning', 'Data', 'Data', 'Data', 'Data', 'Data', 'Data', 'Data', 'Data', 'Data', 'Data', 'Data', 'Data', 'Data', 'Data', 'Data', 'Data', 'Research', 'Research', 'Data', 'Data', 'Business Intelligence', 'Business Intelligence', 'Business Intelligence', 'Business Intelligence', 'Data', 'Data', 'Data', 'Data', 'Machine Learning', 'Machine Learning', 'Machine Learning', 'Machine Learning', 'AI', 'AI', 'Data', 'Data', 'Data', 'Data', 'Data', 'Data', 'Data', 'Data', 'Data', 'Data', 'Data', 'Data', 'Data', 'Data', 'Machine Learning', 'Machine Learning', 'Data', 'Data', 'Data', 'Data', 'Machine Learning', 'Machine Learning', 'Data', 'Data', 'Data', 'Data', 'Data', 'Data', 'Data', 'Data', 'Data', 'Data', 'Data', 'Data', 'Data', 'Data', 'Data', 'Data', 'Data', 'Data', 'Data', 'Data', 'Data', 'Research', 'Research', 'Data', 'Data', 'Business Intelligence', 'Business Intelligence', 'Research', 'Research', 'Data', 'Data', 'Data', 'Data', 'Data', 'Data', 'Data', 'Data', 'Data', 'Data', 'Data', 'Data', 'Research', 'Data', 'Data', 'Data', 'Data', 'Business Intelligence', 'Business Intelligence', 'Data', 'Data', 'Data', 'Data', 'Machine Learning', 'Machine Learning', 'Data', 'Data', 'Data', 'Data', 'Others', 'Others', 'Data', 'Data', 'Data', 'Data', 'Data', 'Data', 'Machine Learning', 'Machine Learning', 'Data', 'Data', 'Data', 'Data', 'Data', 'Data', 'Data', 'Data', 'Data', 'Data', 'Research', 'Research', 'Data', 'Data', 'Others', 'Others', 'Data', 'Data', 'Data', 'Data', 'Data', 'Data', 'Business Intelligence', 'Business Intelligence', 'Others', 'Others', 'Data', 'Data', 'Machine Learning', 'Machine Learning', 'Data', 'Data', 'Machine Learning', 'Machine Learning', 'Data', 'Data', 'Others', 'Others', 'Research', 'Research', 'Data', 'Data', 'Machine Learning', 'Machine Learning', 'Machine Learning', 'Machine Learning', 'Data', 'Data', 'Data', 'Data', 'Research', 'Research', 'Data', 'Data', 'Research', 'Research', 'Research', 'Research', 'Data', 'Data', 'Data', 'Data', 'Machine Learning', 'Machine Learning', 'Data', 'Data', 'Data', 'Data', 'Data', 'Data', 'Data', 'Data', 'Machine Learning', 'Machine Learning', 'Data', 'Data', 'Data', 'Data', 'Machine Learning', 'Machine Learning', 'Data', 'Data', 'Data', 'Data', 'Data', 'Data', 'Others', 'Others', 'Data', 'Data', 'Machine Learning', 'Machine Learning', 'Data', 'Data', 'Data', 'Data', 'Data', 'Data', 'Others', 'Others', 'Data', 'Data', 'Data', 'Data', 'Machine Learning', 'Data', 'AI', 'AI', 'Data', 'Data', 'Data', 'Data', 'Data', 'Data', 'Machine Learning', 'Machine Learning', 'Data', 'Data', 'Data', 'Data', 'Machine Learning', 'Machine Learning', 'Machine Learning', 'Machine Learning', 'Data', 'Data', 'Data', 'Data', 'Machine Learning', 'Machine Learning', 'Data', 'Data', 'Data', 'Data', 'Data', 'Machine Learning', 'Machine Learning', 'Data', 'Data', 'Data', 'Data', 'Data', 'Data', 'Data', 'Data', 'Research', 'Research', 'Data', 'Data', 'Machine Learning', 'Machine Learning', 'Data', 'Data', 'Data', 'Data', 'Others', 'Others', 'Data', 'Data', 'Machine Learning', 'Machine Learning', 'Data', 'Data', 'Research', 'Research', 'Data', 'Data', 'Data', 'Data', 'Others', 'Others', 'Research', 'Research', 'Data', 'Data', 'Data', 'Data', 'Data', 'Data', 'Business Intelligence', 'Business Intelligence', 'Others', 'Others', 'Machine Learning', 'Machine Learning', 'Business Intelligence', 'Business Intelligence', 'Data', 'Data', 'Business Intelligence', 'Business Intelligence', 'Data', 'Data', 'Data', 'Data', 'Data', 'Data', 'Research', 'Research', 'Data', 'Data', 'Business Intelligence', 'Business Intelligence', 'Data', 'Data', 'Data', 'Data', 'Data', 'Data', 'Data', 'Data', 'Business Intelligence', 'Business Intelligence', 'Others', 'Others', 'Data', 'Data', 'Data', 'Data', 'Data', 'Data', 'Data', 'Data', 'Machine Learning', 'Machine Learning', 'Data', 'Data', 'Data', 'Data', 'Business Intelligence', 'Business Intelligence', 'Data', 'Data', 'Data', 'Data', 'Data', 'Data', 'Research', 'Research', 'Data', 'Data', 'Machine Learning', 'Data', 'Data', 'Data', 'Data', 'Data', 'Data', 'Data', 'Machine Learning', 'Machine Learning', 'Data', 'Data', 'Business Intelligence', 'Business Intelligence', 'Data', 'Data', 'Data', 'Data', 'Data', 'Data', 'Data', 'Data', 'Data', 'Data', 'AI', 'Data', 'Data', 'Data', 'Data', 'Business Intelligence', 'Business Intelligence', 'Business Intelligence', 'Business Intelligence', 'Data', 'Data', 'Data', 'Data', 'Data', 'Data', 'Data', 'Data', 'Data', 'Data', 'Data', 'Data', 'Business Intelligence', 'Business Intelligence', 'Data', 'Data', 'Data', 'Data', 'Data', 'Data', 'Data', 'Data', 'Data', 'Data', 'Data', 'Data', 'Data', 'Data', 'Data', 'Data', 'Data', 'Data', 'Data', 'Data', 'Data', 'Data', 'Business Intelligence', 'Business Intelligence', 'Business Intelligence', 'Business Intelligence', 'Others', 'Others', 'Others', 'Others', 'Data', 'Data', 'Research', 'Research', 'Research', 'Research', 'Data', 'Data', 'Data', 'Data', 'Research', 'Research', 'Machine Learning', 'Machine Learning', 'Data', 'Data', 'Others', 'Others', 'Machine Learning', 'Machine Learning', 'AI', 'Machine Learning', 'Machine Learning', 'Machine Learning', 'Machine Learning', 'Business Intelligence', 'Business Intelligence', 'Data', 'Data', 'Data', 'Data', 'Data', 'Data', 'Research', 'Research', 'Data', 'Data', 'Data', 'Data', 'Data', 'Data', 'Data', 'Data', 'Data', 'Data', 'Data', 'Data', 'Machine Learning', 'Machine Learning', 'Data', 'Data', 'Data', 'Data', 'Data', 'Data', 'Data', 'Data', 'Others', 'Data', 'Data', 'Data', 'Data', 'Data', 'Data', 'Data', 'Data', 'Data', 'Data', 'Data', 'Data', 'Data', 'Data', 'Data', 'Data', 'Business Intelligence', 'Business Intelligence', 'Data', 'Data', 'Data', 'Data', 'Data', 'Data', 'Data', 'Data', 'Data', 'Data', 'Machine Learning', 'Machine Learning', 'Data', 'Data', 'Data', 'Data', 'Data', 'Data', 'Data', 'Data', 'Machine Learning', 'Machine Learning', 'Data', 'Data', 'Others', 'Others', 'Data', 'Data', 'Data', 'Data', 'Business Intelligence', 'Business Intelligence', 'Data', 'Data', 'Data', 'Data', 'Data', 'Data', 'Data', 'Data', 'Data', 'Data', 'Business Intelligence', 'Data', 'Data', 'Data', 'Data', 'Data', 'Data', 'Data', 'Data', 'Data', 'Research', 'Research', 'Data', 'Data', 'Data', 'Data', 'Data', 'Data', 'Data', 'Data', 'Data', 'Data', 'Data', 'Data', 'Data', 'Machine Learning', 'Machine Learning', 'Data', 'Data', 'Data', 'Data', 'Data', 'Data', 'Data', 'Data', 'Machine Learning', 'Machine Learning', 'Data', 'Data', 'Data', 'Data', 'Research', 'Research', 'Data', 'Data', 'Data', 'Data', 'Data', 'Data', 'Data', 'Data', 'Data', 'Data', 'Others', 'Others', 'Data', 'Data', 'Business Intelligence', 'Business Intelligence', 'Data', 'Data', 'Data', 'Data', 'Machine Learning', 'Machine Learning', 'Data', 'Data', 'Data', 'Data', 'Data', 'Data', 'Machine Learning', 'Machine Learning', 'Machine Learning', 'Machine Learning', 'Others', 'Others', 'Machine Learning', 'Business Intelligence', 'Business Intelligence', 'Machine Learning', 'Machine Learning', 'Business Intelligence', 'Business Intelligence', 'Data', 'Data', 'Data', 'Data', 'Machine Learning', 'Machine Learning', 'Business Intelligence', 'Business Intelligence', 'Data', 'Data', 'Business Intelligence', 'Business Intelligence', 'Data', 'Data', 'Machine Learning', 'Machine Learning', 'Data', 'Data', 'Machine Learning', 'Machine Learning', 'Machine Learning', 'Machine Learning', 'Business Intelligence', 'Business Intelligence', 'Machine Learning', 'Machine Learning', 'Data', 'Data', 'Data', 'Data', 'Data', 'Data', 'Data', 'Data', 'Data', 'Data', 'AI', 'Data', 'Data', 'Data', 'Machine Learning', 'Machine Learning', 'Others', 'Others', 'Data', 'Data', 'Data', 'Data', 'Data', 'Data', 'Data', 'Data', 'Others', 'Others', 'Data', 'Data', 'Others', 'Others', 'Data', 'Data', 'Others', 'Others', 'Data', 'Data', 'Data', 'Data', 'Data', 'Data', 'Data', 'Data', 'Data', 'Data', 'Data', 'Data', 'Research', 'Machine Learning', 'Machine Learning', 'Data', 'Data', 'Machine Learning', 'Machine Learning', 'Data', 'Data', 'Data', 'Data', 'Others', 'Others', 'Data', 'Data', 'Data', 'Data', 'Data', 'Data', 'Data', 'Data', 'Research', 'Research', 'Machine Learning', 'Machine Learning', 'Data', 'Data', 'Data', 'Data', 'Machine Learning', 'Machine Learning', 'Data', 'Data', 'Data', 'Data', 'Data', 'Data', 'Data', 'Data', 'Data', 'Data', 'Research', 'Research', 'Data', 'Data', 'Others', 'Others', 'Data', 'Data', 'Machine Learning', 'Machine Learning', 'Data', 'Data', 'Others', 'Others', 'Data', 'Data', 'Data', 'Data', 'Data', 'Data', 'Data', 'Data', 'Research', 'Research', 'Data', 'Data', 'Data', 'Data', 'Others', 'Others', 'Data', 'Data', 'Data', 'Data', 'Data', 'Data', 'Others', 'Others', 'Data', 'Data', 'Research', 'Research', 'Research', 'Research', 'Machine Learning', 'Machine Learning', 'Data', 'Data', 'Data', 'Data', 'Data', 'Data', 'Data', 'Data', 'Data', 'Data', 'Data', 'Data', 'Data', 'Data', 'Business Intelligence', 'Business Intelligence', 'Data', 'Machine Learning', 'Machine Learning', 'Data', 'Data', 'Data', 'Data', 'Data', 'Data', 'Machine Learning', 'Machine Learning', 'Data', 'Data', 'Data', 'Data', 'Data', 'Data', 'Data', 'Data', 'Machine Learning', 'Machine Learning', 'Data', 'Data', 'Data', 'Data', 'AI', 'AI', 'Machine Learning', 'Machine Learning', 'Data', 'Data', 'Data', 'Data', 'Machine Learning', 'Machine Learning', 'Data', 'Data', 'Machine Learning', 'Machine Learning', 'Data', 'Data', 'Data', 'Data', 'Data', 'Data', 'Data', 'Data', 'Data', 'Data', 'Others', 'Others', 'Data', 'Data', 'Data', 'Data', 'Data', 'Data', 'Data', 'Data', 'Others', 'Others', 'Data', 'Data', 'Data', 'Data', 'Data', 'Data', 'Business Intelligence', 'Business Intelligence', 'Business Intelligence', 'Business Intelligence', 'Data', 'Data', 'Machine Learning', 'Machine Learning', 'Data', 'Data', 'Data', 'Data', 'Data', 'Data', 'Data', 'Data', 'Data', 'Data', 'Research', 'Research', 'Machine Learning', 'Machine Learning', 'Data', 'Data', 'Data', 'Data', 'Data', 'Data', 'Data', 'Data', 'Data', 'Data', 'Data', 'Data', 'Data', 'Data', 'Data', 'Data', 'Data', 'Data', 'Data', 'Data', 'Data', 'Data', 'Machine Learning', 'Machine Learning', 'Data', 'Data', 'Others', 'Others', 'Data', 'Data', 'Business Intelligence', 'Business Intelligence', 'Data', 'Data', 'Machine Learning', 'Machine Learning', 'Research', 'Research', 'Data', 'Data', 'Machine Learning', 'Machine Learning', 'Others', 'Others', 'Data', 'Data', 'Data', 'Data', 'Others', 'Others', 'Machine Learning', 'Machine Learning', 'Data', 'Data', 'Data', 'Data', 'Data', 'Data', 'Data', 'Data', 'Data', 'Data', 'Data', 'Data', 'Data', 'Data', 'Data', 'Others', 'Others', 'Machine Learning', 'Machine Learning', 'Data', 'Data', 'Machine Learning', 'Machine Learning', 'Others', 'Others', 'Data', 'Data', 'Data', 'Data', 'Data', 'Data', 'Machine Learning', 'Data', 'Data', 'Data', 'Data', 'Data', 'Data', 'Data', 'Data', 'Data', 'Data', 'Data', 'Data', 'Data', 'Others', 'Others', 'Data', 'Data', 'Data', 'Data', 'Others', 'Others', 'Data', 'Data', 'Data', 'Data', 'Research', 'Research', 'Machine Learning', 'Data', 'Data', 'Business Intelligence', 'Business Intelligence', 'Machine Learning', 'Machine Learning', 'Data', 'Data', 'Data', 'Data', 'Data', 'Data', 'Data', 'Data', 'Data', 'Data', 'Data', 'Data', 'Data', 'Business Intelligence', 'Business Intelligence', 'Machine Learning', 'Machine Learning', 'Data', 'Data', 'Data', 'Data', 'Data', 'Data', 'Data', 'Data', 'Machine Learning', 'Machine Learning', 'Data', 'Data', 'Data', 'Data', 'Data', 'Data', 'Data', 'Data', 'Business Intelligence', 'Business Intelligence', 'Research', 'Research', 'Data', 'Data', 'Data', 'Data', 'Business Intelligence', 'Business Intelligence', 'Business Intelligence', 'Data', 'Data', 'Business Intelligence', 'Business Intelligence', 'Research', 'Research', 'Data', 'Data', 'Data', 'Data', 'Data', 'Data', 'Data', 'Data', 'Machine Learning', 'Machine Learning', 'Research', 'Research', 'Data', 'Data', 'Data', 'Data', 'Data', 'Data', 'Machine Learning', 'Machine Learning', 'Research', 'Research', 'Research', 'Research', 'Data', 'Data', 'Others', 'Others', 'Machine Learning', 'Machine Learning', 'Data', 'Business Intelligence', 'Business Intelligence', 'Data', 'Data', 'Data', 'Data', 'Others', 'Others', 'Data', 'Data', 'Data', 'Data', 'Data', 'Data', 'Data', 'Data', 'Data', 'Research', 'Research', 'Research', 'Research', 'Machine Learning', 'Machine Learning', 'Machine Learning', 'Machine Learning', 'Data', 'Data', 'Machine Learning', 'Machine Learning', 'Data', 'Data', 'Research', 'Research', 'Machine Learning', 'Machine Learning', 'Machine Learning', 'Machine Learning', 'Data', 'Data', 'Data', 'Data', 'Data', 'Data', 'Research', 'Research', 'Data', 'Data', 'Research', 'Research', 'Machine Learning', 'Machine Learning', 'Machine Learning', 'Machine Learning', 'Research', 'Research', 'Data', 'Data', 'Others', 'Others', 'Data', 'Data', 'Research', 'Research', 'Research', 'Research', 'Research', 'Research', 'Data', 'Data', 'Data', 'Data', 'Machine Learning', 'AI', 'Data', 'Data', 'AI', 'AI', 'Machine Learning', 'Machine Learning', 'Data', 'Data', 'Data', 'Data', 'Data', 'Data', 'Data', 'Data', 'Others', 'Others', 'Data', 'Data', 'Machine Learning', 'Machine Learning', 'Machine Learning', 'Machine Learning', 'Data', 'Data', 'Data', 'Data', 'Research', 'Research', 'Machine Learning', 'Machine Learning', 'Machine Learning', 'Machine Learning', 'Others', 'Others', 'Machine Learning', 'Machine Learning', 'Data', 'Data', 'Data', 'Data', 'Data', 'Data', 'Data', 'Data', 'Data', 'Data', 'Data', 'Data', 'Data', 'Data', 'Others', 'Others', 'Data', 'Data', 'AI', 'Machine Learning', 'Machine Learning', 'Data', 'Data', 'Machine Learning', 'Machine Learning', 'Machine Learning', 'Machine Learning', 'Business Intelligence', 'Business Intelligence', 'Others', 'Others', 'Machine Learning', 'Machine Learning', 'Data', 'Data', 'Data', 'Data', 'Data', 'Data', 'Data', 'Data', 'Data', 'Data', 'Data', 'Data', 'Others', 'Others', 'Business Intelligence', 'Data', 'Data', 'Data', 'Data', 'Data', 'Data', 'Others', 'Others', 'Others', 'Others', 'Others', 'Others', 'Machine Learning', 'Machine Learning', 'Data', 'Data', 'Research', 'Research', 'Data', 'Data', 'Data', 'Data', 'Research', 'Research', 'Machine Learning', 'Machine Learning', 'Data', 'Data', 'Data', 'Data', 'Data', 'Data', 'Data', 'Data', 'Business Intelligence', 'Business Intelligence', 'Data', 'Data', 'Machine Learning', 'Machine Learning', 'Data', 'Data', 'Research', 'Research', 'Data', 'Data', 'Data', 'Data', 'Business Intelligence', 'Business Intelligence', 'Data', 'Data', 'Research', 'Research', 'Others', 'Others', 'Research', 'Research', 'Data', 'Data', 'Data', 'Data', 'Data', 'Data', 'Machine Learning', 'Machine Learning', 'Data', 'Data', 'Data', 'Data', 'Data', 'Data', 'Data', 'Data', 'Business Intelligence', 'Business Intelligence', 'Machine Learning', 'Machine Learning', 'Others', 'Others', 'Machine Learning', 'Machine Learning', 'Data', 'Data', 'Data', 'Data', 'Data', 'Data', 'Data', 'Data', 'Data', 'Data', 'AI', 'Data', 'Data', 'Data', 'Others', 'Others', 'Data', 'Data', 'Data', 'Data', 'Data', 'Data', 'Data', 'Data', 'Data', 'Data', 'Data', 'Data', 'Data', 'Data', 'Data', 'Data', 'Machine Learning', 'Machine Learning', 'AI', 'AI', 'Data', 'Data', 'Data', 'Data', 'Business Intelligence', 'Business Intelligence', 'Data', 'Data', 'Data', 'Data', 'Data', 'Data', 'Data', 'Data', 'Data', 'Data', 'Data', 'Data', 'Machine Learning', 'Machine Learning', 'Data', 'Data', 'Data', 'Data', 'Data', 'Data', 'Data', 'Data', 'Data', 'Data', 'Data', 'Business Intelligence', 'Business Intelligence', 'Data', 'Data', 'Data', 'Data', 'Data', 'Data', 'Business Intelligence', 'Business Intelligence', 'Data', 'Data', 'Data', 'Data', 'Data', 'Data', 'Data', 'Data', 'Data', 'Data', 'Others', 'Others', 'Data', 'Data', 'Others', 'Others', 'Data', 'Data', 'Data', 'Data', 'Machine Learning', 'Machine Learning', 'Data', 'Data', 'Research', 'Research', 'Data', 'Data', 'Data', 'Data', 'Others', 'Others', 'Machine Learning', 'Machine Learning', 'Machine Learning', 'Machine Learning', 'Data', 'Data', 'Data', 'Data', 'Data', 'Data', 'Data', 'Data', 'Data', 'Machine Learning', 'Others', 'Others', 'Machine Learning', 'Machine Learning', 'Machine Learning', 'Machine Learning', 'Machine Learning', 'Machine Learning', 'Research', 'Research', 'Machine Learning', 'Machine Learning', 'Others', 'Others', 'Machine Learning', 'Machine Learning', 'Machine Learning', 'Machine Learning', 'Data', 'Data', 'Data', 'Data', 'Data', 'Data', 'Data', 'Others', 'Others', 'Data', 'Data', 'AI', 'Data', 'Data', 'Data', 'Data', 'Data', 'Data', 'Data', 'Research', 'Research', 'Machine Learning', 'Machine Learning', 'Research', 'Research', 'Data', 'Data', 'Machine Learning', 'Machine Learning', 'Research', 'Research', 'AI', 'Data', 'Machine Learning', 'Machine Learning', 'Data', 'Data', 'Data', 'Machine Learning', 'Data', 'Others', 'Others', 'Data', 'Data', 'Others', 'Others', 'Data', 'Data', 'Machine Learning', 'Machine Learning', 'Machine Learning', 'Machine Learning', 'Data', 'Data', 'Others', 'Others', 'Business Intelligence', 'Business Intelligence', 'Data', 'Data', 'Data', 'Data', 'Data', 'Data', 'Business Intelligence', 'Business Intelligence', 'Others', 'Others', 'Data', 'Data', 'Data', 'Data', 'Data', 'Data', 'Data', 'Data', 'Research', 'Research', 'Data', 'Data', 'Data', 'Data', 'Data', 'Data', 'Others', 'Others', 'Machine Learning', 'Machine Learning', 'Data', 'Data', 'Data', 'Data', 'Data', 'Data', 'Data', 'Data', 'Data', 'Data', 'Data', 'Data', 'Business Intelligence', 'Business Intelligence', 'AI', 'Data', 'Data', 'Data', 'Data', 'Data', 'Data', 'Data', 'Machine Learning', 'Machine Learning', 'Data', 'Data', 'Data', 'Data', 'Others', 'Others', 'Data', 'Data', 'Others', 'Others', 'Others', 'Others', 'Research', 'Research', 'Research', 'Research', 'Others', 'Others', 'Data', 'Data', 'Others', 'Machine Learning', 'Machine Learning', 'Data', 'Data', 'Data', 'Data', 'Others', 'Others', 'Machine Learning', 'Machine Learning', 'Data', 'Data', 'Business Intelligence', 'Business Intelligence', 'Data', 'Data', 'Data', 'Data', 'Data', 'Data', 'Machine Learning', 'Machine Learning', 'Others', 'Others', 'Data', 'Data', 'Data', 'Research', 'Research', 'Data', 'Data', 'Business Intelligence', 'Business Intelligence', 'Data', 'Data', 'Machine Learning', 'Machine Learning', 'Data', 'Data', 'Machine Learning', 'Machine Learning', 'Business Intelligence', 'Business Intelligence', 'Data', 'Data', 'Business Intelligence', 'Business Intelligence', 'Data', 'Data', 'Machine Learning', 'Machine Learning', 'Others', 'Others', 'Machine Learning', 'Machine Learning', 'Data', 'Data', 'Data', 'Data', 'Data', 'Data', 'Data', 'Data', 'Data', 'Others', 'Others', 'Research', 'Research', 'Business Intelligence', 'Business Intelligence', 'Data', 'Data', 'Machine Learning', 'Machine Learning', 'Data', 'Data', 'Data', 'Data', 'Data', 'Data', 'Data', 'Data', 'Machine Learning', 'Machine Learning', 'Others', 'Others', 'Research', 'Research', 'Others', 'Others', 'Data', 'Data', 'Machine Learning', 'Machine Learning', 'Data', 'Data', 'Machine Learning', 'Machine Learning', 'Data', 'Data', 'Data', 'Data', 'Machine Learning', 'Machine Learning', 'Data', 'Data', 'Machine Learning', 'Machine Learning', 'Others', 'Others', 'Data', 'Data', 'Data', 'Data', 'Machine Learning', 'Machine Learning', 'Data', 'Data', 'Others', 'Data', 'Data', 'Data', 'Data', 'Machine Learning', 'Machine Learning', 'Business Intelligence', 'Business Intelligence', 'Machine Learning', 'Machine Learning', 'Business Intelligence', 'Business Intelligence', 'Others', 'Others', 'Others', 'Others', 'Others', 'Others', 'Research', 'Research', 'Data', 'Data', 'Data', 'Data', 'Data', 'Data', 'Business Intelligence', 'Business Intelligence', 'Data', 'Data', 'Cloud', 'Data', 'Data', 'Machine Learning', 'Machine Learning', 'Data', 'Data', 'Machine Learning', 'Machine Learning', 'Others', 'Others', 'Data', 'Data', 'Data', 'Data', 'Data', 'Data', 'Data', 'Data', 'Data', 'Data', 'Machine Learning', 'Machine Learning', 'Data', 'Data', 'Data', 'Data', 'Data', 'Data', 'Data', 'Data', 'Machine Learning', 'Machine Learning', 'Machine Learning', 'Machine Learning', 'Data', 'Data', 'Data', 'Data', 'Data', 'Data', 'Data', 'Data', 'Data', 'Data', 'Others', 'Data', 'Data', 'Machine Learning', 'Machine Learning', 'Data', 'Data', 'Data', 'Data', 'Machine Learning', 'Machine Learning', 'Business Intelligence', 'Business Intelligence', 'Data', 'Data', 'Machine Learning', 'Machine Learning', 'Machine Learning', 'Machine Learning', 'Machine Learning', 'Machine Learning', 'Data', 'Data', 'Data', 'Data', 'Business Intelligence', 'Business Intelligence', 'Data', 'Data', 'Data', 'Data', 'Machine Learning', 'Machine Learning', 'Data', 'Data', 'Data', 'Data', 'Data', 'Data', 'Research', 'Data', 'Data', 'Data', 'Data', 'Data', 'Data', 'Data', 'Data', 'Data', 'Others', 'Others', 'Machine Learning', 'Machine Learning', 'Data', 'Data', 'Machine Learning', 'Machine Learning', 'Data', 'Data', 'Data', 'Data', 'Data', 'Data', 'Data', 'Data', 'Data', 'Data', 'Data', 'Machine Learning', 'Machine Learning', 'Others', 'Others', 'Business Intelligence', 'Business Intelligence', 'Others', 'Others', 'Machine Learning', 'Machine Learning', 'Data', 'Data', 'Data', 'Data', 'Data', 'Data', 'Data', 'Data', 'Others', 'Others', 'Others', 'Others', 'Data', 'Data', 'Data', 'Data', 'Data', 'Data', 'Machine Learning', 'Machine Learning', 'Data', 'Data', 'Data', 'Data', 'Data', 'Data', 'Research', 'Research', 'Data', 'Data', 'Data', 'Data', 'Data', 'Data', 'Data', 'Data', 'Data', 'Data', 'Machine Learning', 'Machine Learning', 'Business Intelligence', 'Business Intelligence', 'Data', 'Data', 'Data', 'Data', 'Data', 'Data', 'Data', 'Data', 'Data', 'Others', 'Others', 'Data', 'Data', 'Data', 'Data', 'Data', 'Data', 'Machine Learning', 'Machine Learning', 'Research', 'Research', 'Data', 'Data', 'Data', 'Data', 'Machine Learning', 'Machine Learning', 'Machine Learning', 'Machine Learning', 'Data', 'Data', 'Others', 'Others', 'Data', 'Data', 'Data', 'Data', 'Data', 'Data', 'Machine Learning', 'Machine Learning', 'Research', 'Research', 'Data', 'Data', 'Business Intelligence', 'Business Intelligence', 'Data', 'Data', 'Data', 'Data', 'Data', 'Data', 'Data', 'Data', 'Machine Learning', 'Machine Learning', 'Business Intelligence', 'Data', 'Data', 'Machine Learning', 'Machine Learning', 'Data', 'Data', 'Data', 'Data', 'Data', 'Data', 'Machine Learning', 'Machine Learning', 'Data', 'Data', 'Data', 'Data', 'Data', 'Data', 'Machine Learning', 'Machine Learning', 'Others', 'Others', 'Data', 'Data', 'Data', 'Data', 'Machine Learning', 'Machine Learning', 'Data', 'Data', 'Data', 'Data', 'Data', 'Data', 'Machine Learning', 'Machine Learning', 'Machine Learning', 'Machine Learning', 'Data', 'Data', 'Business Intelligence', 'Business Intelligence', 'Others', 'Others', 'Data', 'Data', 'Data', 'Data', 'Data', 'Data', 'Data', 'Data', 'Data', 'Data', 'Data', 'Data', 'Data', 'Data', 'Data', 'Data', 'Data', 'Data', 'Data', 'Data', 'Data', 'Data', 'Data', 'Data', 'Data', 'Data', 'Machine Learning', 'Machine Learning', 'Data', 'Data', 'Data', 'Data', 'Data', 'Data', 'Data', 'Data', 'Machine Learning', 'Machine Learning', 'Others', 'Others', 'Data', 'Data', 'Data', 'Data', 'Business Intelligence', 'Business Intelligence', 'Others', 'Others', 'Data', 'Data', 'Data', 'Data', 'Data', 'Data', 'Data', 'Data', 'Data', 'Data', 'Data', 'Data', 'Data', 'Data', 'Data', 'Data', 'Data', 'Data', 'Machine Learning', 'Machine Learning', 'Data', 'Data', 'Data', 'Data', 'Machine Learning', 'Machine Learning', 'Data', 'Data', 'Others', 'Others', 'Others', 'Others', 'Data', 'Data', 'Data', 'Data', 'Data', 'Data', 'Data', 'Data', 'Data', 'Data', 'Others', 'Others', 'Others', 'Others', 'Data', 'Data', 'Data', 'Data', 'Data', 'Data', 'Others', 'Others', 'Data', 'Data', 'Data', 'Data', 'Data', 'Data', 'Research', 'Research', 'Research', 'Research', 'Data', 'Data', 'Others', 'Others', 'Data', 'Data', 'Data', 'Data', 'Data', 'Data', 'Data', 'Data', 'Data', 'Data', 'Others', 'Others', 'Data', 'Data', 'Machine Learning', 'Machine Learning', 'Research', 'Research', 'Others', 'Others', 'Data', 'Others', 'Research', 'Research', 'Data', 'Data', 'Machine Learning', 'Machine Learning', 'Data', 'Data', 'Data', 'Data', 'Data', 'Data', 'Data', 'Data', 'Data', 'Data', 'Machine Learning', 'Machine Learning', 'Data', 'Data', 'Machine Learning', 'Machine Learning', 'Data', 'Data', 'Others', 'Others', 'Data', 'Data', 'Data', 'Data', 'Data', 'Machine Learning', 'Data', 'Data', 'Data', 'Cloud', 'Data', 'Data', 'Data', 'Data', 'Data', 'Data', 'Data', 'Data', 'Data', 'Data', 'Others', 'Others', 'Machine Learning', 'Machine Learning', 'Data', 'Data', 'Machine Learning', 'Machine Learning', 'Data', 'Data', 'Data', 'Data', 'Machine Learning', 'Machine Learning', 'Data', 'Data', 'Data', 'Data', 'Data', 'Data', 'Data', 'Others', 'Others', 'Data', 'Data', 'Others', 'Others', 'Business Intelligence', 'Business Intelligence', 'Data', 'Data', 'Data', 'Data', 'Data', 'Data', 'Data', 'Data', 'Data', 'Data', 'Machine Learning', 'Machine Learning', 'Data', 'Data', 'Others', 'Others', 'Data', 'Machine Learning', 'Research', 'Research', 'Data', 'Data', 'Data', 'Data', 'Data', 'Data', 'Data', 'Data', 'Data', 'Data', 'Others', 'Others', 'Data', 'Data', 'Data', 'Data', 'Data', 'Data', 'Data', 'Data', 'Machine Learning', 'Machine Learning', 'Business Intelligence', 'Data', 'Data', 'Data', 'Data', 'Data', 'Data', 'Data', 'Data', 'Data', 'Machine Learning', 'Machine Learning', 'Research', 'Research', 'Data', 'Data', 'Data', 'Data', 'Others', 'Others', 'Data', 'Data', 'Data', 'Data', 'Data', 'Data', 'Data', 'Data', 'Data', 'Data', 'Data', 'Data', 'Others', 'Others', 'Data', 'Data', 'Data', 'Data', 'Data', 'Data', 'Others', 'Data', 'Data', 'Data', 'Data', 'Data', 'Data', 'Research', 'Research', 'Others', 'Others', 'Data', 'Data', 'Machine Learning', 'Machine Learning', 'Others', 'Others', 'Data', 'Data', 'Data', 'Data', 'Data', 'Data', 'Others', 'Others', 'Data', 'Data', 'Research', 'Data', 'Cloud', 'Data', 'Data', 'Data', 'Data', 'Data', 'Research', 'Research', 'Data', 'Data', 'Data', 'Data', 'Others', 'Machine Learning', 'Machine Learning', 'Data', 'Data', 'Machine Learning', 'Machine Learning', 'Machine Learning', 'Machine Learning', 'Data', 'Data', 'Data', 'Data', 'Data', 'Data', 'Data', 'Data', 'Machine Learning', 'Machine Learning', 'Data', 'Data', 'Research', 'Research', 'Data', 'Data', 'Data', 'Data', 'Data', 'Data', 'Data', 'Data', 'Data', 'Data', 'Data', 'Data', 'Machine Learning', 'Machine Learning', 'Data', 'Data', 'Research', 'Research', 'Others', 'Others', 'Data', 'Data', 'Data', 'Data', 'Data', 'Data', 'Data', 'Data', 'Data', 'Data', 'Data', 'Data', 'Data', 'Data', 'Data', 'Data', 'Data', 'Data', 'Data', 'Data', 'Data', 'Data', 'Data', 'Data', 'Data', 'Data', 'Data', 'Data', 'Data', 'Data', 'Machine Learning', 'Machine Learning', 'Machine Learning', 'Machine Learning', 'Data', 'Data', 'Data', 'Data', 'Data', 'Data', 'Data', 'Data', 'Data', 'Data', 'Research', 'Research', 'Data', 'Data', 'Research', 'Research', 'Data', 'Data', 'Data', 'Data', 'Data', 'Data', 'Machine Learning', 'Machine Learning', 'Data', 'Data', 'Machine Learning', 'Machine Learning', 'Machine Learning', 'Machine Learning', 'Data', 'Data', 'Data', 'Data', 'Data', 'Data', 'AI', 'Others', 'Others', 'Data', 'Data', 'Machine Learning', 'Machine Learning', 'Data', 'Data', 'Data', 'Data', 'Data', 'Data', 'Data', 'Data', 'Machine Learning', 'Others', 'Data', 'Data', 'Research', 'Research', 'Others', 'Others', 'Data', 'Data', 'Others', 'Others', 'Data', 'Data', 'Machine Learning', 'Machine Learning', 'Machine Learning', 'Machine Learning', 'Research', 'Data', 'Data', 'Others', 'Others', 'Data', 'Data', 'Data', 'Data', 'Data', 'Data', 'Data', 'Data', 'Others', 'Others', 'Data', 'Data', 'Others', 'Others', 'Machine Learning', 'Machine Learning', 'Data', 'Data', 'Data', 'Data', 'Data', 'Data', 'Data', 'Data', 'Data', 'Data', 'Data', 'Data', 'Data', 'Data', 'Business Intelligence', 'Business Intelligence', 'Machine Learning', 'Data', 'Data', 'Others', 'Others', 'Data', 'Data', 'Others', 'Others', 'Data', 'Data', 'Others', 'Others', 'Machine Learning', 'Machine Learning', 'Data', 'Data', 'Research', 'Research', 'Others', 'Others', 'Machine Learning', 'Machine Learning', 'Data', 'Data', 'Data', 'Data', 'Data', 'Data', 'Others', 'Others', 'Data', 'Machine Learning', 'Machine Learning', 'Data', 'Data', 'Others', 'Others', 'Data', 'Data', 'Data', 'Data', 'Data', 'Data', 'Others', 'Others', 'Data', 'Data', 'Data', 'Data', 'Data', 'Data', 'Research', 'Research', 'Others', 'Others', 'Business Intelligence', 'Business Intelligence', 'Machine Learning', 'Machine Learning', 'Data', 'Data', 'Data', 'Data', 'Others', 'Others', 'Data', 'Data', 'Data', 'Data', 'Data', 'Machine Learning', 'Others', 'Others', 'Data', 'Data', 'Data', 'Data', 'Data', 'Data', 'Data', 'Data', 'Data', 'Data', 'Data', 'Data', 'Research', 'Research', 'Data', 'Data', 'Data', 'Data', 'Data', 'Data', 'Data', 'Data', 'Data', 'Data', 'Others', 'Others', 'Data', 'Data', 'Data', 'Data', 'Others', 'Others', 'Data', 'Data', 'Data', 'Data', 'Data', 'Machine Learning', 'Machine Learning', 'Machine Learning', 'Business Intelligence', 'Business Intelligence', 'Data', 'Data', 'Data', 'Data', 'Data', 'Data', 'Data', 'Data', 'Machine Learning', 'Machine Learning', 'Data', 'Data', 'Data', 'Data', 'Data', 'Data', 'Data', 'Data', 'Data', 'Data', 'Others', 'Others', 'Data', 'Data', 'Research', 'Research', 'Research', 'Machine Learning', 'Data', 'Data', 'Others', 'Others', 'Others', 'Others', 'Machine Learning', 'Machine Learning', 'Others', 'Others', 'Data', 'Data', 'Data', 'Data', 'Data', 'Data', 'Data', 'Data', 'Machine Learning', 'Machine Learning', 'Data', 'Data', 'Data', 'Data', 'Data', 'Data', 'Data', 'Data', 'Data', 'Data', 'Machine Learning', 'Machine Learning', 'Data', 'Data', 'Data', 'Data', 'Others', 'Others', 'Data', 'Data', 'Data', 'Data', 'Data', 'Data', 'Data', 'Data', 'Data', 'Data', 'Others', 'Others', 'Machine Learning', 'Machine Learning', 'Data', 'Data', 'Others', 'Others', 'Data', 'Data', 'Others', 'Others', 'Data', 'Data', 'Data', 'Data', 'Data', 'Data', 'Data', 'Data', 'Data', 'Others', 'Others', 'Data', 'Data', 'Data', 'Data', 'Machine Learning', 'Machine Learning', 'Data', 'Data', 'Data', 'Data', 'Research', 'Research', 'Data', 'Data', 'Data', 'Data', 'Data', 'Data', 'Data', 'Data', 'Data', 'Data', 'Data', 'Others', 'Others', 'Machine Learning', 'Machine Learning', 'Data', 'Data', 'Data', 'Data', 'Data', 'Data', 'AI', 'Data', 'Data', 'Data', 'Data', 'Data', 'Data', 'Data', 'Data', 'Data', 'Data', 'Data', 'Data', 'Data', 'Data', 'AI', 'Data', 'Data', 'Data', 'Data', 'Data', 'Data', 'Data', 'Data', 'Data', 'Data', 'Data', 'Data', 'Others', 'Others', 'Data', 'Data', 'Data', 'Data', 'Data', 'Research', 'Research', 'Data', 'Data', 'Data', 'Data', 'Data', 'Data', 'Data', 'Data', 'Data', 'Data', 'Data', 'Data', 'Others', 'Others', 'Others', 'Others', 'Others', 'Others', 'Data', 'Data', 'Others', 'Others', 'Research', 'Research', 'Others', 'Others', 'Data', 'Data', 'Data', 'Data', 'Data', 'Data', 'Data', 'Data', 'Data', 'Data', 'Data', 'Data', 'Others', 'Others', 'Others', 'Others', 'Data', 'Data', 'Research', 'Research', 'Data', 'Data', 'Data', 'Data', 'Data', 'Data', 'Data', 'Data', 'Data', 'Data', 'Data', 'Data', 'Data', 'Data', 'Data', 'Data', 'Data', 'Data', 'Data', 'Data', 'Data', 'AI', 'Machine Learning', 'Machine Learning', 'Machine Learning', 'Data', 'Data', 'Data', 'Data', 'Data', 'Data', 'Data', 'Data', 'Data', 'Data', 'Data', 'Data', 'Data', 'Data', 'Data', 'Machine Learning', 'Machine Learning', 'Data', 'Data', 'Data', 'Data', 'Others', 'Others', 'Data', 'Data', 'Data', 'Data', 'Data', 'Data', 'Data', 'Data', 'Machine Learning', 'Machine Learning', 'Data', 'Data', 'Data', 'Data', 'Data', 'Data', 'Data', 'Research', 'Research', 'Data', 'Data', 'Data', 'Data', 'Data', 'Data', 'Data', 'Data', 'Machine Learning', 'Machine Learning', 'Data', 'Data', 'Data', 'Data', 'Data', 'Data', 'Data', 'Data', 'Data', 'Data', 'Data', 'Data', 'Data', 'Data', 'Data', 'Data', 'Data', 'Data', 'Data', 'Data', 'Data', 'Data', 'Others', 'Others', 'Data', 'Data', 'Research', 'Research', 'Machine Learning', 'Machine Learning', 'Data', 'Data', 'Data', 'Data', 'Data', 'Data', 'Data', 'Data', 'Data', 'Data', 'Research', 'Research', 'Data', 'Data', 'Data', 'Data', 'Data', 'Data', 'Machine Learning', 'Machine Learning', 'Data', 'Data', 'Machine Learning', 'Machine Learning', 'Data', 'Data', 'Data', 'Data', 'Data', 'Data', 'Others', 'Others', 'Others', 'Others', 'Data', 'Data', 'Others', 'Others', 'Machine Learning', 'Machine Learning', 'Data', 'Data', 'Data', 'Data', 'Data', 'Data', 'Data', 'Data', 'Data', 'Data', 'Data', 'Data', 'Data', 'Data', 'Data', 'Data', 'Data', 'Data', 'Data', 'Data', 'Data', 'Data', 'Data', 'Data', 'Data', 'Data', 'Data', 'Data', 'Data', 'Data', 'Data', 'Machine Learning', 'Machine Learning', 'Data', 'Data', 'Research', 'Research', 'Data', 'Data', 'Data', 'Data', 'Data', 'Data', 'Data', 'AI', 'AI', 'Machine Learning', 'Machine Learning', 'Data', 'Data', 'Data', 'Data', 'Data', 'Data', 'Data', 'Data', 'Machine Learning', 'Machine Learning', 'Data', 'Data', 'Data', 'Data', 'Data', 'Data', 'Research', 'Research', 'Research', 'Research', 'Data', 'Data', 'Data', 'Data', 'Data', 'Data', 'Data', 'Data', 'Research', 'Research', 'Machine Learning', 'AI', 'Machine Learning', 'Machine Learning', 'Data', 'Data', 'Data', 'Data', 'Data', 'Data', 'Data', 'Data', 'Machine Learning', 'Machine Learning', 'Data', 'Data', 'Data', 'Data', 'Others', 'Others', 'Data', 'Data', 'Data', 'Data', 'Data', 'Data', 'Data', 'Data', 'Data', 'Data', 'Data', 'Data', 'Data', 'Data', 'Data', 'Data', 'Data', 'Data', 'Data', 'Data', 'Machine Learning', 'Machine Learning', 'Data', 'Data', 'Data', 'Data', 'Machine Learning', 'Data', 'Data', 'Data', 'Data', 'Data', 'Data', 'Data', 'Data', 'Data', 'Data', 'Data', 'Data', 'Data', 'Data', 'Data', 'Data', 'Data', 'Data', 'Data', 'Data', 'Data', 'Data', 'Data', 'Data', 'Data', 'Data', 'Data', 'Data', 'Data', 'Data', 'Data', 'Data', 'Data', 'Data', 'Data', 'Data', 'Data', 'Data', 'Data', 'Data', 'Data', 'Data', 'Data', 'Data', 'Data', 'Data', 'Data', 'Data', 'Data', 'Data', 'Data', 'Data', 'Data', 'Data', 'Data', 'Data', 'Data', 'Data', 'Data', 'Data', 'Data', 'Data', 'Data', 'Data', 'Data', 'Data', 'Data', 'Data', 'Data', 'Data', 'Data', 'Data', 'Data', 'Data', 'Data', 'Data', 'Data', 'Data', 'Data', 'Data', 'Data', 'Data', 'Data', 'Data', 'Cloud', 'Machine Learning', 'Data', 'Data', 'Data', 'Data', 'Data', 'Data', 'Data', 'Data', 'Machine Learning', 'Machine Learning', 'Research', 'Research', 'Data', 'Data', 'Data', 'Data', 'Data', 'Data', 'Data', 'Data', 'Others', 'Others', 'Data', 'Data', 'Data', 'Data', 'Data', 'Data', 'Data', 'Data', 'Data', 'Data', 'Data', 'Data', 'Data', 'Data', 'Data', 'Data', 'Data', 'Data', 'Others', 'Others', 'Data', 'Data', 'Data', 'Data', 'Data', 'Data', 'Data', 'Data', 'Data', 'Data', 'Data', 'Data', 'Data', 'Data', 'Data', 'Research', 'Research', 'Data', 'Data', 'Data', 'Data', 'Others', 'Others', 'Data', 'Data', 'Machine Learning', 'Machine Learning', 'Data', 'Data', 'Data', 'Data', 'Data', 'Data', 'AI', 'AI', 'Data', 'Machine Learning', 'Machine Learning', 'Data', 'Data', 'Data', 'Data', 'Data', 'Data', 'Research', 'Research', 'Data', 'Data', 'Data', 'Data', 'Others', 'Others', 'Data', 'Data', 'Data', 'Data', 'Data', 'Data', 'Machine Learning', 'Machine Learning', 'Data', 'Data', 'Data', 'Data', 'Data', 'Data', 'Machine Learning', 'Machine Learning', 'Data', 'Data', 'Data', 'Data', 'Business Intelligence', 'Data', 'Data', 'Data', 'Machine Learning', 'Machine Learning', 'Others', 'Others', 'Machine Learning', 'Machine Learning', 'Data', 'Data', 'Machine Learning', 'Machine Learning', 'Data', 'Data', 'Data', 'Data', 'Data', 'Data', 'Data', 'Data', 'Data', 'Data', 'Data', 'Data', 'Data', 'Data', 'Data', 'Data', 'Research', 'Data', 'Data', 'Business Intelligence', 'Business Intelligence', 'Data', 'Data', 'Data', 'Data', 'Data', 'Data', 'Data', 'Data', 'Research', 'Research', 'Data', 'Data', 'Data', 'Data', 'Data', 'Data', 'Data', 'Data', 'Data', 'Data', 'Data', 'Data', 'Data', 'Data', 'Research', 'Research', 'AI', 'Data', 'Data', 'Machine Learning', 'Machine Learning', 'Data', 'Data', 'Data', 'Data', 'Research', 'Research', 'Machine Learning', 'Machine Learning', 'Data', 'Data', 'Data', 'Data', 'Data', 'Data', 'Data', 'Data', 'Data', 'Machine Learning', 'Machine Learning', 'Data', 'Data', 'Data', 'Data', 'Data', 'Data', 'Data', 'Data', 'Data', 'Data', 'Machine Learning', 'Machine Learning', 'Data', 'Data', 'Data', 'Data', 'Data', 'Data', 'Data', 'Data', 'Data', 'Data', 'Data', 'Data', 'Research', 'Research', 'Data', 'Data', 'Data', 'Data', 'Data', 'Data', 'Data', 'Data', 'Data', 'Data', 'Data', 'Data', 'Data', 'Data', 'Machine Learning', 'Machine Learning', 'Data', 'Data', 'Machine Learning', 'Machine Learning', 'Data', 'Data', 'Machine Learning', 'Machine Learning', 'Data', 'Data', 'Data', 'Data', 'Data', 'Data', 'Data', 'Data', 'Data', 'Data', 'Data', 'Data', 'Data', 'Data', 'Data', 'Data', 'Data', 'Data', 'Data', 'Data', 'Data', 'Data', 'Data', 'Data', 'Data', 'Data', 'Data', 'Data', 'Data', 'Data', 'Others', 'Others', 'Machine Learning', 'Machine Learning', 'Data', 'Data', 'Machine Learning', 'Machine Learning', 'Data', 'Data', 'Data', 'Data', 'Data', 'Data', 'Data', 'Data', 'Research', 'Research', 'Data', 'Data', 'Data', 'Data', 'Research', 'Research', 'Data', 'Data', 'Data', 'Data', 'Data', 'Research', 'Research', 'Data', 'Data', 'Data', 'Data', 'Data', 'Data', 'Data', 'Data', 'Data', 'Data', 'Data', 'Others', 'Data', 'AI', 'Machine Learning', 'Machine Learning', 'Data', 'Machine Learning', 'Machine Learning', 'Data', 'Data', 'Data', 'Data', 'Machine Learning', 'Machine Learning', 'Data', 'Data', 'Data', 'Data', 'Data', 'Data', 'Data', 'Data', 'Machine Learning', 'Machine Learning', 'Data', 'Data', 'Data', 'Data', 'Data', 'Data', 'Machine Learning', 'Machine Learning', 'Data', 'Data', 'Machine Learning', 'Machine Learning', 'Data', 'Data', 'Data', 'Research', 'Research', 'Machine Learning', 'Machine Learning', 'Data', 'Data', 'Machine Learning', 'Machine Learning', 'Data', 'Data', 'Data', 'Data', 'Data', 'Data', 'Data', 'Data', 'Data', 'Data', 'Data', 'Data', 'Data', 'Data', 'Data', 'Data', 'Data', 'Data', 'Others', 'Others', 'Data', 'Data', 'Data', 'Data', 'Data', 'Data', 'Data', 'Data', 'Data', 'Data', 'Data', 'Data', 'Machine Learning', 'Machine Learning', 'Data', 'Data', 'Data', 'Data', 'Machine Learning', 'Data', 'AI', 'Data', 'Data', 'Data', 'Data', 'Data', 'Data', 'Data', 'Data', 'Data', 'Data', 'Machine Learning', 'Machine Learning', 'Data', 'Data', 'Research', 'Research', 'Machine Learning', 'Machine Learning', 'Others', 'Others', 'Others', 'Others', 'Data', 'Data', 'Data', 'Data', 'Data', 'Data', 'Data', 'Data', 'Others', 'Others', 'Data', 'Data', 'Data', 'Data', 'Data', 'Data', 'Data', 'Data', 'Data', 'Data', 'Data', 'Data', 'Data', 'Machine Learning', 'Machine Learning', 'AI', 'Machine Learning', 'Machine Learning', 'Data', 'Data', 'Machine Learning', 'Machine Learning', 'Data', 'Data', 'Machine Learning', 'Machine Learning', 'Machine Learning', 'Machine Learning', 'Data', 'Data', 'Data', 'Data', 'Machine Learning', 'Machine Learning', 'Data', 'Data', 'Machine Learning', 'Machine Learning', 'Data', 'Data', 'Data', 'Data', 'Machine Learning', 'Machine Learning', 'Data', 'Data', 'Data', 'Data', 'Data', 'Data', 'Data', 'Data', 'Data', 'Data', 'Data', 'Data', 'Data', 'Data', 'Data', 'Data', 'Data', 'Data', 'Data', 'Data', 'Data', 'Data', 'Data', 'Data', 'Data', 'Data', 'Data', 'Data', 'Machine Learning', 'Machine Learning', 'Data', 'Data', 'Machine Learning', 'Machine Learning', 'Data', 'Data', 'Data', 'Data', 'Machine Learning', 'Machine Learning', 'Machine Learning', 'Machine Learning', 'Data', 'Data', 'Data', 'Data', 'Data', 'Data', 'Data', 'Data', 'Data', 'Data', 'Machine Learning', 'Machine Learning', 'Data', 'Data', 'Data', 'Data', 'Data', 'Machine Learning', 'Research', 'Research', 'Machine Learning', 'Machine Learning', 'Data', 'Data', 'Data', 'Data', 'Data', 'Data', 'Data', 'Data', 'Data', 'Data', 'Data', 'Data', 'Data', 'Data', 'Data', 'Data', 'Data', 'Data', 'Data', 'Data', 'Data', 'Data', 'Data', 'Data', 'Data', 'Data', 'Data', 'Data', 'Data', 'Data', 'Data', 'Data', 'Data', 'Data', 'Data', 'Research', 'Research', 'Research', 'Research', 'Data', 'Data', 'Data', 'Data', 'Data', 'Data', 'Machine Learning', 'Data', 'Data', 'Machine Learning', 'Machine Learning', 'Data', 'Data', 'Data', 'Data', 'Data', 'Data', 'Data', 'Data', 'Machine Learning', 'Machine Learning', 'Data', 'Data', 'Data', 'Data', 'Data', 'Data', 'Data', 'Data', 'Data', 'Data', 'Data', 'Data', 'Data', 'Machine Learning', 'Machine Learning', 'Data', 'Data', 'Data', 'Data', 'Data', 'Data', 'Data', 'Data', 'Data', 'Data', 'Data', 'Data', 'Data', 'Data', 'Data', 'Data', 'Data', 'Data', 'Data', 'Data', 'Machine Learning', 'Data', 'Data', 'Research', 'Research', 'Data', 'Data', 'Machine Learning', 'Machine Learning', 'Data', 'Data', 'Machine Learning', 'Machine Learning', 'Others', 'Data', 'Data', 'Data', 'Data', 'Data', 'Data', 'Data', 'Data', 'Data', 'Research', 'Research', 'Research', 'Research', 'Data', 'Data', 'Data', 'Data', 'Data', 'Cloud', 'Data', 'Data', 'Data', 'Data', 'Data', 'Data', 'Research', 'Research', 'Business Intelligence', 'Business Intelligence', 'Data', 'Data', 'Machine Learning', 'Machine Learning', 'Data', 'Data', 'Data', 'Data', 'Data', 'Data', 'Machine Learning', 'Machine Learning', 'Machine Learning', 'Machine Learning', 'Data', 'Data', 'Data', 'Data', 'Data', 'Data', 'Data', 'Data', 'Data', 'Data', 'Data', 'Data', 'Data', 'Data', 'Machine Learning', 'Machine Learning', 'Data', 'Data', 'Data', 'Data', 'Research', 'Machine Learning', 'Data', 'Data', 'Data', 'Data', 'Data', 'Data', 'Data', 'Data', 'Data', 'Data', 'Others', 'Others', 'Data', 'Data', 'Business Intelligence', 'Business Intelligence', 'Data', 'Data', 'Data', 'Data', 'Data', 'Data', 'Data', 'Data', 'Data', 'Data', 'Data', 'Data', 'Data', 'Data', 'Data', 'Machine Learning', 'Machine Learning', 'Others', 'Others', 'Data', 'Data', 'Machine Learning', 'Machine Learning', 'Data', 'Data', 'Data', 'Data', 'Machine Learning', 'Machine Learning', 'Data', 'Data', 'Data', 'Data', 'Data', 'Data', 'Data', 'Data', 'Data', 'Data', 'Data', 'Data', 'Data', 'Data', 'Data', 'Data', 'Data', 'Data', 'Data', 'Data', 'Data', 'Data', 'Data', 'Data', 'Data', 'Data', 'Data', 'Data', 'Data', 'Data', 'Data', 'Data', 'Data', 'Data', 'Data', 'Data', 'Data', 'Others', 'Others', 'Others', 'Others', 'Data', 'Data', 'Data', 'Data', 'Data', 'Data', 'Data', 'Data', 'Data', 'Data', 'Machine Learning', 'Machine Learning', 'Data', 'Data', 'Data', 'Data', 'Data', 'Data', 'Data', 'Data', 'Data', 'Data', 'Data', 'Data', 'Data', 'Data', 'Data', 'Data', 'Data', 'Data', 'Data', 'Data', 'Data', 'Data', 'Data', 'Data', 'Data', 'Data', 'Data', 'Data', 'Data', 'Data', 'Data', 'Data', 'Data', 'Data', 'Business Intelligence', 'Business Intelligence', 'Data', 'Data', 'Machine Learning', 'Machine Learning', 'Data', 'AI', 'Data', 'Data', 'Data', 'Data', 'Data', 'Data', 'Data', 'Data', 'Data', 'Data', 'Data', 'Data', 'Data', 'Data', 'Data', 'Data', 'Others', 'Data', 'Data', 'Data', 'Data', 'Data', 'Data', 'Data', 'Data', 'Business Intelligence', 'Business Intelligence', 'Data', 'Data', 'Research', 'Research', 'Data', 'Data', 'Data', 'Data', 'Data', 'Data', 'Data', 'Data', 'Data', 'Data', 'Data', 'Data', 'Data', 'Data', 'Data', 'Data', 'Data', 'Data', 'Data', 'Data', 'Data', 'Data', 'Data', 'Data', 'Data', 'Data', 'Data', 'Data', 'Data', 'Data', 'Data', 'Data', 'Data', 'Data', 'Others', 'Data', 'Data', 'Data', 'Data', 'Data', 'Data', 'Machine Learning', 'Machine Learning', 'Data', 'Data', 'Data', 'Data', 'Data', 'Data', 'Data', 'Data', 'Data', 'Data', 'Data', 'Data', 'Data', 'Data', 'Data', 'Data', 'Data', 'Data', 'Data', 'Data', 'Data', 'Machine Learning', 'Machine Learning', 'Machine Learning', 'Machine Learning', 'Data', 'Machine Learning', 'Machine Learning', 'Data', 'Data', 'Data', 'Data', 'Data', 'Data', 'Business Intelligence', 'Business Intelligence', 'Research', 'Research', 'Data', 'Data', 'Data', 'Data', 'Data', 'Data', 'Data', 'Data', 'Data', 'Data', 'Data', 'Data', 'Data', 'Data', 'Others', 'Others', 'Machine Learning', 'Machine Learning', 'Data', 'Data', 'Data', 'Data', 'Data', 'Data', 'Data', 'Data', 'Data', 'Data', 'Research', 'Research', 'Cloud', 'Cloud', 'Data', 'Data', 'Data', 'Data', 'Data', 'Data', 'Data', 'Data', 'Machine Learning', 'Others', 'Others', 'Business Intelligence', 'Business Intelligence', 'Data', 'Data', 'Data', 'Data', 'Data', 'Data', 'Others', 'Others', 'Data', 'Data', 'Machine Learning', 'Machine Learning', 'Data', 'Data', 'Data', 'Data', 'Machine Learning', 'Data', 'Research', 'Research', 'Machine Learning', 'Machine Learning', 'Machine Learning', 'Machine Learning', 'Data', 'Data', 'Others', 'Others', 'Data', 'Data', 'Data', 'Data', 'Others', 'Others', 'Data', 'Data', 'Machine Learning', 'Machine Learning', 'Data', 'Data', 'Research', 'Research', 'Data', 'Data', 'Data', 'Data', 'Data', 'Data', 'Data', 'Data', 'Data', 'Data', 'Data', 'Data', 'Data', 'Data', 'Data', 'Data', 'Data', 'Research', 'Research', 'Research', 'Research', 'Research', 'Research', 'Others', 'Others', 'Research', 'Research', 'Data', 'Data', 'Data', 'Data', 'Data', 'Data', 'Data', 'Machine Learning', 'Machine Learning', 'Data', 'Data', 'Data', 'Data', 'Machine Learning', 'Machine Learning', 'Data', 'Data', 'Others', 'Others', 'Data', 'Data', 'Data', 'Data', 'Others', 'Others', 'Data', 'Data', 'Data', 'Data', 'Data', 'Data', 'Data', 'Data', 'Research', 'Research', 'Data', 'Data', 'Data', 'Data', 'Machine Learning', 'Machine Learning', 'Data', 'Data', 'Machine Learning', 'Machine Learning', 'Data', 'Data', 'Data', 'Data', 'Data', 'Data', 'Data', 'Data', 'Data', 'Data', 'Data', 'Machine Learning', 'Machine Learning', 'Data', 'Data', 'Data', 'Data', 'Data', 'Data', 'Data', 'Data', 'Data', 'Data', 'Data', 'Data', 'Data', 'Data', 'Data', 'Data', 'Data', 'Data', 'Data', 'Data', 'Data', 'Data', 'Data', 'Machine Learning', 'Data', 'Data', 'Data', 'Data', 'Data', 'Data', 'Data', 'Data', 'Data', 'AI', 'Data', 'Data', 'Machine Learning', 'Machine Learning', 'Data', 'Data', 'Data', 'Data', 'Data', 'Data', 'Data', 'Data', 'Machine Learning', 'Machine Learning', 'Data', 'Data', 'Machine Learning', 'Data', 'Data', 'Data', 'Data', 'Data', 'Data', 'Data', 'Data', 'Data', 'Data', 'Data', 'Data', 'Data', 'Data', 'Data', 'Data', 'Machine Learning', 'Machine Learning', 'Data', 'Data', 'Machine Learning', 'Machine Learning', 'Cloud', 'Cloud', 'Data', 'Data', 'Data', 'Data', 'Data', 'Data', 'Data', 'Machine Learning', 'Machine Learning', 'Machine Learning', 'Machine Learning', 'Data', 'Data', 'Data', 'Data', 'Data', 'Data', 'Data', 'Data', 'Data', 'Data', 'Others', 'Others', 'Data', 'Data', 'Data', 'Others', 'Data', 'Data', 'Data', 'Data', 'Data', 'Data', 'Data', 'Data', 'Data', 'Data', 'Others', 'Others', 'Data', 'Data', 'Data', 'Data', 'Machine Learning', 'Machine Learning', 'Data', 'Data', 'Data', 'Data', 'Data', 'Data', 'Data', 'Data', 'Data', 'AI', 'Data', 'Data', 'Data', 'Data', 'Data', 'Data', 'Data', 'Data', 'Data', 'Data', 'Data', 'Data', 'Research', 'Research', 'Others', 'Others', 'Data', 'Data', 'Data', 'Data', 'Research', 'Research', 'Others', 'Data', 'Data', 'Data', 'Data', 'Data', 'Data', 'Machine Learning', 'Machine Learning', 'Data', 'Data', 'Data', 'Data', 'Data', 'Data', 'Research', 'Research', 'Data', 'Data', 'Data', 'Data', 'Data', 'Data', 'Data', 'Data', 'Data', 'Data', 'Data', 'Data', 'Data', 'Data', 'Data', 'Data', 'Data', 'Data', 'Machine Learning', 'Machine Learning', 'Data', 'Data', 'Machine Learning', 'Machine Learning', 'Data', 'Data', 'Data', 'Data', 'Data', 'Data', 'Data', 'Business Intelligence', 'Business Intelligence', 'Data', 'Data', 'Data', 'Machine Learning', 'Machine Learning', 'Data', 'Data', 'Data', 'Data', 'Data', 'Data', 'Data', 'AI', 'Data', 'Data', 'Data', 'Data', 'Data', 'Data', 'Data', 'Data', 'Data', 'Data', 'Data', 'Data', 'Data', 'Data', 'Data', 'Data', 'Data', 'Data', 'Data', 'Machine Learning', 'Machine Learning', 'Data', 'Data', 'Data', 'Data', 'Machine Learning', 'Data', 'Data', 'Data', 'Data', 'Data', 'Data', 'Others', 'Others', 'Machine Learning', 'Machine Learning', 'Machine Learning', 'Machine Learning', 'Machine Learning', 'Machine Learning', 'Data', 'Data', 'Machine Learning', 'Machine Learning', 'Data', 'Data', 'Data', 'Data', 'Data', 'Data', 'Data', 'Data', 'Data', 'Data', 'Data', 'Data', 'Data', 'Data', 'Data', 'Data', 'Machine Learning', 'Machine Learning', 'Others', 'Others', 'Data', 'Data', 'Data', 'Data', 'Data', 'Data', 'Data', 'Data', 'Data', 'Data', 'Data', 'Data', 'Data', 'Data', 'Data', 'Data', 'Data', 'Data', 'Data', 'Data', 'Data', 'Data', 'Data', 'Data', 'Data', 'Data', 'Data', 'Data', 'Data', 'Data', 'Data', 'Data', 'Data', 'Data', 'Data', 'Machine Learning', 'Machine Learning', 'Data', 'Data', 'Data', 'Data', 'Data', 'Data', 'Data', 'Data', 'Data', 'Data', 'Machine Learning', 'Machine Learning', 'Data', 'Data', 'Machine Learning', 'Machine Learning', 'Data', 'Data', 'Data', 'Data', 'Data', 'Data', 'Data', 'Data', 'Data', 'Data', 'Data', 'Data', 'Data', 'Data', 'Data', 'Data', 'Data', 'Data', 'Machine Learning', 'Data', 'Data', 'Data', 'Data', 'Data', 'Data', 'Machine Learning', 'Machine Learning', 'Data', 'Data', 'Data', 'Data', 'Research', 'Research', 'Data', 'Data', 'Data', 'Data', 'Machine Learning', 'Machine Learning', 'Data', 'Data', 'Data', 'Data', 'Data', 'Data', 'Data', 'Data', 'Data', 'Data', 'Data', 'Data', 'Machine Learning', 'Data', 'Data', 'Data', 'Data', 'Data', 'Data', 'Data', 'Data', 'Data', 'Data', 'Data', 'Others', 'Others', 'Data', 'Data', 'Data', 'Data', 'Data', 'Data', 'Data', 'Data', 'Data', 'Data', 'Data', 'Data', 'Data', 'Data', 'Data', 'Data', 'Data', 'Data', 'Data', 'Data', 'Data', 'Data', 'Data', 'Data', 'Data', 'Others', 'Others', 'Data', 'Data', 'Data', 'Data', 'Data', 'Data', 'Machine Learning', 'Data', 'Data', 'Data', 'Others', 'Others', 'Data', 'Data', 'Data', 'Data', 'Data', 'Data', 'Data', 'Data', 'Data', 'Data', 'Data', 'Data', 'Data', 'Data', 'Data', 'Data', 'Data', 'Data', 'Data', 'Data', 'Data', 'Data', 'Data', 'Data', 'Data', 'Data', 'Data', 'Data', 'Data', 'Data', 'Others', 'Others', 'Data', 'Data', 'Data', 'Data', 'Data', 'Data', 'Data', 'Others', 'Others', 'Data', 'Data', 'Data', 'Data', 'Others', 'Others', 'Data', 'Data', 'Data', 'Data', 'Data', 'Data', 'Data', 'Data', 'Data', 'Data', 'Data', 'Data', 'Data', 'Others', 'Others', 'Data', 'Data', 'Others', 'Others', 'Others', 'Others', 'Data', 'Data', 'Data', 'Data', 'Research', 'Research', 'Machine Learning', 'Machine Learning', 'Others', 'Data', 'Data', 'Data', 'Data', 'Machine Learning', 'Machine Learning', 'Data', 'Data', 'Data', 'Data', 'Machine Learning', 'Machine Learning', 'Data', 'Data', 'Data', 'Data', 'Data', 'Data', 'Data', 'Data', 'Others', 'Others', 'Data', 'Data', 'Data', 'Data', 'Data', 'Data', 'Data', 'Data', 'Machine Learning', 'Machine Learning', 'Machine Learning', 'Machine Learning', 'Data', 'Data', 'Data', 'Data', 'Data', 'Data', 'Data', 'Data', 'Machine Learning', 'Machine Learning', 'Machine Learning', 'Machine Learning', 'Machine Learning', 'Data', 'Data', 'Data', 'Data', 'Data', 'Data', 'Data', 'Data', 'Data', 'Data', 'Data', 'Data', 'Data', 'Data', 'Data', 'Data', 'Data', 'Data', 'Data', 'Data', 'Data', 'Data', 'Data', 'Data', 'Data', 'Data', 'Data', 'Data', 'Data', 'Data', 'Data', 'Data', 'Data', 'Data', 'Data', 'Data', 'Data', 'Data', 'Data', 'Data', 'Data', 'Data', 'Data', 'Data', 'Data', 'Data', 'Data', 'Data', 'Data', 'Machine Learning', 'Machine Learning', 'Data', 'Data', 'Data', 'Data', 'Data', 'Data', 'Data', 'Data', 'Data', 'Data', 'Data', 'Data', 'Data', 'Data', 'Data', 'Data', 'Data', 'Data', 'Data', 'Data', 'Data', 'Data', 'Data', 'Data', 'Data', 'Data', 'Data', 'Data', 'Data', 'Data', 'Data', 'Data', 'Data', 'Data', 'Data', 'Data', 'Data', 'Machine Learning', 'Machine Learning', 'Data', 'Data', 'Data', 'Data', 'Data', 'Data', 'Business Intelligence', 'Data', 'Data', 'Data', 'Data', 'Others', 'Others', 'Data', 'Data', 'Data', 'Data', 'Data', 'Data', 'Data', 'Data', 'Data', 'Data', 'Machine Learning', 'Machine Learning', 'Research', 'Data', 'Data', 'Data', 'Data', 'Data', 'Data', 'Data', 'Data', 'Data', 'Data', 'Data', 'Machine Learning', 'Machine Learning', 'Data', 'Data', 'Data', 'Data', 'Machine Learning', 'Machine Learning', 'Data', 'Data', 'Others', 'Others', 'Data', 'Data', 'Data', 'Data', 'Data', 'Data', 'Data', 'Data', 'Data', 'Data', 'Data', 'Data', 'Data', 'Data', 'Data', 'Data', 'Data', 'Data', 'Data', 'Data', 'Data', 'Data', 'Data', 'Others', 'Others', 'Data', 'Data', 'Data', 'Data', 'Data', 'Data', 'Data', 'Data', 'Data', 'Data', 'Business Intelligence', 'Business Intelligence', 'Data', 'Data', 'Data', 'Data', 'Data', 'Data', 'Data', 'Data', 'Data', 'Data', 'Data', 'Data', 'Data', 'Data', 'Data', 'Data', 'Data', 'Data', 'Data', 'Data', 'Data', 'Data', 'Data', 'Data', 'Data', 'Data', 'Machine Learning', 'Data', 'Data', 'Data', 'Data', 'Data', 'Data', 'Data', 'Data', 'Data', 'Data', 'Data', 'Data', 'Data', 'Data', 'Data', 'Data', 'Data', 'Data', 'Data', 'Data', 'Data', 'Data', 'Data', 'Data', 'Data', 'Data', 'Data', 'Data', 'Others', 'Others', 'Data', 'Data', 'Data', 'Data', 'Data', 'Data', 'Data', 'Data', 'Data', 'Data', 'Data', 'Data', 'Data', 'Data', 'Data', 'Data', 'Machine Learning', 'Machine Learning', 'Data', 'Data', 'Data', 'Data', 'Data', 'Data', 'Data', 'Data', 'Data', 'Data', 'Data', 'Data', 'Data', 'Data', 'Data', 'Data', 'Data', 'Data', 'Data', 'Data', 'Data', 'Data', 'Data', 'Data', 'Data', 'Machine Learning', 'Machine Learning', 'Data', 'Data', 'Data', 'Data', 'Data', 'Data', 'Data', 'Data', 'Data', 'Others', 'Others', 'Data', 'Data', 'Data', 'Data', 'Business Intelligence', 'Data', 'Data', 'Machine Learning', 'Data', 'Research', 'Research', 'Data', 'Data', 'Others', 'Others', 'Machine Learning', 'Machine Learning', 'Data', 'Data', 'Others', 'Others', 'Data', 'Data', 'Data', 'Data', 'Data', 'Data', 'Machine Learning', 'Machine Learning', 'Data', 'Data', 'Others', 'Others', 'Data', 'Data', 'Data', 'Data', 'Data', 'Data', 'Data', 'Data', 'Data', 'Data', 'AI', 'Data', 'Data', 'Data', 'Data', 'Data', 'Data', 'Data', 'Data', 'Data', 'Machine Learning', 'Machine Learning', 'Data', 'Data', 'Data', 'Data', 'Others', 'Others', 'Data', 'Data', 'Data', 'Data', 'Data', 'Data', 'Machine Learning', 'Machine Learning', 'Data', 'Data', 'Data', 'Data', 'Data', 'Data', 'Data', 'Data', 'Data', 'Data', 'Data', 'Data', 'Data', 'Data', 'Data', 'Machine Learning', 'Machine Learning', 'Data', 'Data', 'Data', 'Data', 'Data', 'Data', 'Data', 'Data', 'Data', 'Data', 'Machine Learning', 'Machine Learning', 'Data', 'Data', 'Data', 'Data', 'Data', 'Data', 'Data', 'Data', 'Data', 'Data', 'Data', 'Data', 'Data', 'AI', 'Data', 'Data', 'Machine Learning', 'Machine Learning', 'Data', 'Data', 'Data', 'Data', 'Data', 'Data', 'Data', 'Data', 'Data', 'Data', 'Others', 'Machine Learning', 'Data', 'Data', 'Data', 'Data', 'Data', 'Others', 'Others', 'Data', 'Data', 'Data', 'Data', 'Machine Learning', 'Machine Learning', 'Data', 'Data', 'Data', 'Data', 'Machine Learning', 'Machine Learning', 'Data', 'Data', 'Data', 'Data', 'Others', 'Others', 'Data', 'Data', 'Machine Learning', 'Data', 'Data', 'Data', 'Data', 'Data', 'Data', 'Data', 'Others', 'Others', 'Data', 'Data', 'Data', 'Data', 'Data', 'Data', 'Data', 'Data', 'Data', 'Data', 'Data', 'Data', 'Data', 'Data', 'Data', 'Data', 'Data', 'Data', 'Data', 'Data', 'Data', 'Data', 'Data', 'Others', 'Others', 'Data', 'Data', 'Data', 'Data', 'Others', 'Others', 'Data', 'Data', 'Data', 'Data', 'Data', 'Data', 'Data', 'Data', 'Data', 'Data', 'Data', 'Data', 'Data', 'Data', 'Data', 'Data', 'Data', 'Data', 'Data', 'Data', 'Data', 'Others', 'Others', 'Data', 'Data', 'Data', 'Data', 'Data', 'Data', 'Data', 'Data', 'Data', 'Data', 'Data', 'Data', 'Data', 'Data', 'Machine Learning', 'Machine Learning', 'AI', 'Data', 'Data', 'Others', 'Others', 'Data', 'Data', 'Others', 'Data', 'Data', 'Data', 'Data', 'Data', 'Data', 'Data', 'Data', 'Machine Learning', 'Data', 'Data', 'Data', 'Data', 'Data', 'Data', 'Data', 'Data', 'Data', 'Data', 'Others', 'Others', 'Data', 'Data', 'Research', 'Data', 'Data', 'Others', 'Others', 'Data', 'Data', 'Data', 'Data', 'Data', 'Others', 'Others', 'Others', 'Others', 'Data', 'Data', 'Machine Learning', 'Machine Learning', 'Machine Learning', 'Machine Learning', 'Data', 'Data', 'Machine Learning', 'Data', 'Data', 'Machine Learning', 'Machine Learning', 'Data', 'Data', 'Data', 'Data', 'Others', 'Others', 'Data', 'Data', 'Data', 'Data', 'Others', 'Others', 'Data', 'Data', 'Machine Learning', 'Machine Learning', 'Data', 'Data', 'Machine Learning', 'Machine Learning', 'Data', 'Data', 'Data', 'Data', 'Machine Learning', 'Machine Learning', 'Data', 'Data', 'Others', 'Others', 'Data', 'Data', 'Data', 'Data', 'Data', 'Data', 'Machine Learning', 'Machine Learning', 'Machine Learning', 'Data', 'Data', 'Data', 'Data', 'Data', 'Data', 'Machine Learning', 'Machine Learning', 'Data', 'Data', 'Data', 'Data', 'Data', 'Data', 'Data', 'Data', 'Data', 'Data', 'Data', 'Data', 'Data', 'Data', 'Data', 'Data', 'Data', 'Data', 'Data', 'Data', 'Data', 'Data', 'Machine Learning', 'Machine Learning', 'Data', 'Data', 'Machine Learning', 'Machine Learning', 'Machine Learning', 'Data', 'Data', 'Data', 'Data', 'Machine Learning', 'Machine Learning', 'Data', 'Data', 'Data', 'Cloud', 'Research', 'Data', 'Others', 'Data', 'Data', 'Data', 'Data', 'Data', 'Data', 'Machine Learning', 'Data', 'Machine Learning', 'Data', 'Data', 'Others', 'Others', 'Data', 'Data', 'Data', 'Data', 'Data', 'Data', 'Others', 'Data', 'Data', 'Data', 'Data', 'Data', 'Data', 'Machine Learning', 'Data', 'Data', 'Data', 'Data', 'Data', 'Data', 'Data', 'Data', 'Data', 'Data', 'Data', 'Machine Learning', 'Machine Learning', 'Data', 'Data', 'Data', 'Data', 'Data', 'Data', 'Data', 'Data', 'Data', 'Data', 'Data', 'Data', 'Data', 'Data', 'Data', 'Data', 'Data', 'AI', 'Machine Learning', 'Data', 'Data', 'Data', 'Data', 'Data', 'Machine Learning', 'Data', 'Data', 'Machine Learning', 'Machine Learning', 'Data', 'Data', 'Data', 'Data', 'Data', 'Machine Learning', 'Data', 'Data', 'Data', 'Data', 'Data', 'Data', 'Machine Learning', 'Machine Learning', 'Data', 'Data', 'Data', 'AI', 'Machine Learning', 'Machine Learning', 'AI', 'Data', 'Data', 'Data', 'Data', 'Data', 'Data', 'Data', 'Data', 'Data', 'Data', 'Data', 'Data', 'Data', 'Data', 'Data', 'Machine Learning', 'Data', 'Data', 'Data', 'Data', 'Machine Learning', 'Machine Learning', 'Others', 'Others', 'Data', 'Data', 'Data', 'Data', 'Data', 'Data', 'Data', 'Data', 'Data', 'Machine Learning', 'Machine Learning', 'Data', 'Data', 'Data', 'Data', 'Data', 'Data', 'Data', 'Data', 'Data', 'Data', 'Data', 'Data', 'Machine Learning', 'Machine Learning', 'Data', 'Data', 'Data', 'Data', 'Data', 'Data', 'Data', 'Data', 'Data', 'Data', 'Data', 'Data', 'Data', 'Data', 'Data', 'Data', 'Machine Learning', 'Data', 'Data', 'Data', 'Machine Learning', 'Machine Learning', 'Data', 'Data', 'Data', 'Data', 'Data', 'Data', 'Data', 'Data', 'Data', 'Data', 'Data', 'Data', 'Data', 'Data', 'Data', 'Data', 'Data', 'Data', 'Data', 'Data', 'Data', 'Data', 'Data', 'Data', 'Data', 'Data', 'Data', 'Data', 'Data', 'Data', 'Data', 'Data', 'Data', 'Data', 'Data', 'Data', 'Data', 'Data', 'Data', 'Data', 'Data', 'Data', 'Data', 'Data', 'Data', 'Data', 'Data', 'Data', 'Data', 'Data', 'Data', 'Data', 'Data', 'Data', 'Data', 'Data', 'Data', 'Data', 'Data', 'Data', 'Data', 'Data', 'Data', 'Data', 'Data', 'Data', 'Data', 'Data', 'Data', 'Data', 'Data', 'Data', 'Data', 'Data', 'Data', 'Data', 'Data', 'Data', 'Data', 'Data', 'Data', 'Data', 'Others', 'Others', 'Data', 'Data', 'Data', 'Data', 'Data', 'Data', 'Data', 'Data', 'Data', 'Data', 'Data', 'Data', 'Data', 'Data', 'Others', 'Others', 'Data', 'Data', 'Data', 'Data', 'Data', 'Data', 'Data', 'Data', 'Data', 'Data', 'Machine Learning', 'Machine Learning', 'Data', 'Data', 'Data', 'Data', 'Data', 'Data', 'Data', 'Data', 'Data', 'Data', 'Data', 'Data', 'Data', 'Data', 'Data', 'Data', 'Data', 'Data', 'Data', 'Data', 'Data', 'Data', 'Data', 'Data', 'Data', 'Data', 'Data', 'Data', 'Data', 'Data', 'Data', 'Data', 'Data', 'Data', 'Data', 'Data', 'Data', 'Data', 'Data', 'Data', 'Data', 'Data', 'Data', 'Data', 'Data', 'Data', 'Data', 'Data', 'Data', 'Data', 'Data', 'Data', 'Data', 'Data', 'Data', 'Data', 'Data', 'Data', 'Data', 'Data', 'Data', 'Data', 'Machine Learning', 'Machine Learning', 'Data', 'Data', 'Machine Learning', 'Machine Learning', 'Data', 'Data', 'Data', 'Data', 'Data', 'Data', 'Data', 'Data', 'Machine Learning', 'Machine Learning', 'Data', 'Machine Learning', 'Data', 'Data', 'Machine Learning', 'Data', 'Data', 'Machine Learning', 'Data', 'Data', 'Data', 'Machine Learning', 'Data', 'Data', 'Data', 'Data', 'Data', 'Data', 'Data', 'Data', 'Data', 'Machine Learning', 'Data', 'Data', 'Machine Learning', 'Data', 'Research', 'Data', 'Data', 'Machine Learning', 'Data', 'Machine Learning', 'Data', 'Data', 'Data', 'Machine Learning', 'Research', 'Data', 'Research', 'Data', 'Research', 'Data', 'Data', 'Data', 'Data', 'Data', 'Data', 'Data', 'Data', 'Data', 'Data', 'Data', 'Data', 'Data', 'Machine Learning', 'Machine Learning', 'Others', 'Data', 'Data', 'Data', 'Data', 'Research', 'Data', 'Others', 'Machine Learning', 'Data', 'Data', 'Data', 'Data', 'Data', 'Machine Learning', 'Machine Learning', 'Others', 'Machine Learning', 'Data', 'Machine Learning', 'Data', 'Data', 'Data', 'Data', 'Machine Learning', 'Data', 'Machine Learning', 'Data', 'Research', 'Data', 'Data', 'Data', 'Data', 'Data', 'Data', 'Data', 'Data', 'Data', 'Data', 'Data', 'Data', 'Machine Learning', 'Data', 'Research', 'Data', 'Data', 'Data', 'Data', 'Data', 'Data', 'Data', 'Data', 'Data', 'Data', 'Data', 'Data', 'Machine Learning', 'Data', 'Machine Learning', 'Data', 'Data', 'Data', 'Research', 'Machine Learning', 'Data', 'Data', 'Machine Learning', 'Data', 'Data', 'Data', 'Data', 'Data', 'Data', 'Data', 'Data', 'Data', 'Data', 'Machine Learning', 'Data', 'Machine Learning', 'Data', 'Data', 'Data', 'Machine Learning', 'Data', 'Data', 'Data', 'Research', 'Data', 'Data', 'Data', 'Data', 'Data', 'Machine Learning', 'Others', 'Others', 'Data', 'Cloud', 'Data', 'Data', 'Data', 'Cloud', 'Data', 'Data', 'Data', 'Data', 'Data', 'Research', 'Data', 'Data', 'Data', 'Data', 'Data', 'Data', 'Data', 'Data', 'Data', 'Data', 'Data', 'Data', 'Data', 'Research', 'Data', 'Research', 'Machine Learning', 'Data', 'Data', 'Data', 'Data', 'Data', 'Machine Learning', 'Data', 'Data', 'Data', 'Machine Learning', 'Data', 'Research', 'Data', 'Machine Learning', 'Data', 'AI', 'Data', 'Data', 'Data', 'Machine Learning', 'Data', 'Data', 'Data', 'Data', 'Data', 'Data', 'Data', 'Data', 'Data', 'Machine Learning', 'Data', 'Data', 'Data', 'Data', 'Data', 'Data', 'Data', 'Data', 'Machine Learning', 'Data', 'Machine Learning', 'Data', 'Research', 'Data', 'Data', 'Machine Learning', 'Data', 'Data', 'Data', 'Data', 'Data', 'Data', 'Data', 'Data', 'Data', 'Data', 'Machine Learning', 'Data', 'Data', 'Data', 'Machine Learning', 'Data', 'Data', 'Data', 'Machine Learning', 'Data', 'Data', 'Data', 'Machine Learning', 'Data', 'Data', 'Machine Learning', 'Data', 'Others', 'Data', 'Data', 'Data', 'Data', 'Research', 'Machine Learning', 'Data', 'Data', 'Data', 'Machine Learning', 'AI', 'Data', 'Research', 'Data', 'Data', 'Data', 'Data', 'Data', 'Data', 'Data', 'Data', 'Data', 'Data', 'Data', 'Data', 'Data', 'Machine Learning', 'Data', 'Data', 'Others', 'Data', 'Others', 'Data', 'Data', 'Data', 'Data', 'Data', 'AI', 'Data', 'Data', 'Data', 'Data', 'Data', 'Data', 'Data', 'Data', 'Data', 'Data', 'Data', 'Data', 'Data', 'Machine Learning', 'Data', 'Data', 'Machine Learning', 'Data', 'Data', 'Data', 'Data', 'Data', 'Data', 'Data']\n"
     ]
    }
   ],
   "source": [
    "# Adding that list as a column in the dataset and printing the final dataset to see the changes. \n",
    "\n",
    "replace_cat[\"job_area\"] = job_area\n",
    "print(job_area)"
   ]
  },
  {
   "cell_type": "code",
   "execution_count": 47,
   "id": "8dc85163",
   "metadata": {},
   "outputs": [
    {
     "data": {
      "text/plain": [
       "job_area\n",
       "Data                     5414\n",
       "Machine Learning         1017\n",
       "Others                    536\n",
       "Research                  341\n",
       "Business Intelligence     198\n",
       "AI                         76\n",
       "Cloud                      13\n",
       "Name: count, dtype: int64"
      ]
     },
     "execution_count": 47,
     "metadata": {},
     "output_type": "execute_result"
    }
   ],
   "source": [
    "#Check the new unique values in the column\n",
    "\n",
    "replace_cat[\"job_area\"].value_counts()"
   ]
  },
  {
   "cell_type": "code",
   "execution_count": 48,
   "id": "0e63b44c",
   "metadata": {},
   "outputs": [
    {
     "data": {
      "text/plain": [
       "Index(['experience_level', 'employment_type', 'job_title',\n",
       "       'employee_residence', 'remote_ratio', 'company_location',\n",
       "       'company_size', 'job_area'],\n",
       "      dtype='object')"
      ]
     },
     "execution_count": 48,
     "metadata": {},
     "output_type": "execute_result"
    }
   ],
   "source": [
    "# Recheck the column names of our DataFrame to confirm that the new one has been added\n",
    "\n",
    "replace_cat.columns"
   ]
  },
  {
   "cell_type": "code",
   "execution_count": 49,
   "id": "15b3f42e",
   "metadata": {},
   "outputs": [
    {
     "data": {
      "text/html": [
       "<div>\n",
       "<style scoped>\n",
       "    .dataframe tbody tr th:only-of-type {\n",
       "        vertical-align: middle;\n",
       "    }\n",
       "\n",
       "    .dataframe tbody tr th {\n",
       "        vertical-align: top;\n",
       "    }\n",
       "\n",
       "    .dataframe thead th {\n",
       "        text-align: right;\n",
       "    }\n",
       "</style>\n",
       "<table border=\"1\" class=\"dataframe\">\n",
       "  <thead>\n",
       "    <tr style=\"text-align: right;\">\n",
       "      <th></th>\n",
       "      <th>experience_level</th>\n",
       "      <th>employment_type</th>\n",
       "      <th>job_title</th>\n",
       "      <th>employee_residence</th>\n",
       "      <th>remote_ratio</th>\n",
       "      <th>company_location</th>\n",
       "      <th>company_size</th>\n",
       "      <th>job_area</th>\n",
       "    </tr>\n",
       "  </thead>\n",
       "  <tbody>\n",
       "    <tr>\n",
       "      <th>7095</th>\n",
       "      <td>senior</td>\n",
       "      <td>full_time</td>\n",
       "      <td>Data Engineer</td>\n",
       "      <td>United States</td>\n",
       "      <td>on_site</td>\n",
       "      <td>United States</td>\n",
       "      <td>medium</td>\n",
       "      <td>Data</td>\n",
       "    </tr>\n",
       "    <tr>\n",
       "      <th>7096</th>\n",
       "      <td>executive</td>\n",
       "      <td>full_time</td>\n",
       "      <td>Data Engineer</td>\n",
       "      <td>United States</td>\n",
       "      <td>remote</td>\n",
       "      <td>United States</td>\n",
       "      <td>medium</td>\n",
       "      <td>Data</td>\n",
       "    </tr>\n",
       "    <tr>\n",
       "      <th>7097</th>\n",
       "      <td>executive</td>\n",
       "      <td>full_time</td>\n",
       "      <td>Data Engineer</td>\n",
       "      <td>United States</td>\n",
       "      <td>remote</td>\n",
       "      <td>United States</td>\n",
       "      <td>medium</td>\n",
       "      <td>Data</td>\n",
       "    </tr>\n",
       "    <tr>\n",
       "      <th>7098</th>\n",
       "      <td>mid</td>\n",
       "      <td>full_time</td>\n",
       "      <td>Data Scientist</td>\n",
       "      <td>United Kingdom</td>\n",
       "      <td>on_site</td>\n",
       "      <td>United Kingdom</td>\n",
       "      <td>medium</td>\n",
       "      <td>Data</td>\n",
       "    </tr>\n",
       "    <tr>\n",
       "      <th>7099</th>\n",
       "      <td>mid</td>\n",
       "      <td>full_time</td>\n",
       "      <td>Data Scientist</td>\n",
       "      <td>United Kingdom</td>\n",
       "      <td>on_site</td>\n",
       "      <td>United Kingdom</td>\n",
       "      <td>medium</td>\n",
       "      <td>Data</td>\n",
       "    </tr>\n",
       "    <tr>\n",
       "      <th>...</th>\n",
       "      <td>...</td>\n",
       "      <td>...</td>\n",
       "      <td>...</td>\n",
       "      <td>...</td>\n",
       "      <td>...</td>\n",
       "      <td>...</td>\n",
       "      <td>...</td>\n",
       "      <td>...</td>\n",
       "    </tr>\n",
       "    <tr>\n",
       "      <th>7590</th>\n",
       "      <td>senior</td>\n",
       "      <td>full_time</td>\n",
       "      <td>Data Scientist</td>\n",
       "      <td>United States</td>\n",
       "      <td>remote</td>\n",
       "      <td>United States</td>\n",
       "      <td>large</td>\n",
       "      <td>Data</td>\n",
       "    </tr>\n",
       "    <tr>\n",
       "      <th>7591</th>\n",
       "      <td>mid</td>\n",
       "      <td>full_time</td>\n",
       "      <td>Principal Data Scientist</td>\n",
       "      <td>United States</td>\n",
       "      <td>remote</td>\n",
       "      <td>United States</td>\n",
       "      <td>large</td>\n",
       "      <td>Data</td>\n",
       "    </tr>\n",
       "    <tr>\n",
       "      <th>7592</th>\n",
       "      <td>entry</td>\n",
       "      <td>full_time</td>\n",
       "      <td>Data Scientist</td>\n",
       "      <td>United States</td>\n",
       "      <td>remote</td>\n",
       "      <td>United States</td>\n",
       "      <td>small</td>\n",
       "      <td>Data</td>\n",
       "    </tr>\n",
       "    <tr>\n",
       "      <th>7593</th>\n",
       "      <td>entry</td>\n",
       "      <td>contract</td>\n",
       "      <td>Business Data Analyst</td>\n",
       "      <td>United States</td>\n",
       "      <td>remote</td>\n",
       "      <td>United States</td>\n",
       "      <td>large</td>\n",
       "      <td>Data</td>\n",
       "    </tr>\n",
       "    <tr>\n",
       "      <th>7594</th>\n",
       "      <td>senior</td>\n",
       "      <td>full_time</td>\n",
       "      <td>Data Science Manager</td>\n",
       "      <td>India</td>\n",
       "      <td>hybrid</td>\n",
       "      <td>India</td>\n",
       "      <td>large</td>\n",
       "      <td>Data</td>\n",
       "    </tr>\n",
       "  </tbody>\n",
       "</table>\n",
       "<p>500 rows × 8 columns</p>\n",
       "</div>"
      ],
      "text/plain": [
       "     experience_level employment_type                 job_title  \\\n",
       "7095           senior       full_time             Data Engineer   \n",
       "7096        executive       full_time             Data Engineer   \n",
       "7097        executive       full_time             Data Engineer   \n",
       "7098              mid       full_time            Data Scientist   \n",
       "7099              mid       full_time            Data Scientist   \n",
       "...               ...             ...                       ...   \n",
       "7590           senior       full_time            Data Scientist   \n",
       "7591              mid       full_time  Principal Data Scientist   \n",
       "7592            entry       full_time            Data Scientist   \n",
       "7593            entry        contract     Business Data Analyst   \n",
       "7594           senior       full_time      Data Science Manager   \n",
       "\n",
       "     employee_residence remote_ratio company_location company_size job_area  \n",
       "7095      United States      on_site    United States       medium     Data  \n",
       "7096      United States       remote    United States       medium     Data  \n",
       "7097      United States       remote    United States       medium     Data  \n",
       "7098     United Kingdom      on_site   United Kingdom       medium     Data  \n",
       "7099     United Kingdom      on_site   United Kingdom       medium     Data  \n",
       "...                 ...          ...              ...          ...      ...  \n",
       "7590      United States       remote    United States        large     Data  \n",
       "7591      United States       remote    United States        large     Data  \n",
       "7592      United States       remote    United States        small     Data  \n",
       "7593      United States       remote    United States        large     Data  \n",
       "7594              India       hybrid            India        large     Data  \n",
       "\n",
       "[500 rows x 8 columns]"
      ]
     },
     "execution_count": 49,
     "metadata": {},
     "output_type": "execute_result"
    }
   ],
   "source": [
    "# Check the DataFrame with the new values\n",
    "\n",
    "replace_cat.tail(500)"
   ]
  },
  {
   "cell_type": "markdown",
   "id": "76c03472",
   "metadata": {},
   "source": [
    "___________"
   ]
  },
  {
   "cell_type": "markdown",
   "id": "c6ebe7ec",
   "metadata": {},
   "source": [
    "## <font color='grey'>4. Create the final DataFrame and save it</font>"
   ]
  },
  {
   "cell_type": "code",
   "execution_count": 50,
   "id": "04158246",
   "metadata": {},
   "outputs": [
    {
     "data": {
      "text/html": [
       "<div>\n",
       "<style scoped>\n",
       "    .dataframe tbody tr th:only-of-type {\n",
       "        vertical-align: middle;\n",
       "    }\n",
       "\n",
       "    .dataframe tbody tr th {\n",
       "        vertical-align: top;\n",
       "    }\n",
       "\n",
       "    .dataframe thead th {\n",
       "        text-align: right;\n",
       "    }\n",
       "</style>\n",
       "<table border=\"1\" class=\"dataframe\">\n",
       "  <thead>\n",
       "    <tr style=\"text-align: right;\">\n",
       "      <th></th>\n",
       "      <th>work_year</th>\n",
       "      <th>salary</th>\n",
       "      <th>experience_level</th>\n",
       "      <th>employment_type</th>\n",
       "      <th>job_title</th>\n",
       "      <th>employee_residence</th>\n",
       "      <th>remote_ratio</th>\n",
       "      <th>company_location</th>\n",
       "      <th>company_size</th>\n",
       "      <th>job_area</th>\n",
       "    </tr>\n",
       "  </thead>\n",
       "  <tbody>\n",
       "    <tr>\n",
       "      <th>0</th>\n",
       "      <td>2023</td>\n",
       "      <td>96313</td>\n",
       "      <td>mid</td>\n",
       "      <td>full_time</td>\n",
       "      <td>Data Scientist</td>\n",
       "      <td>Canada</td>\n",
       "      <td>remote</td>\n",
       "      <td>Canada</td>\n",
       "      <td>small</td>\n",
       "      <td>Data</td>\n",
       "    </tr>\n",
       "    <tr>\n",
       "      <th>1</th>\n",
       "      <td>2023</td>\n",
       "      <td>250000</td>\n",
       "      <td>senior</td>\n",
       "      <td>full_time</td>\n",
       "      <td>Machine Learning Engineer</td>\n",
       "      <td>United States</td>\n",
       "      <td>on_site</td>\n",
       "      <td>United States</td>\n",
       "      <td>medium</td>\n",
       "      <td>Machine Learning</td>\n",
       "    </tr>\n",
       "    <tr>\n",
       "      <th>2</th>\n",
       "      <td>2023</td>\n",
       "      <td>140000</td>\n",
       "      <td>senior</td>\n",
       "      <td>full_time</td>\n",
       "      <td>Machine Learning Engineer</td>\n",
       "      <td>United States</td>\n",
       "      <td>on_site</td>\n",
       "      <td>United States</td>\n",
       "      <td>medium</td>\n",
       "      <td>Machine Learning</td>\n",
       "    </tr>\n",
       "    <tr>\n",
       "      <th>3</th>\n",
       "      <td>2023</td>\n",
       "      <td>48585</td>\n",
       "      <td>mid</td>\n",
       "      <td>full_time</td>\n",
       "      <td>Data Analyst</td>\n",
       "      <td>Portugal</td>\n",
       "      <td>remote</td>\n",
       "      <td>Portugal</td>\n",
       "      <td>medium</td>\n",
       "      <td>Data</td>\n",
       "    </tr>\n",
       "    <tr>\n",
       "      <th>4</th>\n",
       "      <td>2023</td>\n",
       "      <td>43187</td>\n",
       "      <td>mid</td>\n",
       "      <td>full_time</td>\n",
       "      <td>Data Analyst</td>\n",
       "      <td>Portugal</td>\n",
       "      <td>remote</td>\n",
       "      <td>Portugal</td>\n",
       "      <td>medium</td>\n",
       "      <td>Data</td>\n",
       "    </tr>\n",
       "  </tbody>\n",
       "</table>\n",
       "</div>"
      ],
      "text/plain": [
       "   work_year  salary experience_level employment_type  \\\n",
       "0       2023   96313              mid       full_time   \n",
       "1       2023  250000           senior       full_time   \n",
       "2       2023  140000           senior       full_time   \n",
       "3       2023   48585              mid       full_time   \n",
       "4       2023   43187              mid       full_time   \n",
       "\n",
       "                   job_title employee_residence remote_ratio company_location  \\\n",
       "0             Data Scientist             Canada       remote           Canada   \n",
       "1  Machine Learning Engineer      United States      on_site    United States   \n",
       "2  Machine Learning Engineer      United States      on_site    United States   \n",
       "3               Data Analyst           Portugal       remote         Portugal   \n",
       "4               Data Analyst           Portugal       remote         Portugal   \n",
       "\n",
       "  company_size          job_area  \n",
       "0        small              Data  \n",
       "1       medium  Machine Learning  \n",
       "2       medium  Machine Learning  \n",
       "3       medium              Data  \n",
       "4       medium              Data  "
      ]
     },
     "execution_count": 50,
     "metadata": {},
     "output_type": "execute_result"
    }
   ],
   "source": [
    "# We use pd.concat to join the numerical and categorical DataFrames transformed and create the final one\n",
    "\n",
    "data_jobs = pd.concat([numericals, replace_cat], axis=1, join='inner')\n",
    "data_jobs.head()"
   ]
  },
  {
   "cell_type": "code",
   "execution_count": 51,
   "id": "46070bd3",
   "metadata": {},
   "outputs": [
    {
     "data": {
      "text/plain": [
       "(7595, 10)"
      ]
     },
     "execution_count": 51,
     "metadata": {},
     "output_type": "execute_result"
    }
   ],
   "source": [
    "data_jobs.shape"
   ]
  },
  {
   "cell_type": "code",
   "execution_count": 53,
   "id": "bf699afb",
   "metadata": {},
   "outputs": [],
   "source": [
    "# Save DataFrame as .csv\n",
    "\n",
    "data_jobs.to_csv('data_jobs.csv', index=False)"
   ]
  }
 ],
 "metadata": {
  "kernelspec": {
   "display_name": "environment_mbp",
   "language": "python",
   "name": "environment_mbp"
  },
  "language_info": {
   "codemirror_mode": {
    "name": "ipython",
    "version": 3
   },
   "file_extension": ".py",
   "mimetype": "text/x-python",
   "name": "python",
   "nbconvert_exporter": "python",
   "pygments_lexer": "ipython3",
   "version": "3.11.3"
  }
 },
 "nbformat": 4,
 "nbformat_minor": 5
}
