{
 "cells": [
  {
   "cell_type": "markdown",
   "id": "d4444bd7",
   "metadata": {},
   "source": [
    "# DATA SCIENCE JOBS: SALARIES AND TYPE OF WORKS MODELS"
   ]
  },
  {
   "cell_type": "code",
   "execution_count": null,
   "id": "9a4cb6c4",
   "metadata": {},
   "outputs": [],
   "source": []
  },
  {
   "cell_type": "markdown",
   "id": "842e4dab",
   "metadata": {},
   "source": [
    "## Project information"
   ]
  },
  {
   "cell_type": "markdown",
   "id": "07652428",
   "metadata": {},
   "source": [
    "In recent years, data science roles are more demanded, so it's important to understand how they are evolving in terms of positioning as job offers and their salaries.\n",
    "\n",
    "In this analysis, I will take my first Exploratory Data Analysis (EDA) and visualization project using Python, where I explored data science salaries between 2020 and 2023. \n",
    "\n",
    "The \"global salary index\" dataset comes from the ai-jobs.net website for roles in the AI, ML, Data Science space based on internal data obtanided from surveys and jobs with open salaries.\n",
    "\n",
    "This dataset is processed and updated on a weekly basis but I'll take the dataset updated on September 29th, 2023."
   ]
  },
  {
   "cell_type": "markdown",
   "id": "63937388",
   "metadata": {},
   "source": [
    "## Hypothesis"
   ]
  },
  {
   "cell_type": "code",
   "execution_count": null,
   "id": "319ad9c5",
   "metadata": {},
   "outputs": [],
   "source": []
  },
  {
   "cell_type": "markdown",
   "id": "7eaf3bf9",
   "metadata": {},
   "source": [
    "## Understanding and preprocessing the dataset"
   ]
  },
  {
   "cell_type": "markdown",
   "id": "19e76d03",
   "metadata": {},
   "source": [
    "### Importing Required Libraries"
   ]
  },
  {
   "cell_type": "code",
   "execution_count": 1,
   "id": "2f0a959c",
   "metadata": {},
   "outputs": [],
   "source": [
    "import pandas as pd\n",
    "import numpy as np\n",
    "import matplotlib.pyplot as plt\n",
    "import seaborn as sns\n",
    "sns.set_theme()\n",
    "\n",
    "%matplotlib inline"
   ]
  },
  {
   "cell_type": "markdown",
   "id": "ff64f67b",
   "metadata": {},
   "source": [
    "### Read dataset"
   ]
  },
  {
   "cell_type": "code",
   "execution_count": 2,
   "id": "35e569b4",
   "metadata": {},
   "outputs": [
    {
     "data": {
      "text/html": [
       "<div>\n",
       "<style scoped>\n",
       "    .dataframe tbody tr th:only-of-type {\n",
       "        vertical-align: middle;\n",
       "    }\n",
       "\n",
       "    .dataframe tbody tr th {\n",
       "        vertical-align: top;\n",
       "    }\n",
       "\n",
       "    .dataframe thead th {\n",
       "        text-align: right;\n",
       "    }\n",
       "</style>\n",
       "<table border=\"1\" class=\"dataframe\">\n",
       "  <thead>\n",
       "    <tr style=\"text-align: right;\">\n",
       "      <th></th>\n",
       "      <th>work_year</th>\n",
       "      <th>experience_level</th>\n",
       "      <th>employment_type</th>\n",
       "      <th>job_title</th>\n",
       "      <th>salary</th>\n",
       "      <th>salary_currency</th>\n",
       "      <th>salary_in_usd</th>\n",
       "      <th>employee_residence</th>\n",
       "      <th>remote_ratio</th>\n",
       "      <th>company_location</th>\n",
       "      <th>company_size</th>\n",
       "    </tr>\n",
       "  </thead>\n",
       "  <tbody>\n",
       "    <tr>\n",
       "      <th>0</th>\n",
       "      <td>2023</td>\n",
       "      <td>MI</td>\n",
       "      <td>FT</td>\n",
       "      <td>Data Scientist</td>\n",
       "      <td>130000</td>\n",
       "      <td>CAD</td>\n",
       "      <td>96313</td>\n",
       "      <td>CA</td>\n",
       "      <td>100</td>\n",
       "      <td>CA</td>\n",
       "      <td>S</td>\n",
       "    </tr>\n",
       "    <tr>\n",
       "      <th>1</th>\n",
       "      <td>2023</td>\n",
       "      <td>SE</td>\n",
       "      <td>FT</td>\n",
       "      <td>Machine Learning Engineer</td>\n",
       "      <td>250000</td>\n",
       "      <td>USD</td>\n",
       "      <td>250000</td>\n",
       "      <td>US</td>\n",
       "      <td>0</td>\n",
       "      <td>US</td>\n",
       "      <td>M</td>\n",
       "    </tr>\n",
       "    <tr>\n",
       "      <th>2</th>\n",
       "      <td>2023</td>\n",
       "      <td>SE</td>\n",
       "      <td>FT</td>\n",
       "      <td>Machine Learning Engineer</td>\n",
       "      <td>140000</td>\n",
       "      <td>USD</td>\n",
       "      <td>140000</td>\n",
       "      <td>US</td>\n",
       "      <td>0</td>\n",
       "      <td>US</td>\n",
       "      <td>M</td>\n",
       "    </tr>\n",
       "    <tr>\n",
       "      <th>3</th>\n",
       "      <td>2023</td>\n",
       "      <td>MI</td>\n",
       "      <td>FT</td>\n",
       "      <td>Data Analyst</td>\n",
       "      <td>45000</td>\n",
       "      <td>EUR</td>\n",
       "      <td>48585</td>\n",
       "      <td>PT</td>\n",
       "      <td>100</td>\n",
       "      <td>PT</td>\n",
       "      <td>M</td>\n",
       "    </tr>\n",
       "    <tr>\n",
       "      <th>4</th>\n",
       "      <td>2023</td>\n",
       "      <td>MI</td>\n",
       "      <td>FT</td>\n",
       "      <td>Data Analyst</td>\n",
       "      <td>40000</td>\n",
       "      <td>EUR</td>\n",
       "      <td>43187</td>\n",
       "      <td>PT</td>\n",
       "      <td>100</td>\n",
       "      <td>PT</td>\n",
       "      <td>M</td>\n",
       "    </tr>\n",
       "    <tr>\n",
       "      <th>...</th>\n",
       "      <td>...</td>\n",
       "      <td>...</td>\n",
       "      <td>...</td>\n",
       "      <td>...</td>\n",
       "      <td>...</td>\n",
       "      <td>...</td>\n",
       "      <td>...</td>\n",
       "      <td>...</td>\n",
       "      <td>...</td>\n",
       "      <td>...</td>\n",
       "      <td>...</td>\n",
       "    </tr>\n",
       "    <tr>\n",
       "      <th>495</th>\n",
       "      <td>2023</td>\n",
       "      <td>MI</td>\n",
       "      <td>FT</td>\n",
       "      <td>Data Manager</td>\n",
       "      <td>80000</td>\n",
       "      <td>USD</td>\n",
       "      <td>80000</td>\n",
       "      <td>US</td>\n",
       "      <td>0</td>\n",
       "      <td>US</td>\n",
       "      <td>M</td>\n",
       "    </tr>\n",
       "    <tr>\n",
       "      <th>496</th>\n",
       "      <td>2023</td>\n",
       "      <td>MI</td>\n",
       "      <td>FT</td>\n",
       "      <td>Data Manager</td>\n",
       "      <td>70000</td>\n",
       "      <td>USD</td>\n",
       "      <td>70000</td>\n",
       "      <td>US</td>\n",
       "      <td>0</td>\n",
       "      <td>US</td>\n",
       "      <td>M</td>\n",
       "    </tr>\n",
       "    <tr>\n",
       "      <th>497</th>\n",
       "      <td>2023</td>\n",
       "      <td>SE</td>\n",
       "      <td>FT</td>\n",
       "      <td>Data Scientist</td>\n",
       "      <td>260000</td>\n",
       "      <td>USD</td>\n",
       "      <td>260000</td>\n",
       "      <td>US</td>\n",
       "      <td>0</td>\n",
       "      <td>US</td>\n",
       "      <td>M</td>\n",
       "    </tr>\n",
       "    <tr>\n",
       "      <th>498</th>\n",
       "      <td>2023</td>\n",
       "      <td>SE</td>\n",
       "      <td>FT</td>\n",
       "      <td>Data Scientist</td>\n",
       "      <td>160000</td>\n",
       "      <td>USD</td>\n",
       "      <td>160000</td>\n",
       "      <td>US</td>\n",
       "      <td>0</td>\n",
       "      <td>US</td>\n",
       "      <td>M</td>\n",
       "    </tr>\n",
       "    <tr>\n",
       "      <th>499</th>\n",
       "      <td>2023</td>\n",
       "      <td>SE</td>\n",
       "      <td>FT</td>\n",
       "      <td>Data Manager</td>\n",
       "      <td>105000</td>\n",
       "      <td>USD</td>\n",
       "      <td>105000</td>\n",
       "      <td>US</td>\n",
       "      <td>0</td>\n",
       "      <td>US</td>\n",
       "      <td>M</td>\n",
       "    </tr>\n",
       "  </tbody>\n",
       "</table>\n",
       "<p>500 rows × 11 columns</p>\n",
       "</div>"
      ],
      "text/plain": [
       "     work_year experience_level employment_type                  job_title  \\\n",
       "0         2023               MI              FT             Data Scientist   \n",
       "1         2023               SE              FT  Machine Learning Engineer   \n",
       "2         2023               SE              FT  Machine Learning Engineer   \n",
       "3         2023               MI              FT               Data Analyst   \n",
       "4         2023               MI              FT               Data Analyst   \n",
       "..         ...              ...             ...                        ...   \n",
       "495       2023               MI              FT               Data Manager   \n",
       "496       2023               MI              FT               Data Manager   \n",
       "497       2023               SE              FT             Data Scientist   \n",
       "498       2023               SE              FT             Data Scientist   \n",
       "499       2023               SE              FT               Data Manager   \n",
       "\n",
       "     salary salary_currency  salary_in_usd employee_residence  remote_ratio  \\\n",
       "0    130000             CAD          96313                 CA           100   \n",
       "1    250000             USD         250000                 US             0   \n",
       "2    140000             USD         140000                 US             0   \n",
       "3     45000             EUR          48585                 PT           100   \n",
       "4     40000             EUR          43187                 PT           100   \n",
       "..      ...             ...            ...                ...           ...   \n",
       "495   80000             USD          80000                 US             0   \n",
       "496   70000             USD          70000                 US             0   \n",
       "497  260000             USD         260000                 US             0   \n",
       "498  160000             USD         160000                 US             0   \n",
       "499  105000             USD         105000                 US             0   \n",
       "\n",
       "    company_location company_size  \n",
       "0                 CA            S  \n",
       "1                 US            M  \n",
       "2                 US            M  \n",
       "3                 PT            M  \n",
       "4                 PT            M  \n",
       "..               ...          ...  \n",
       "495               US            M  \n",
       "496               US            M  \n",
       "497               US            M  \n",
       "498               US            M  \n",
       "499               US            M  \n",
       "\n",
       "[500 rows x 11 columns]"
      ]
     },
     "execution_count": 2,
     "metadata": {},
     "output_type": "execute_result"
    }
   ],
   "source": [
    "df = pd.read_csv('/Users/marina/Documents/Marina/Bootcamp/Week_5/Mid_bootcamp_project/data/raw/salaries.csv')\n",
    "df.head(500)"
   ]
  },
  {
   "cell_type": "markdown",
   "id": "dff12641",
   "metadata": {},
   "source": [
    "### Dataset shape and information"
   ]
  },
  {
   "cell_type": "code",
   "execution_count": 3,
   "id": "f26cf482",
   "metadata": {},
   "outputs": [
    {
     "name": "stdout",
     "output_type": "stream",
     "text": [
      "Number of rows and columns in the dataset: (7595, 11)\n"
     ]
    }
   ],
   "source": [
    "print(\"Number of rows and columns in the dataset:\",df.shape)"
   ]
  },
  {
   "cell_type": "code",
   "execution_count": 4,
   "id": "dbb533c2",
   "metadata": {
    "scrolled": true
   },
   "outputs": [
    {
     "name": "stdout",
     "output_type": "stream",
     "text": [
      "<class 'pandas.core.frame.DataFrame'>\n",
      "RangeIndex: 7595 entries, 0 to 7594\n",
      "Data columns (total 11 columns):\n",
      " #   Column              Non-Null Count  Dtype \n",
      "---  ------              --------------  ----- \n",
      " 0   work_year           7595 non-null   int64 \n",
      " 1   experience_level    7595 non-null   object\n",
      " 2   employment_type     7595 non-null   object\n",
      " 3   job_title           7595 non-null   object\n",
      " 4   salary              7595 non-null   int64 \n",
      " 5   salary_currency     7595 non-null   object\n",
      " 6   salary_in_usd       7595 non-null   int64 \n",
      " 7   employee_residence  7595 non-null   object\n",
      " 8   remote_ratio        7595 non-null   int64 \n",
      " 9   company_location    7595 non-null   object\n",
      " 10  company_size        7595 non-null   object\n",
      "dtypes: int64(4), object(7)\n",
      "memory usage: 652.8+ KB\n"
     ]
    }
   ],
   "source": [
    "# Information about the dataset including the index dtype and columns, non-null values and memory usage\n",
    "      \n",
    "df.info()"
   ]
  },
  {
   "cell_type": "code",
   "execution_count": 5,
   "id": "73dc7437",
   "metadata": {},
   "outputs": [
    {
     "data": {
      "text/html": [
       "<div>\n",
       "<style scoped>\n",
       "    .dataframe tbody tr th:only-of-type {\n",
       "        vertical-align: middle;\n",
       "    }\n",
       "\n",
       "    .dataframe tbody tr th {\n",
       "        vertical-align: top;\n",
       "    }\n",
       "\n",
       "    .dataframe thead th {\n",
       "        text-align: right;\n",
       "    }\n",
       "</style>\n",
       "<table border=\"1\" class=\"dataframe\">\n",
       "  <thead>\n",
       "    <tr style=\"text-align: right;\">\n",
       "      <th></th>\n",
       "      <th>work_year</th>\n",
       "      <th>salary</th>\n",
       "      <th>salary_in_usd</th>\n",
       "      <th>remote_ratio</th>\n",
       "    </tr>\n",
       "  </thead>\n",
       "  <tbody>\n",
       "    <tr>\n",
       "      <th>count</th>\n",
       "      <td>7595.000000</td>\n",
       "      <td>7.595000e+03</td>\n",
       "      <td>7595.000000</td>\n",
       "      <td>7595.000000</td>\n",
       "    </tr>\n",
       "    <tr>\n",
       "      <th>mean</th>\n",
       "      <td>2022.695721</td>\n",
       "      <td>1.775745e+05</td>\n",
       "      <td>148861.816853</td>\n",
       "      <td>40.283081</td>\n",
       "    </tr>\n",
       "    <tr>\n",
       "      <th>std</th>\n",
       "      <td>0.573055</td>\n",
       "      <td>4.872338e+05</td>\n",
       "      <td>64152.942337</td>\n",
       "      <td>48.323066</td>\n",
       "    </tr>\n",
       "    <tr>\n",
       "      <th>min</th>\n",
       "      <td>2020.000000</td>\n",
       "      <td>1.400000e+04</td>\n",
       "      <td>15000.000000</td>\n",
       "      <td>0.000000</td>\n",
       "    </tr>\n",
       "    <tr>\n",
       "      <th>25%</th>\n",
       "      <td>2022.000000</td>\n",
       "      <td>1.052000e+05</td>\n",
       "      <td>105000.000000</td>\n",
       "      <td>0.000000</td>\n",
       "    </tr>\n",
       "    <tr>\n",
       "      <th>50%</th>\n",
       "      <td>2023.000000</td>\n",
       "      <td>1.440000e+05</td>\n",
       "      <td>142200.000000</td>\n",
       "      <td>0.000000</td>\n",
       "    </tr>\n",
       "    <tr>\n",
       "      <th>75%</th>\n",
       "      <td>2023.000000</td>\n",
       "      <td>1.897500e+05</td>\n",
       "      <td>185900.000000</td>\n",
       "      <td>100.000000</td>\n",
       "    </tr>\n",
       "    <tr>\n",
       "      <th>max</th>\n",
       "      <td>2023.000000</td>\n",
       "      <td>3.040000e+07</td>\n",
       "      <td>450000.000000</td>\n",
       "      <td>100.000000</td>\n",
       "    </tr>\n",
       "  </tbody>\n",
       "</table>\n",
       "</div>"
      ],
      "text/plain": [
       "         work_year        salary  salary_in_usd  remote_ratio\n",
       "count  7595.000000  7.595000e+03    7595.000000   7595.000000\n",
       "mean   2022.695721  1.775745e+05  148861.816853     40.283081\n",
       "std       0.573055  4.872338e+05   64152.942337     48.323066\n",
       "min    2020.000000  1.400000e+04   15000.000000      0.000000\n",
       "25%    2022.000000  1.052000e+05  105000.000000      0.000000\n",
       "50%    2023.000000  1.440000e+05  142200.000000      0.000000\n",
       "75%    2023.000000  1.897500e+05  185900.000000    100.000000\n",
       "max    2023.000000  3.040000e+07  450000.000000    100.000000"
      ]
     },
     "execution_count": 5,
     "metadata": {},
     "output_type": "execute_result"
    }
   ],
   "source": [
    "# Generate descriptive statistics\n",
    "      \n",
    "df.describe()"
   ]
  },
  {
   "cell_type": "code",
   "execution_count": 6,
   "id": "602d9bf4",
   "metadata": {},
   "outputs": [
    {
     "name": "stdout",
     "output_type": "stream",
     "text": [
      "The column names of the dataset are::\n",
      "\n",
      " Index(['work_year', 'experience_level', 'employment_type', 'job_title',\n",
      "       'salary', 'salary_currency', 'salary_in_usd', 'employee_residence',\n",
      "       'remote_ratio', 'company_location', 'company_size'],\n",
      "      dtype='object')\n"
     ]
    }
   ],
   "source": [
    "# Exploring column names of the dataframe\n",
    "\n",
    "print(\"The column names of the dataset are::\\n\\n\",df.columns)"
   ]
  },
  {
   "cell_type": "markdown",
   "id": "970e971f",
   "metadata": {},
   "source": [
    "### Missing values"
   ]
  },
  {
   "cell_type": "code",
   "execution_count": 7,
   "id": "709713b9",
   "metadata": {},
   "outputs": [
    {
     "data": {
      "text/plain": [
       "work_year             0.0\n",
       "experience_level      0.0\n",
       "employment_type       0.0\n",
       "job_title             0.0\n",
       "salary                0.0\n",
       "salary_currency       0.0\n",
       "salary_in_usd         0.0\n",
       "employee_residence    0.0\n",
       "remote_ratio          0.0\n",
       "company_location      0.0\n",
       "company_size          0.0\n",
       "dtype: float64"
      ]
     },
     "execution_count": 7,
     "metadata": {},
     "output_type": "execute_result"
    }
   ],
   "source": [
    "# Exploring if the dataset contains missing values\n",
    "\n",
    "df.isnull().sum()/len(df)"
   ]
  },
  {
   "cell_type": "code",
   "execution_count": 8,
   "id": "2689e63a",
   "metadata": {},
   "outputs": [
    {
     "name": "stdout",
     "output_type": "stream",
     "text": [
      "Number of missing data in the dataset: 0\n"
     ]
    }
   ],
   "source": [
    "print(\"Number of missing data in the dataset:\",df.isnull().sum().sum())"
   ]
  },
  {
   "cell_type": "markdown",
   "id": "03471cc3",
   "metadata": {},
   "source": [
    "There is no missing data so it will not be necessary to delete any columns"
   ]
  },
  {
   "cell_type": "markdown",
   "id": "23f2144e",
   "metadata": {},
   "source": [
    "### Unique values per column"
   ]
  },
  {
   "cell_type": "code",
   "execution_count": 9,
   "id": "84b2176c",
   "metadata": {
    "scrolled": true
   },
   "outputs": [
    {
     "name": "stdout",
     "output_type": "stream",
     "text": [
      "Number of unique values in columns:\n",
      "\n",
      " work_year                4\n",
      "experience_level         4\n",
      "employment_type          4\n",
      "job_title              118\n",
      "salary                1294\n",
      "salary_currency         22\n",
      "salary_in_usd         1566\n",
      "employee_residence      85\n",
      "remote_ratio             3\n",
      "company_location        73\n",
      "company_size             3\n",
      "dtype: int64\n"
     ]
    }
   ],
   "source": [
    "# Exploring unique values per each column of the dataset\n",
    "\n",
    "print(\"Number of unique values in columns:\\n\\n\", df.nunique())"
   ]
  },
  {
   "cell_type": "markdown",
   "id": "4120f368",
   "metadata": {},
   "source": [
    "With this exploration we can highlight some columns with many unique values, it will be important to analyze if we can work with these data or we will have to group them to reduce the size of the dataset.\n",
    "\n",
    "- Job_title\n",
    "- Salary\n",
    "- Salary_in_usd\n",
    "- Employee_residence\n",
    "- Company location"
   ]
  },
  {
   "cell_type": "markdown",
   "id": "f439b15a",
   "metadata": {},
   "source": [
    "### Overview data"
   ]
  },
  {
   "cell_type": "code",
   "execution_count": null,
   "id": "1906e6a6",
   "metadata": {},
   "outputs": [],
   "source": []
  },
  {
   "cell_type": "markdown",
   "id": "951ed0f8",
   "metadata": {},
   "source": [
    "________"
   ]
  },
  {
   "cell_type": "markdown",
   "id": "b1fd4c5f",
   "metadata": {},
   "source": [
    "## Data cleaning or transform it\n",
    "\n",
    "Once we get all the overall information we can start working with the data and think about what changes we can make to clean up the data or transform it to ensure more meaningful consistency of certain values."
   ]
  },
  {
   "cell_type": "code",
   "execution_count": 10,
   "id": "0fe9c011",
   "metadata": {},
   "outputs": [
    {
     "data": {
      "text/html": [
       "<div>\n",
       "<style scoped>\n",
       "    .dataframe tbody tr th:only-of-type {\n",
       "        vertical-align: middle;\n",
       "    }\n",
       "\n",
       "    .dataframe tbody tr th {\n",
       "        vertical-align: top;\n",
       "    }\n",
       "\n",
       "    .dataframe thead th {\n",
       "        text-align: right;\n",
       "    }\n",
       "</style>\n",
       "<table border=\"1\" class=\"dataframe\">\n",
       "  <thead>\n",
       "    <tr style=\"text-align: right;\">\n",
       "      <th></th>\n",
       "      <th>work_year</th>\n",
       "      <th>experience_level</th>\n",
       "      <th>employment_type</th>\n",
       "      <th>job_title</th>\n",
       "      <th>salary</th>\n",
       "      <th>salary_currency</th>\n",
       "      <th>salary_in_usd</th>\n",
       "      <th>employee_residence</th>\n",
       "      <th>remote_ratio</th>\n",
       "      <th>company_location</th>\n",
       "      <th>company_size</th>\n",
       "    </tr>\n",
       "  </thead>\n",
       "  <tbody>\n",
       "    <tr>\n",
       "      <th>0</th>\n",
       "      <td>2023</td>\n",
       "      <td>MI</td>\n",
       "      <td>FT</td>\n",
       "      <td>Data Scientist</td>\n",
       "      <td>130000</td>\n",
       "      <td>CAD</td>\n",
       "      <td>96313</td>\n",
       "      <td>CA</td>\n",
       "      <td>100</td>\n",
       "      <td>CA</td>\n",
       "      <td>S</td>\n",
       "    </tr>\n",
       "    <tr>\n",
       "      <th>1</th>\n",
       "      <td>2023</td>\n",
       "      <td>SE</td>\n",
       "      <td>FT</td>\n",
       "      <td>Machine Learning Engineer</td>\n",
       "      <td>250000</td>\n",
       "      <td>USD</td>\n",
       "      <td>250000</td>\n",
       "      <td>US</td>\n",
       "      <td>0</td>\n",
       "      <td>US</td>\n",
       "      <td>M</td>\n",
       "    </tr>\n",
       "  </tbody>\n",
       "</table>\n",
       "</div>"
      ],
      "text/plain": [
       "   work_year experience_level employment_type                  job_title  \\\n",
       "0       2023               MI              FT             Data Scientist   \n",
       "1       2023               SE              FT  Machine Learning Engineer   \n",
       "\n",
       "   salary salary_currency  salary_in_usd employee_residence  remote_ratio  \\\n",
       "0  130000             CAD          96313                 CA           100   \n",
       "1  250000             USD         250000                 US             0   \n",
       "\n",
       "  company_location company_size  \n",
       "0               CA            S  \n",
       "1               US            M  "
      ]
     },
     "execution_count": 10,
     "metadata": {},
     "output_type": "execute_result"
    }
   ],
   "source": [
    "# We need to create a copy of the original dataframe before doing any transformation on the original data\n",
    "# We will call the new df \"data_cleaning\" to recognize the process we are working with\n",
    "\n",
    "data_cleaning0 = df.copy()\n",
    "data_cleaning0.head(2)"
   ]
  },
  {
   "cell_type": "markdown",
   "id": "a31f3264",
   "metadata": {},
   "source": [
    "We will have to divide the dataset into numerical and categorical columns."
   ]
  },
  {
   "cell_type": "code",
   "execution_count": 11,
   "id": "b97e99f6",
   "metadata": {},
   "outputs": [
    {
     "data": {
      "text/plain": [
       "work_year              int64\n",
       "experience_level      object\n",
       "employment_type       object\n",
       "job_title             object\n",
       "salary                 int64\n",
       "salary_currency       object\n",
       "salary_in_usd          int64\n",
       "employee_residence    object\n",
       "remote_ratio          object\n",
       "company_location      object\n",
       "company_size          object\n",
       "dtype: object"
      ]
     },
     "execution_count": 11,
     "metadata": {},
     "output_type": "execute_result"
    }
   ],
   "source": [
    "# Before starting cleaning the numerical data we will need to transform the column \"remote_ratio\" into an object column\n",
    "\n",
    "data_cleaning = data_cleaning0.copy()\n",
    "data_cleaning['remote_ratio'] = data_cleaning['remote_ratio'].apply(str)\n",
    "\n",
    "data_cleaning.dtypes"
   ]
  },
  {
   "cell_type": "markdown",
   "id": "86e2a481",
   "metadata": {},
   "source": [
    "## Cleaning numerical data"
   ]
  },
  {
   "cell_type": "code",
   "execution_count": 12,
   "id": "1d502cf8",
   "metadata": {},
   "outputs": [
    {
     "data": {
      "text/html": [
       "<div>\n",
       "<style scoped>\n",
       "    .dataframe tbody tr th:only-of-type {\n",
       "        vertical-align: middle;\n",
       "    }\n",
       "\n",
       "    .dataframe tbody tr th {\n",
       "        vertical-align: top;\n",
       "    }\n",
       "\n",
       "    .dataframe thead th {\n",
       "        text-align: right;\n",
       "    }\n",
       "</style>\n",
       "<table border=\"1\" class=\"dataframe\">\n",
       "  <thead>\n",
       "    <tr style=\"text-align: right;\">\n",
       "      <th></th>\n",
       "      <th>work_year</th>\n",
       "      <th>salary</th>\n",
       "      <th>salary_in_usd</th>\n",
       "    </tr>\n",
       "  </thead>\n",
       "  <tbody>\n",
       "    <tr>\n",
       "      <th>0</th>\n",
       "      <td>2023</td>\n",
       "      <td>130000</td>\n",
       "      <td>96313</td>\n",
       "    </tr>\n",
       "    <tr>\n",
       "      <th>1</th>\n",
       "      <td>2023</td>\n",
       "      <td>250000</td>\n",
       "      <td>250000</td>\n",
       "    </tr>\n",
       "    <tr>\n",
       "      <th>2</th>\n",
       "      <td>2023</td>\n",
       "      <td>140000</td>\n",
       "      <td>140000</td>\n",
       "    </tr>\n",
       "    <tr>\n",
       "      <th>3</th>\n",
       "      <td>2023</td>\n",
       "      <td>45000</td>\n",
       "      <td>48585</td>\n",
       "    </tr>\n",
       "    <tr>\n",
       "      <th>4</th>\n",
       "      <td>2023</td>\n",
       "      <td>40000</td>\n",
       "      <td>43187</td>\n",
       "    </tr>\n",
       "  </tbody>\n",
       "</table>\n",
       "</div>"
      ],
      "text/plain": [
       "   work_year  salary  salary_in_usd\n",
       "0       2023  130000          96313\n",
       "1       2023  250000         250000\n",
       "2       2023  140000         140000\n",
       "3       2023   45000          48585\n",
       "4       2023   40000          43187"
      ]
     },
     "execution_count": 12,
     "metadata": {},
     "output_type": "execute_result"
    }
   ],
   "source": [
    "# Create new DataFrame with numericals columns\n",
    "\n",
    "numericals = data_cleaning.select_dtypes(np.number)\n",
    "numericals.head()"
   ]
  },
  {
   "cell_type": "code",
   "execution_count": 13,
   "id": "52799673",
   "metadata": {},
   "outputs": [
    {
     "data": {
      "text/plain": [
       "work_year        int64\n",
       "salary           int64\n",
       "salary_in_usd    int64\n",
       "dtype: object"
      ]
     },
     "execution_count": 13,
     "metadata": {},
     "output_type": "execute_result"
    }
   ],
   "source": [
    "# Check values dtypes\n",
    "\n",
    "numericals.dtypes"
   ]
  },
  {
   "cell_type": "code",
   "execution_count": 14,
   "id": "1cd82f8d",
   "metadata": {},
   "outputs": [
    {
     "data": {
      "text/plain": [
       "work_year           4\n",
       "salary           1294\n",
       "salary_in_usd    1566\n",
       "dtype: int64"
      ]
     },
     "execution_count": 14,
     "metadata": {},
     "output_type": "execute_result"
    }
   ],
   "source": [
    "# Count number of distinct elements in the numericals DataFrame \n",
    "\n",
    "numericals.nunique()"
   ]
  },
  {
   "cell_type": "markdown",
   "id": "875a79c1",
   "metadata": {},
   "source": [
    "### \"Work_year\""
   ]
  },
  {
   "cell_type": "code",
   "execution_count": 15,
   "id": "8034dd11",
   "metadata": {},
   "outputs": [
    {
     "data": {
      "text/plain": [
       "work_year\n",
       "2023    5652\n",
       "2022    1650\n",
       "2021     218\n",
       "2020      75\n",
       "Name: count, dtype: int64"
      ]
     },
     "execution_count": 15,
     "metadata": {},
     "output_type": "execute_result"
    }
   ],
   "source": [
    "# Check the unique values\n",
    "numericals[\"work_year\"].value_counts()"
   ]
  },
  {
   "cell_type": "code",
   "execution_count": null,
   "id": "22d9dc18",
   "metadata": {},
   "outputs": [],
   "source": []
  },
  {
   "cell_type": "markdown",
   "id": "128ab077",
   "metadata": {},
   "source": [
    "### \"Salary\""
   ]
  },
  {
   "cell_type": "markdown",
   "id": "1dc15b09",
   "metadata": {},
   "source": [
    "What we can take from this analysis is that there are two columns that have a number of values well above the rest. In this case the data is duplicated because we have the same salary/job title in different currencies.\n",
    "\n",
    "To avoid duplications we will analize the salaries only in USD currency.\n",
    "\n",
    "For that, we will remove the \"salary\" column and change the name of the \"salary_in_usd\" column to \"salary\".\n",
    "\n",
    "- \"salary\"\n",
    "- \"salary_in_usd\"\n"
   ]
  },
  {
   "cell_type": "code",
   "execution_count": 16,
   "id": "422786e5",
   "metadata": {},
   "outputs": [
    {
     "ename": "SyntaxError",
     "evalue": "invalid syntax (3265449031.py, line 1)",
     "output_type": "error",
     "traceback": [
      "\u001b[0;36m  Cell \u001b[0;32mIn[16], line 1\u001b[0;36m\u001b[0m\n\u001b[0;31m    Drop \"salary\" column\u001b[0m\n\u001b[0m         ^\u001b[0m\n\u001b[0;31mSyntaxError\u001b[0m\u001b[0;31m:\u001b[0m invalid syntax\n"
     ]
    }
   ],
   "source": [
    "Drop \"salary\" column"
   ]
  },
  {
   "cell_type": "code",
   "execution_count": null,
   "id": "13358b9a",
   "metadata": {},
   "outputs": [],
   "source": [
    "I.e\n",
    "\n",
    "df.drop(labels=[\"colname\"], axis=1, inplace=True)\n",
    "df.rename(columns={\"colname\": \"new_name\"}, inplace=True)\n",
    "df.head()\n",
    "\n",
    "---\n",
    "\n",
    "df.drop(labels=[\"salary\"], axis=1, inplace=True)\n",
    "df.rename(columns={\"salary_in_usd\": \"salary\"}, inplace=True)\n",
    "\n",
    "df.head()"
   ]
  },
  {
   "cell_type": "code",
   "execution_count": null,
   "id": "2b2a2f6f",
   "metadata": {},
   "outputs": [],
   "source": []
  },
  {
   "cell_type": "code",
   "execution_count": null,
   "id": "d0b20a6c",
   "metadata": {},
   "outputs": [],
   "source": []
  },
  {
   "cell_type": "code",
   "execution_count": null,
   "id": "28a25c15",
   "metadata": {},
   "outputs": [],
   "source": []
  },
  {
   "cell_type": "markdown",
   "id": "829e69f4",
   "metadata": {},
   "source": [
    "## Cleaning categorical data"
   ]
  },
  {
   "cell_type": "code",
   "execution_count": 17,
   "id": "42906208",
   "metadata": {},
   "outputs": [
    {
     "ename": "SyntaxError",
     "evalue": "unterminated string literal (detected at line 5) (1125698985.py, line 5)",
     "output_type": "error",
     "traceback": [
      "\u001b[0;36m  Cell \u001b[0;32mIn[17], line 5\u001b[0;36m\u001b[0m\n\u001b[0;31m    Confirm if it's necessary or not\u001b[0m\n\u001b[0m                 ^\u001b[0m\n\u001b[0;31mSyntaxError\u001b[0m\u001b[0;31m:\u001b[0m unterminated string literal (detected at line 5)\n"
     ]
    }
   ],
   "source": [
    "Now, we will proceed to pre-processing the categorical data (clean and transformed).\n",
    "\n",
    "Transform categorical data (encoded) https://www.datacamp.com/tutorial/categorical-data\n",
    "\n",
    "Confirm if it's necessary or not"
   ]
  },
  {
   "cell_type": "code",
   "execution_count": 18,
   "id": "c894e9f5",
   "metadata": {},
   "outputs": [
    {
     "data": {
      "text/html": [
       "<div>\n",
       "<style scoped>\n",
       "    .dataframe tbody tr th:only-of-type {\n",
       "        vertical-align: middle;\n",
       "    }\n",
       "\n",
       "    .dataframe tbody tr th {\n",
       "        vertical-align: top;\n",
       "    }\n",
       "\n",
       "    .dataframe thead th {\n",
       "        text-align: right;\n",
       "    }\n",
       "</style>\n",
       "<table border=\"1\" class=\"dataframe\">\n",
       "  <thead>\n",
       "    <tr style=\"text-align: right;\">\n",
       "      <th></th>\n",
       "      <th>experience_level</th>\n",
       "      <th>employment_type</th>\n",
       "      <th>job_title</th>\n",
       "      <th>salary_currency</th>\n",
       "      <th>employee_residence</th>\n",
       "      <th>remote_ratio</th>\n",
       "      <th>company_location</th>\n",
       "      <th>company_size</th>\n",
       "    </tr>\n",
       "  </thead>\n",
       "  <tbody>\n",
       "    <tr>\n",
       "      <th>0</th>\n",
       "      <td>MI</td>\n",
       "      <td>FT</td>\n",
       "      <td>Data Scientist</td>\n",
       "      <td>CAD</td>\n",
       "      <td>CA</td>\n",
       "      <td>100</td>\n",
       "      <td>CA</td>\n",
       "      <td>S</td>\n",
       "    </tr>\n",
       "    <tr>\n",
       "      <th>1</th>\n",
       "      <td>SE</td>\n",
       "      <td>FT</td>\n",
       "      <td>Machine Learning Engineer</td>\n",
       "      <td>USD</td>\n",
       "      <td>US</td>\n",
       "      <td>0</td>\n",
       "      <td>US</td>\n",
       "      <td>M</td>\n",
       "    </tr>\n",
       "    <tr>\n",
       "      <th>2</th>\n",
       "      <td>SE</td>\n",
       "      <td>FT</td>\n",
       "      <td>Machine Learning Engineer</td>\n",
       "      <td>USD</td>\n",
       "      <td>US</td>\n",
       "      <td>0</td>\n",
       "      <td>US</td>\n",
       "      <td>M</td>\n",
       "    </tr>\n",
       "    <tr>\n",
       "      <th>3</th>\n",
       "      <td>MI</td>\n",
       "      <td>FT</td>\n",
       "      <td>Data Analyst</td>\n",
       "      <td>EUR</td>\n",
       "      <td>PT</td>\n",
       "      <td>100</td>\n",
       "      <td>PT</td>\n",
       "      <td>M</td>\n",
       "    </tr>\n",
       "    <tr>\n",
       "      <th>4</th>\n",
       "      <td>MI</td>\n",
       "      <td>FT</td>\n",
       "      <td>Data Analyst</td>\n",
       "      <td>EUR</td>\n",
       "      <td>PT</td>\n",
       "      <td>100</td>\n",
       "      <td>PT</td>\n",
       "      <td>M</td>\n",
       "    </tr>\n",
       "  </tbody>\n",
       "</table>\n",
       "</div>"
      ],
      "text/plain": [
       "  experience_level employment_type                  job_title salary_currency  \\\n",
       "0               MI              FT             Data Scientist             CAD   \n",
       "1               SE              FT  Machine Learning Engineer             USD   \n",
       "2               SE              FT  Machine Learning Engineer             USD   \n",
       "3               MI              FT               Data Analyst             EUR   \n",
       "4               MI              FT               Data Analyst             EUR   \n",
       "\n",
       "  employee_residence remote_ratio company_location company_size  \n",
       "0                 CA          100               CA            S  \n",
       "1                 US            0               US            M  \n",
       "2                 US            0               US            M  \n",
       "3                 PT          100               PT            M  \n",
       "4                 PT          100               PT            M  "
      ]
     },
     "execution_count": 18,
     "metadata": {},
     "output_type": "execute_result"
    }
   ],
   "source": [
    "# Create new DataFrame with categoricals columns\n",
    "\n",
    "categoricals = data_cleaning.select_dtypes([object])\n",
    "categoricals.head()"
   ]
  },
  {
   "cell_type": "markdown",
   "id": "d27431f8",
   "metadata": {},
   "source": [
    "Looking at the values included in each column we can see that some of them may be confusing, the current values  don't help us to understand the real meaning.\n",
    "\n",
    "The columns affected are:\n",
    "\n",
    "- \"experience_level\"\n",
    "- \"employment_type\"\n",
    "- \"employee_residence\"\n",
    "- \"remote_ratio\"\n",
    "- \"company_location\"\n",
    "- \"company_size\"\n",
    "\n",
    "We will need to evaluate individually to define if we need to replace or group them."
   ]
  },
  {
   "cell_type": "markdown",
   "id": "ea230f77",
   "metadata": {},
   "source": [
    "### \"Experience_level\""
   ]
  },
  {
   "cell_type": "code",
   "execution_count": 19,
   "id": "d55211c8",
   "metadata": {},
   "outputs": [
    {
     "data": {
      "text/plain": [
       "experience_level\n",
       "SE    5468\n",
       "MI    1479\n",
       "EN     417\n",
       "EX     231\n",
       "Name: count, dtype: int64"
      ]
     },
     "execution_count": 19,
     "metadata": {},
     "output_type": "execute_result"
    }
   ],
   "source": [
    "# Check the unique values\n",
    "categoricals[\"experience_level\"].value_counts()"
   ]
  },
  {
   "cell_type": "code",
   "execution_count": 20,
   "id": "5ff0edb8",
   "metadata": {},
   "outputs": [],
   "source": [
    "\"\"\"We know that the real meanings per each value are:\n",
    "    SE - Senior\n",
    "    MI - Mid\n",
    "    EN - Entry\n",
    "    EX - Executive\n",
    "    \n",
    "    We need to apply a <.replace> to replace each value with its real meaning \"\"\"\n",
    "\n",
    "replace_cat = categoricals.copy()\n",
    "replace_cat.experience_level.replace(['EN','MI','SE', 'EX'], ['entry', 'mid', 'senior', 'executive'], inplace = True)"
   ]
  },
  {
   "cell_type": "code",
   "execution_count": 21,
   "id": "c61f76e8",
   "metadata": {},
   "outputs": [
    {
     "data": {
      "text/plain": [
       "experience_level\n",
       "senior       5468\n",
       "mid          1479\n",
       "entry         417\n",
       "executive     231\n",
       "Name: count, dtype: int64"
      ]
     },
     "execution_count": 21,
     "metadata": {},
     "output_type": "execute_result"
    }
   ],
   "source": [
    "# Check if the substitution has been applied correctly\n",
    "\n",
    "replace_cat[\"experience_level\"].value_counts()"
   ]
  },
  {
   "cell_type": "code",
   "execution_count": 32,
   "id": "f0f58162",
   "metadata": {},
   "outputs": [
    {
     "data": {
      "text/plain": [
       "<Axes: xlabel='experience_level', ylabel='Count'>"
      ]
     },
     "execution_count": 32,
     "metadata": {},
     "output_type": "execute_result"
    },
    {
     "data": {
      "image/png": "[encoded data removed]",
      "text/plain": [
       "<Figure size 640x480 with 1 Axes>"
      ]
     },
     "metadata": {},
     "output_type": "display_data"
    }
   ],
   "source": [
    "#  create a plot\n",
    "\n",
    "sns.histplot(x=\"experience_level\", data=replace_cat)"
   ]
  },
  {
   "cell_type": "markdown",
   "id": "63195ae8",
   "metadata": {},
   "source": [
    "### \"Employment_type\""
   ]
  },
  {
   "cell_type": "code",
   "execution_count": 23,
   "id": "b7c1c188",
   "metadata": {},
   "outputs": [
    {
     "data": {
      "text/plain": [
       "employment_type\n",
       "FT    7553\n",
       "CT      18\n",
       "PT      13\n",
       "FL      11\n",
       "Name: count, dtype: int64"
      ]
     },
     "execution_count": 23,
     "metadata": {},
     "output_type": "execute_result"
    }
   ],
   "source": [
    "# Check the unique values\n",
    "categoricals[\"employment_type\"].value_counts()"
   ]
  },
  {
   "cell_type": "code",
   "execution_count": 24,
   "id": "4ecc396b",
   "metadata": {},
   "outputs": [],
   "source": [
    "\"\"\"We know that the real meanings per each value are:\n",
    "    FT - Full_time\n",
    "    CT - Contract\n",
    "    PT - Part_Time\n",
    "    FL - Freelance\n",
    "    \n",
    "    We need to apply a <.replace> to replace each value with its real meaning \"\"\"\n",
    "\n",
    "replace_cat.employment_type.replace(['FT','CT' , 'PT', 'FL'], ['full_time', 'contract', 'part_Time', 'freelance'], inplace = True)"
   ]
  },
  {
   "cell_type": "code",
   "execution_count": 25,
   "id": "0d01c40e",
   "metadata": {},
   "outputs": [
    {
     "data": {
      "text/plain": [
       "employment_type\n",
       "full_time    7553\n",
       "contract       18\n",
       "part_Time      13\n",
       "freelance      11\n",
       "Name: count, dtype: int64"
      ]
     },
     "execution_count": 25,
     "metadata": {},
     "output_type": "execute_result"
    }
   ],
   "source": [
    "replace_cat['employment_type'].value_counts()"
   ]
  },
  {
   "cell_type": "code",
   "execution_count": 41,
   "id": "95b9b65a",
   "metadata": {},
   "outputs": [
    {
     "data": {
      "text/plain": [
       "<Axes: xlabel='employment_type', ylabel='Count'>"
      ]
     },
     "execution_count": 41,
     "metadata": {},
     "output_type": "execute_result"
    },
    {
     "data": {
      "image/png": "[encoded data removed]",
      "text/plain": [
       "<Figure size 640x480 with 1 Axes>"
      ]
     },
     "metadata": {},
     "output_type": "display_data"
    }
   ],
   "source": [
    "# plot\n",
    "\n",
    "# Histograma\n",
    "\n",
    "sns.histplot(x = \"employment_type\", data = replace_cat)"
   ]
  },
  {
   "cell_type": "markdown",
   "id": "f5f77154",
   "metadata": {},
   "source": [
    "### \"Remote_ratio\""
   ]
  },
  {
   "cell_type": "code",
   "execution_count": 27,
   "id": "dc388a27",
   "metadata": {},
   "outputs": [
    {
     "data": {
      "text/plain": [
       "remote_ratio\n",
       "0      4428\n",
       "100    2952\n",
       "50      215\n",
       "Name: count, dtype: int64"
      ]
     },
     "execution_count": 27,
     "metadata": {},
     "output_type": "execute_result"
    }
   ],
   "source": [
    "# Check the unique values\n",
    "categoricals[\"remote_ratio\"].value_counts()"
   ]
  },
  {
   "cell_type": "code",
   "execution_count": 28,
   "id": "718d1d8d",
   "metadata": {},
   "outputs": [],
   "source": [
    "\"\"\"We know that the real meanings per each value are:\n",
    "    0 - No_remote/On_site\n",
    "    50 - Hybrid\n",
    "    100 - Remote\n",
    "    \n",
    "    We need to apply a <.replace> to replace each value with its real meaning \"\"\"\n",
    "\n",
    "replace_cat.remote_ratio.replace(['0','50','100'], ['on_site', 'hybrid', 'remote'], inplace = True)"
   ]
  },
  {
   "cell_type": "code",
   "execution_count": 29,
   "id": "6e964798",
   "metadata": {},
   "outputs": [
    {
     "data": {
      "text/plain": [
       "remote_ratio\n",
       "on_site    4428\n",
       "remote     2952\n",
       "hybrid      215\n",
       "Name: count, dtype: int64"
      ]
     },
     "execution_count": 29,
     "metadata": {},
     "output_type": "execute_result"
    }
   ],
   "source": [
    "replace_cat['remote_ratio'].value_counts()"
   ]
  },
  {
   "cell_type": "code",
   "execution_count": null,
   "id": "a503154f",
   "metadata": {},
   "outputs": [],
   "source": [
    " # create a plot"
   ]
  },
  {
   "cell_type": "markdown",
   "id": "08e81826",
   "metadata": {},
   "source": [
    "### \"Company_size\""
   ]
  },
  {
   "cell_type": "code",
   "execution_count": null,
   "id": "8dd44af1",
   "metadata": {},
   "outputs": [],
   "source": [
    "# Check the unique values\n",
    "categoricals[\"company_size\"].value_counts()"
   ]
  },
  {
   "cell_type": "code",
   "execution_count": null,
   "id": "a5ae03a3",
   "metadata": {},
   "outputs": [],
   "source": [
    "\"\"\"We know that the real meanings per each value are:\n",
    "    S - small\n",
    "    M - medium\n",
    "    L - marge\n",
    "    \n",
    "    We need to apply a <.replace> to replace each value with its real meaning \"\"\"\n",
    "\n",
    "replace_cat.company_size.replace(['S','M','L'], ['small', 'medium', 'large'], inplace = True)"
   ]
  },
  {
   "cell_type": "code",
   "execution_count": null,
   "id": "0dc95e60",
   "metadata": {},
   "outputs": [],
   "source": [
    "replace_cat[\"company_size\"].value_counts()"
   ]
  },
  {
   "cell_type": "code",
   "execution_count": null,
   "id": "138ee7f0",
   "metadata": {},
   "outputs": [],
   "source": [
    " # create a plot"
   ]
  },
  {
   "cell_type": "markdown",
   "id": "d36b34e3",
   "metadata": {},
   "source": [
    "### \"Salary_currency\""
   ]
  },
  {
   "cell_type": "markdown",
   "id": "04577d08",
   "metadata": {},
   "source": [
    "As mentioned above, the salary analysis will be done only with USD currency, that is why we can delete the column \"salary_currency\" to avoid having data that could create interferences in our analysis.\n"
   ]
  },
  {
   "cell_type": "code",
   "execution_count": null,
   "id": "286d7000",
   "metadata": {},
   "outputs": [],
   "source": [
    "# Check the unique values\n",
    "categoricals[\"salary_currency\"].value_counts()"
   ]
  },
  {
   "cell_type": "code",
   "execution_count": null,
   "id": "d995ed71",
   "metadata": {},
   "outputs": [],
   "source": [
    "replace_cat.drop([\"salary_currency\"], axis=1, inplace=True)"
   ]
  },
  {
   "cell_type": "code",
   "execution_count": null,
   "id": "a3ea3cd7",
   "metadata": {},
   "outputs": [],
   "source": [
    "#Check if the column has been dropped correctly\n",
    "\n",
    "replace_cat.head()"
   ]
  },
  {
   "cell_type": "code",
   "execution_count": null,
   "id": "37c8a746",
   "metadata": {},
   "outputs": [],
   "source": [
    " # create a plot"
   ]
  },
  {
   "cell_type": "code",
   "execution_count": null,
   "id": "4e570301",
   "metadata": {},
   "outputs": [],
   "source": []
  },
  {
   "cell_type": "markdown",
   "id": "cfed349e",
   "metadata": {},
   "source": [
    "### \"Employee_residence\" & \"Company_location\""
   ]
  },
  {
   "cell_type": "code",
   "execution_count": null,
   "id": "170dbeac",
   "metadata": {},
   "outputs": [],
   "source": [
    "print(\"Number of unique values in employee_residence column is:\\n\\n\", categoricals[\"employee_residence\"].nunique())"
   ]
  },
  {
   "cell_type": "code",
   "execution_count": null,
   "id": "86bb6f98",
   "metadata": {},
   "outputs": [],
   "source": [
    "print(\"Number of unique values in company_locations column is:\\n\\n\", categoricals[\"company_location\"].nunique())"
   ]
  },
  {
   "cell_type": "markdown",
   "id": "2717ec63",
   "metadata": {},
   "source": [
    "We want to replace the codes for locations or country names\n",
    "\n",
    "Python has a function called \"pycountry\" (https://pypi.org/project/pycountry/) that provides the ISO databases for countries and others. We know that the <codes> in our database are encoded based on the \"ISO\" because it's specified in the \"Legend\" in the web from where we have extracted the database (https://ai-jobs.net/salaries/)."
   ]
  },
  {
   "cell_type": "code",
   "execution_count": null,
   "id": "8c487bf7",
   "metadata": {},
   "outputs": [],
   "source": [
    "\"\"\"\" We want to replace the locations and countries residence codes \n",
    "for employees and companies to reduce the values size\n",
    "\n",
    "We will need to use a For Loop to go from code to code \n",
    "\n",
    "\"\"\"\"\n",
    "\n",
    "import pycountry\n",
    "\n",
    "input_countries = [\"employee_residence\"]\n",
    "\n",
    "employees_countries = {}\n",
    "for country in pycountry.countries:\n",
    "    \n",
    "\n",
    "\n",
    "\n",
    "\n",
    "https://stackoverflow.com/questions/16253060/how-to-convert-country-names-to-iso-3166-1-alpha-2-values-using-python\n",
    "\n",
    "https://snyk.io/advisor/python/pycountry/functions/pycountry.countries.get"
   ]
  },
  {
   "cell_type": "code",
   "execution_count": null,
   "id": "11ce41a1",
   "metadata": {},
   "outputs": [],
   "source": [
    "# create a plot"
   ]
  },
  {
   "cell_type": "code",
   "execution_count": null,
   "id": "c93e4110",
   "metadata": {},
   "outputs": [],
   "source": []
  },
  {
   "cell_type": "code",
   "execution_count": null,
   "id": "895183ec",
   "metadata": {},
   "outputs": [],
   "source": []
  },
  {
   "cell_type": "markdown",
   "id": "01f51ff2",
   "metadata": {},
   "source": [
    "### \"Job_title\""
   ]
  },
  {
   "cell_type": "code",
   "execution_count": 42,
   "id": "0b715e72",
   "metadata": {},
   "outputs": [
    {
     "data": {
      "text/plain": [
       "job_title\n",
       "Data Engineer                    1815\n",
       "Data Scientist                   1601\n",
       "Data Analyst                     1148\n",
       "Machine Learning Engineer         762\n",
       "Applied Scientist                 212\n",
       "                                 ... \n",
       "BI Data Engineer                    1\n",
       "Analytics Engineering Manager       1\n",
       "Data DevOps Engineer                1\n",
       "AWS Data Architect                  1\n",
       "Sales Data Analyst                  1\n",
       "Name: count, Length: 118, dtype: int64"
      ]
     },
     "execution_count": 42,
     "metadata": {},
     "output_type": "execute_result"
    }
   ],
   "source": [
    "# Check the unique values\n",
    "categoricals[\"job_title\"].value_counts()"
   ]
  },
  {
   "cell_type": "code",
   "execution_count": null,
   "id": "9892d15c",
   "metadata": {},
   "outputs": [],
   "source": []
  },
  {
   "cell_type": "code",
   "execution_count": null,
   "id": "fceec356",
   "metadata": {},
   "outputs": [],
   "source": []
  }
 ],
 "metadata": {
  "kernelspec": {
   "display_name": "environment_mbp",
   "language": "python",
   "name": "environment_mbp"
  },
  "language_info": {
   "codemirror_mode": {
    "name": "ipython",
    "version": 3
   },
   "file_extension": ".py",
   "mimetype": "text/x-python",
   "name": "python",
   "nbconvert_exporter": "python",
   "pygments_lexer": "ipython3",
   "version": "3.11.3"
  }
 },
 "nbformat": 4,
 "nbformat_minor": 5
}
